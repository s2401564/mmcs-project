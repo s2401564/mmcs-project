{
 "cells": [
  {
   "cell_type": "code",
   "execution_count": 1,
   "id": "0b5e0257",
   "metadata": {},
   "outputs": [],
   "source": [
    "import xpress as xp\n",
    "import pandas as pd\n",
    "import numpy as np\n",
    "import os\n",
    "import matplotlib.pyplot as plt"
   ]
  },
  {
   "cell_type": "code",
   "execution_count": 2,
   "id": "379385d9",
   "metadata": {},
   "outputs": [],
   "source": [
    "# Create a problem called location\n",
    "\n",
    "location = xp.problem(name='location')"
   ]
  },
  {
   "cell_type": "code",
   "execution_count": 119,
   "id": "13c2c8c2",
   "metadata": {},
   "outputs": [
    {
     "name": "stdout",
     "output_type": "stream",
     "text": [
      "Collecting package metadata (current_repodata.json): done\n",
      "Solving environment: done\n",
      "\n",
      "# All requested packages already installed.\n",
      "\n",
      "Retrieving notices: ...working... done\n",
      "\n",
      "Note: you may need to restart the kernel to use updated packages.\n"
     ]
    }
   ],
   "source": [
    "conda install -c anaconda openpyxl"
   ]
  },
  {
   "cell_type": "markdown",
   "id": "147aa826",
   "metadata": {},
   "source": [
    "# load the data"
   ]
  },
  {
   "cell_type": "code",
   "execution_count": 3,
   "id": "51c94360",
   "metadata": {
    "scrolled": true
   },
   "outputs": [],
   "source": [
    "# current charging points\n",
    "\n",
    "charg_point_path = os.path.join('Project_data/Charging_points.xlsx')\n",
    "charg_point = pd.read_excel(charg_point_path)"
   ]
  },
  {
   "cell_type": "code",
   "execution_count": 6,
   "id": "e82182be",
   "metadata": {},
   "outputs": [
    {
     "data": {
      "text/html": [
       "<div>\n",
       "<style scoped>\n",
       "    .dataframe tbody tr th:only-of-type {\n",
       "        vertical-align: middle;\n",
       "    }\n",
       "\n",
       "    .dataframe tbody tr th {\n",
       "        vertical-align: top;\n",
       "    }\n",
       "\n",
       "    .dataframe thead th {\n",
       "        text-align: right;\n",
       "    }\n",
       "</style>\n",
       "<table border=\"1\" class=\"dataframe\">\n",
       "  <thead>\n",
       "    <tr style=\"text-align: right;\">\n",
       "      <th></th>\n",
       "      <th>CP ID</th>\n",
       "      <th>Type</th>\n",
       "      <th>geometry</th>\n",
       "      <th>Latitude</th>\n",
       "      <th>Longitude</th>\n",
       "      <th>grid number</th>\n",
       "    </tr>\n",
       "  </thead>\n",
       "  <tbody>\n",
       "    <tr>\n",
       "      <th>0</th>\n",
       "      <td>51085</td>\n",
       "      <td>Slow</td>\n",
       "      <td>POINT (-3.011192785069142 56.47296514001275)</td>\n",
       "      <td>56.472965</td>\n",
       "      <td>-3.011193</td>\n",
       "      <td>146</td>\n",
       "    </tr>\n",
       "    <tr>\n",
       "      <th>1</th>\n",
       "      <td>SCO50884</td>\n",
       "      <td>Fast</td>\n",
       "      <td>POINT (-3.057191218106697 56.46983341001484)</td>\n",
       "      <td>56.469833</td>\n",
       "      <td>-3.057191</td>\n",
       "      <td>76</td>\n",
       "    </tr>\n",
       "    <tr>\n",
       "      <th>2</th>\n",
       "      <td>50264</td>\n",
       "      <td>Slow</td>\n",
       "      <td>POINT (-2.917475282989725 56.48982926001875)</td>\n",
       "      <td>56.489829</td>\n",
       "      <td>-2.917475</td>\n",
       "      <td>304</td>\n",
       "    </tr>\n",
       "    <tr>\n",
       "      <th>3</th>\n",
       "      <td>50263</td>\n",
       "      <td>Slow</td>\n",
       "      <td>POINT (-2.91751565698979 56.48972199001865)</td>\n",
       "      <td>56.489722</td>\n",
       "      <td>-2.917516</td>\n",
       "      <td>304</td>\n",
       "    </tr>\n",
       "    <tr>\n",
       "      <th>4</th>\n",
       "      <td>50274</td>\n",
       "      <td>Fast</td>\n",
       "      <td>POINT (-2.966478267037299 56.46149715999641)</td>\n",
       "      <td>56.461497</td>\n",
       "      <td>-2.966478</td>\n",
       "      <td>214</td>\n",
       "    </tr>\n",
       "  </tbody>\n",
       "</table>\n",
       "</div>"
      ],
      "text/plain": [
       "      CP ID  Type                                      geometry   Latitude  \\\n",
       "0     51085  Slow  POINT (-3.011192785069142 56.47296514001275)  56.472965   \n",
       "1  SCO50884  Fast  POINT (-3.057191218106697 56.46983341001484)  56.469833   \n",
       "2     50264  Slow  POINT (-2.917475282989725 56.48982926001875)  56.489829   \n",
       "3     50263  Slow   POINT (-2.91751565698979 56.48972199001865)  56.489722   \n",
       "4     50274  Fast  POINT (-2.966478267037299 56.46149715999641)  56.461497   \n",
       "\n",
       "   Longitude  grid number  \n",
       "0  -3.011193          146  \n",
       "1  -3.057191           76  \n",
       "2  -2.917475          304  \n",
       "3  -2.917516          304  \n",
       "4  -2.966478          214  "
      ]
     },
     "execution_count": 6,
     "metadata": {},
     "output_type": "execute_result"
    }
   ],
   "source": [
    "charg_point.head()"
   ]
  },
  {
   "cell_type": "code",
   "execution_count": 7,
   "id": "437cc532",
   "metadata": {},
   "outputs": [],
   "source": [
    "# expected demand for the next four years\n",
    "\n",
    "demand_path = os.path.join('Project_data/Demand_data.xlsx')\n",
    "demand = pd.read_excel(demand_path)"
   ]
  },
  {
   "cell_type": "code",
   "execution_count": 8,
   "id": "a50cf387",
   "metadata": {},
   "outputs": [
    {
     "data": {
      "text/html": [
       "<div>\n",
       "<style scoped>\n",
       "    .dataframe tbody tr th:only-of-type {\n",
       "        vertical-align: middle;\n",
       "    }\n",
       "\n",
       "    .dataframe tbody tr th {\n",
       "        vertical-align: top;\n",
       "    }\n",
       "\n",
       "    .dataframe thead th {\n",
       "        text-align: right;\n",
       "    }\n",
       "</style>\n",
       "<table border=\"1\" class=\"dataframe\">\n",
       "  <thead>\n",
       "    <tr style=\"text-align: right;\">\n",
       "      <th></th>\n",
       "      <th>Ref</th>\n",
       "      <th>geometry</th>\n",
       "      <th>Number of Charging Points</th>\n",
       "      <th>Number of Slow Charging Points</th>\n",
       "      <th>Number of Fast Charging Points</th>\n",
       "      <th>Number of Rapid Charging Points</th>\n",
       "      <th>Number of PoI</th>\n",
       "      <th>Number of Potential Locations</th>\n",
       "      <th>Distance from Centre</th>\n",
       "      <th>NEIGHBORS</th>\n",
       "      <th>Demand_0</th>\n",
       "      <th>Demand_1</th>\n",
       "      <th>Demand_2</th>\n",
       "      <th>Demand_3</th>\n",
       "    </tr>\n",
       "  </thead>\n",
       "  <tbody>\n",
       "    <tr>\n",
       "      <th>100</th>\n",
       "      <td>101</td>\n",
       "      <td>POLYGON ((-3.044190289672857 56.4533005586958,...</td>\n",
       "      <td>0</td>\n",
       "      <td>0</td>\n",
       "      <td>0</td>\n",
       "      <td>0</td>\n",
       "      <td>0</td>\n",
       "      <td>1</td>\n",
       "      <td>4442.921761</td>\n",
       "      <td>[86, 87, 88, 100, 102, 114, 115, 116]</td>\n",
       "      <td>0.0</td>\n",
       "      <td>0.000000</td>\n",
       "      <td>72.230017</td>\n",
       "      <td>241.821149</td>\n",
       "    </tr>\n",
       "    <tr>\n",
       "      <th>101</th>\n",
       "      <td>102</td>\n",
       "      <td>POLYGON ((-3.044324704148503 56.45819844677619...</td>\n",
       "      <td>0</td>\n",
       "      <td>0</td>\n",
       "      <td>0</td>\n",
       "      <td>0</td>\n",
       "      <td>0</td>\n",
       "      <td>3</td>\n",
       "      <td>4375.167312</td>\n",
       "      <td>[87, 88, 89, 101, 103, 115, 116, 117]</td>\n",
       "      <td>0.0</td>\n",
       "      <td>444.631572</td>\n",
       "      <td>968.172278</td>\n",
       "      <td>1627.425046</td>\n",
       "    </tr>\n",
       "    <tr>\n",
       "      <th>102</th>\n",
       "      <td>103</td>\n",
       "      <td>POLYGON ((-3.044459160842206 56.46309633075683...</td>\n",
       "      <td>0</td>\n",
       "      <td>0</td>\n",
       "      <td>0</td>\n",
       "      <td>0</td>\n",
       "      <td>1</td>\n",
       "      <td>11</td>\n",
       "      <td>4374.844088</td>\n",
       "      <td>[88, 89, 90, 102, 104, 116, 117, 118]</td>\n",
       "      <td>0.0</td>\n",
       "      <td>443.063371</td>\n",
       "      <td>1007.432635</td>\n",
       "      <td>1783.221659</td>\n",
       "    </tr>\n",
       "    <tr>\n",
       "      <th>103</th>\n",
       "      <td>104</td>\n",
       "      <td>POLYGON ((-3.044593659772223 56.46799421063793...</td>\n",
       "      <td>0</td>\n",
       "      <td>0</td>\n",
       "      <td>0</td>\n",
       "      <td>0</td>\n",
       "      <td>1</td>\n",
       "      <td>3</td>\n",
       "      <td>4441.966808</td>\n",
       "      <td>[89, 90, 91, 103, 105, 117, 118, 119]</td>\n",
       "      <td>0.0</td>\n",
       "      <td>444.257814</td>\n",
       "      <td>1387.704616</td>\n",
       "      <td>2920.679769</td>\n",
       "    </tr>\n",
       "    <tr>\n",
       "      <th>104</th>\n",
       "      <td>105</td>\n",
       "      <td>POLYGON ((-3.044728200956817 56.47289208641969...</td>\n",
       "      <td>0</td>\n",
       "      <td>0</td>\n",
       "      <td>0</td>\n",
       "      <td>0</td>\n",
       "      <td>0</td>\n",
       "      <td>2</td>\n",
       "      <td>4573.566879</td>\n",
       "      <td>[90, 91, 92, 104, 106, 118, 119, 120]</td>\n",
       "      <td>0.0</td>\n",
       "      <td>0.000000</td>\n",
       "      <td>488.563483</td>\n",
       "      <td>1595.447338</td>\n",
       "    </tr>\n",
       "    <tr>\n",
       "      <th>105</th>\n",
       "      <td>106</td>\n",
       "      <td>POLYGON ((-3.044862784414267 56.4777899581023,...</td>\n",
       "      <td>0</td>\n",
       "      <td>0</td>\n",
       "      <td>0</td>\n",
       "      <td>0</td>\n",
       "      <td>0</td>\n",
       "      <td>1</td>\n",
       "      <td>4764.304294</td>\n",
       "      <td>[91, 92, 93, 105, 107, 119, 120, 121]</td>\n",
       "      <td>0.0</td>\n",
       "      <td>0.000000</td>\n",
       "      <td>873.458540</td>\n",
       "      <td>2708.092266</td>\n",
       "    </tr>\n",
       "  </tbody>\n",
       "</table>\n",
       "</div>"
      ],
      "text/plain": [
       "     Ref                                           geometry  \\\n",
       "100  101  POLYGON ((-3.044190289672857 56.4533005586958,...   \n",
       "101  102  POLYGON ((-3.044324704148503 56.45819844677619...   \n",
       "102  103  POLYGON ((-3.044459160842206 56.46309633075683...   \n",
       "103  104  POLYGON ((-3.044593659772223 56.46799421063793...   \n",
       "104  105  POLYGON ((-3.044728200956817 56.47289208641969...   \n",
       "105  106  POLYGON ((-3.044862784414267 56.4777899581023,...   \n",
       "\n",
       "     Number of Charging Points  Number of Slow Charging Points  \\\n",
       "100                          0                               0   \n",
       "101                          0                               0   \n",
       "102                          0                               0   \n",
       "103                          0                               0   \n",
       "104                          0                               0   \n",
       "105                          0                               0   \n",
       "\n",
       "     Number of Fast Charging Points  Number of Rapid Charging Points  \\\n",
       "100                               0                                0   \n",
       "101                               0                                0   \n",
       "102                               0                                0   \n",
       "103                               0                                0   \n",
       "104                               0                                0   \n",
       "105                               0                                0   \n",
       "\n",
       "     Number of PoI  Number of Potential Locations  Distance from Centre  \\\n",
       "100              0                              1           4442.921761   \n",
       "101              0                              3           4375.167312   \n",
       "102              1                             11           4374.844088   \n",
       "103              1                              3           4441.966808   \n",
       "104              0                              2           4573.566879   \n",
       "105              0                              1           4764.304294   \n",
       "\n",
       "                                 NEIGHBORS  Demand_0    Demand_1     Demand_2  \\\n",
       "100  [86, 87, 88, 100, 102, 114, 115, 116]       0.0    0.000000    72.230017   \n",
       "101  [87, 88, 89, 101, 103, 115, 116, 117]       0.0  444.631572   968.172278   \n",
       "102  [88, 89, 90, 102, 104, 116, 117, 118]       0.0  443.063371  1007.432635   \n",
       "103  [89, 90, 91, 103, 105, 117, 118, 119]       0.0  444.257814  1387.704616   \n",
       "104  [90, 91, 92, 104, 106, 118, 119, 120]       0.0    0.000000   488.563483   \n",
       "105  [91, 92, 93, 105, 107, 119, 120, 121]       0.0    0.000000   873.458540   \n",
       "\n",
       "        Demand_3  \n",
       "100   241.821149  \n",
       "101  1627.425046  \n",
       "102  1783.221659  \n",
       "103  2920.679769  \n",
       "104  1595.447338  \n",
       "105  2708.092266  "
      ]
     },
     "execution_count": 8,
     "metadata": {},
     "output_type": "execute_result"
    }
   ],
   "source": [
    "demand.loc[100:105]"
   ]
  },
  {
   "cell_type": "code",
   "execution_count": 9,
   "id": "4d57ef3d",
   "metadata": {},
   "outputs": [],
   "source": [
    "# points of interest in each grid\n",
    "\n",
    "interest_point_path = os.path.join('Project_data/Interest _points.xlsx')\n",
    "interest_point = pd.read_excel(interest_point_path)"
   ]
  },
  {
   "cell_type": "code",
   "execution_count": 10,
   "id": "bbe51796",
   "metadata": {
    "scrolled": false
   },
   "outputs": [
    {
     "data": {
      "text/html": [
       "<div>\n",
       "<style scoped>\n",
       "    .dataframe tbody tr th:only-of-type {\n",
       "        vertical-align: middle;\n",
       "    }\n",
       "\n",
       "    .dataframe tbody tr th {\n",
       "        vertical-align: top;\n",
       "    }\n",
       "\n",
       "    .dataframe thead th {\n",
       "        text-align: right;\n",
       "    }\n",
       "</style>\n",
       "<table border=\"1\" class=\"dataframe\">\n",
       "  <thead>\n",
       "    <tr style=\"text-align: right;\">\n",
       "      <th></th>\n",
       "      <th>amenity</th>\n",
       "      <th>geometry</th>\n",
       "      <th>Latitude</th>\n",
       "      <th>Longitude</th>\n",
       "      <th>grid number</th>\n",
       "    </tr>\n",
       "  </thead>\n",
       "  <tbody>\n",
       "    <tr>\n",
       "      <th>0</th>\n",
       "      <td>restaurant</td>\n",
       "      <td>POINT (-2.852617986940523 56.48412800000578)</td>\n",
       "      <td>56.484128</td>\n",
       "      <td>-2.852618</td>\n",
       "      <td>400</td>\n",
       "    </tr>\n",
       "    <tr>\n",
       "      <th>1</th>\n",
       "      <td>restaurant</td>\n",
       "      <td>POINT (-2.849993386942502 56.47134889999293)</td>\n",
       "      <td>56.471349</td>\n",
       "      <td>-2.849993</td>\n",
       "      <td>398</td>\n",
       "    </tr>\n",
       "    <tr>\n",
       "      <th>2</th>\n",
       "      <td>restaurant</td>\n",
       "      <td>POINT (-2.872495786961546 56.46693379999114)</td>\n",
       "      <td>56.466934</td>\n",
       "      <td>-2.872496</td>\n",
       "      <td>369</td>\n",
       "    </tr>\n",
       "    <tr>\n",
       "      <th>3</th>\n",
       "      <td>restaurant</td>\n",
       "      <td>POINT (-2.873346686962511 56.46599179999032)</td>\n",
       "      <td>56.465992</td>\n",
       "      <td>-2.873347</td>\n",
       "      <td>369</td>\n",
       "    </tr>\n",
       "    <tr>\n",
       "      <th>4</th>\n",
       "      <td>restaurant</td>\n",
       "      <td>POINT (-2.873426086962618 56.46584759999016)</td>\n",
       "      <td>56.465848</td>\n",
       "      <td>-2.873426</td>\n",
       "      <td>369</td>\n",
       "    </tr>\n",
       "  </tbody>\n",
       "</table>\n",
       "</div>"
      ],
      "text/plain": [
       "      amenity                                      geometry   Latitude  \\\n",
       "0  restaurant  POINT (-2.852617986940523 56.48412800000578)  56.484128   \n",
       "1  restaurant  POINT (-2.849993386942502 56.47134889999293)  56.471349   \n",
       "2  restaurant  POINT (-2.872495786961546 56.46693379999114)  56.466934   \n",
       "3  restaurant  POINT (-2.873346686962511 56.46599179999032)  56.465992   \n",
       "4  restaurant  POINT (-2.873426086962618 56.46584759999016)  56.465848   \n",
       "\n",
       "   Longitude  grid number  \n",
       "0  -2.852618          400  \n",
       "1  -2.849993          398  \n",
       "2  -2.872496          369  \n",
       "3  -2.873347          369  \n",
       "4  -2.873426          369  "
      ]
     },
     "execution_count": 10,
     "metadata": {},
     "output_type": "execute_result"
    }
   ],
   "source": [
    "interest_point.head()"
   ]
  },
  {
   "cell_type": "code",
   "execution_count": 11,
   "id": "0873c5c5",
   "metadata": {},
   "outputs": [
    {
     "data": {
      "text/plain": [
       "{'restaurant', 'school', 'supermarket'}"
      ]
     },
     "execution_count": 11,
     "metadata": {},
     "output_type": "execute_result"
    }
   ],
   "source": [
    "amenity1 = set(interest_point['amenity'])\n",
    "amenity1\n",
    "\n",
    "# more cars at which place?\n",
    "# for example, many restaurants at 369"
   ]
  },
  {
   "cell_type": "code",
   "execution_count": 12,
   "id": "789929bc",
   "metadata": {},
   "outputs": [],
   "source": [
    "# potential charging points\n",
    "\n",
    "pt_charg_point_path = os.path.join('Project_data/Potential_charging_points.xlsx')\n",
    "pt_charg_point = pd.read_excel(pt_charg_point_path)"
   ]
  },
  {
   "cell_type": "code",
   "execution_count": 13,
   "id": "60d16ba6",
   "metadata": {},
   "outputs": [
    {
     "data": {
      "text/html": [
       "<div>\n",
       "<style scoped>\n",
       "    .dataframe tbody tr th:only-of-type {\n",
       "        vertical-align: middle;\n",
       "    }\n",
       "\n",
       "    .dataframe tbody tr th {\n",
       "        vertical-align: top;\n",
       "    }\n",
       "\n",
       "    .dataframe thead th {\n",
       "        text-align: right;\n",
       "    }\n",
       "</style>\n",
       "<table border=\"1\" class=\"dataframe\">\n",
       "  <thead>\n",
       "    <tr style=\"text-align: right;\">\n",
       "      <th></th>\n",
       "      <th>amenity</th>\n",
       "      <th>geometry</th>\n",
       "      <th>Latitude</th>\n",
       "      <th>Longitude</th>\n",
       "      <th>grid number</th>\n",
       "    </tr>\n",
       "  </thead>\n",
       "  <tbody>\n",
       "    <tr>\n",
       "      <th>0</th>\n",
       "      <td>parking</td>\n",
       "      <td>POINT (-3.046891287099621 56.46621650001012)</td>\n",
       "      <td>56.466217</td>\n",
       "      <td>-3.046891</td>\n",
       "      <td>89</td>\n",
       "    </tr>\n",
       "    <tr>\n",
       "      <th>1</th>\n",
       "      <td>fuel</td>\n",
       "      <td>POINT (-2.848473686941031 56.47224079999363)</td>\n",
       "      <td>56.472241</td>\n",
       "      <td>-2.848474</td>\n",
       "      <td>412</td>\n",
       "    </tr>\n",
       "    <tr>\n",
       "      <th>2</th>\n",
       "      <td>parking</td>\n",
       "      <td>POINT (-2.895034186977277 56.47320819999986)</td>\n",
       "      <td>56.473208</td>\n",
       "      <td>-2.895034</td>\n",
       "      <td>328</td>\n",
       "    </tr>\n",
       "    <tr>\n",
       "      <th>3</th>\n",
       "      <td>fuel</td>\n",
       "      <td>POINT (-2.963304387034162 56.46350399999802)</td>\n",
       "      <td>56.463504</td>\n",
       "      <td>-2.963304</td>\n",
       "      <td>228</td>\n",
       "    </tr>\n",
       "    <tr>\n",
       "      <th>4</th>\n",
       "      <td>fuel</td>\n",
       "      <td>POINT (-2.9776499870463 56.46097389999711)</td>\n",
       "      <td>56.460974</td>\n",
       "      <td>-2.977650</td>\n",
       "      <td>200</td>\n",
       "    </tr>\n",
       "  </tbody>\n",
       "</table>\n",
       "</div>"
      ],
      "text/plain": [
       "   amenity                                      geometry   Latitude  \\\n",
       "0  parking  POINT (-3.046891287099621 56.46621650001012)  56.466217   \n",
       "1     fuel  POINT (-2.848473686941031 56.47224079999363)  56.472241   \n",
       "2  parking  POINT (-2.895034186977277 56.47320819999986)  56.473208   \n",
       "3     fuel  POINT (-2.963304387034162 56.46350399999802)  56.463504   \n",
       "4     fuel    POINT (-2.9776499870463 56.46097389999711)  56.460974   \n",
       "\n",
       "   Longitude  grid number  \n",
       "0  -3.046891           89  \n",
       "1  -2.848474          412  \n",
       "2  -2.895034          328  \n",
       "3  -2.963304          228  \n",
       "4  -2.977650          200  "
      ]
     },
     "execution_count": 13,
     "metadata": {},
     "output_type": "execute_result"
    }
   ],
   "source": [
    "pt_charg_point.head()"
   ]
  },
  {
   "cell_type": "code",
   "execution_count": 14,
   "id": "feb8a0e9",
   "metadata": {},
   "outputs": [],
   "source": [
    "# Defining the index set\n",
    "\n",
    "number_of_grids = 434\n",
    "number_of_years = 4\n",
    "grids = range(number_of_grids)\n",
    "years = range(number_of_years)"
   ]
  },
  {
   "cell_type": "code",
   "execution_count": 15,
   "id": "003f54d6",
   "metadata": {},
   "outputs": [],
   "source": [
    "# the demand every slow/ fast/ rapid chargers can satisfy\n",
    "slow_c = [2000, 3500]\n",
    "fast_c = [4000, 5200]\n",
    "rapid_c = [30000, 50500]"
   ]
  },
  {
   "cell_type": "code",
   "execution_count": null,
   "id": "19cf2699",
   "metadata": {},
   "outputs": [],
   "source": []
  },
  {
   "cell_type": "markdown",
   "id": "81272aab",
   "metadata": {},
   "source": [
    "# decision variables"
   ]
  },
  {
   "cell_type": "code",
   "execution_count": 16,
   "id": "bc91190d",
   "metadata": {},
   "outputs": [],
   "source": [
    "# how many slow/ fast/ rapid connectors to have in each potential grid in year t\n",
    "x1 = np.array([xp.var(vartype = xp.integer, name='x1_{0}_{1}'.format(t,i+1))\n",
    "                    for t in years for i in grids]).reshape(number_of_years, number_of_grids)\n",
    "x2 = np.array([xp.var(vartype = xp.integer, name='x2_{0}_{1}'.format(t,i+1))\n",
    "                    for t in years for i in grids]).reshape(number_of_years, number_of_grids)\n",
    "x3 = np.array([xp.var(vartype = xp.integer, name='x3_{0}_{1}'.format(t,i+1))\n",
    "                    for t in years for i in grids]).reshape(number_of_years, number_of_grids)\n",
    "location.addVariable(x1, x2, x3)"
   ]
  },
  {
   "cell_type": "code",
   "execution_count": 17,
   "id": "d54038a5",
   "metadata": {},
   "outputs": [],
   "source": [
    "# for each grid, demand can be satisfied by this grid and its neighbours\n",
    "y = np.array([xp.var( name='y_{0}_{1}'.format(t,i+1))\n",
    "                    for t in years for i in grids], dtype=xp.npvar).reshape(number_of_years, number_of_grids)"
   ]
  },
  {
   "cell_type": "markdown",
   "id": "2dfe9eda",
   "metadata": {},
   "source": [
    "# constraints"
   ]
  },
  {
   "cell_type": "code",
   "execution_count": 18,
   "id": "85410edb",
   "metadata": {},
   "outputs": [
    {
     "data": {
      "text/html": [
       "<div>\n",
       "<style scoped>\n",
       "    .dataframe tbody tr th:only-of-type {\n",
       "        vertical-align: middle;\n",
       "    }\n",
       "\n",
       "    .dataframe tbody tr th {\n",
       "        vertical-align: top;\n",
       "    }\n",
       "\n",
       "    .dataframe thead th {\n",
       "        text-align: right;\n",
       "    }\n",
       "</style>\n",
       "<table border=\"1\" class=\"dataframe\">\n",
       "  <thead>\n",
       "    <tr style=\"text-align: right;\">\n",
       "      <th></th>\n",
       "      <th>amenity</th>\n",
       "      <th>geometry</th>\n",
       "      <th>Latitude</th>\n",
       "      <th>Longitude</th>\n",
       "    </tr>\n",
       "    <tr>\n",
       "      <th>grid number</th>\n",
       "      <th></th>\n",
       "      <th></th>\n",
       "      <th></th>\n",
       "      <th></th>\n",
       "    </tr>\n",
       "  </thead>\n",
       "  <tbody>\n",
       "    <tr>\n",
       "      <th>61</th>\n",
       "      <td>2</td>\n",
       "      <td>2</td>\n",
       "      <td>2</td>\n",
       "      <td>2</td>\n",
       "    </tr>\n",
       "    <tr>\n",
       "      <th>75</th>\n",
       "      <td>3</td>\n",
       "      <td>3</td>\n",
       "      <td>3</td>\n",
       "      <td>3</td>\n",
       "    </tr>\n",
       "    <tr>\n",
       "      <th>76</th>\n",
       "      <td>4</td>\n",
       "      <td>4</td>\n",
       "      <td>4</td>\n",
       "      <td>4</td>\n",
       "    </tr>\n",
       "    <tr>\n",
       "      <th>77</th>\n",
       "      <td>1</td>\n",
       "      <td>1</td>\n",
       "      <td>1</td>\n",
       "      <td>1</td>\n",
       "    </tr>\n",
       "    <tr>\n",
       "      <th>88</th>\n",
       "      <td>3</td>\n",
       "      <td>3</td>\n",
       "      <td>3</td>\n",
       "      <td>3</td>\n",
       "    </tr>\n",
       "    <tr>\n",
       "      <th>...</th>\n",
       "      <td>...</td>\n",
       "      <td>...</td>\n",
       "      <td>...</td>\n",
       "      <td>...</td>\n",
       "    </tr>\n",
       "    <tr>\n",
       "      <th>385</th>\n",
       "      <td>1</td>\n",
       "      <td>1</td>\n",
       "      <td>1</td>\n",
       "      <td>1</td>\n",
       "    </tr>\n",
       "    <tr>\n",
       "      <th>397</th>\n",
       "      <td>1</td>\n",
       "      <td>1</td>\n",
       "      <td>1</td>\n",
       "      <td>1</td>\n",
       "    </tr>\n",
       "    <tr>\n",
       "      <th>399</th>\n",
       "      <td>2</td>\n",
       "      <td>2</td>\n",
       "      <td>2</td>\n",
       "      <td>2</td>\n",
       "    </tr>\n",
       "    <tr>\n",
       "      <th>400</th>\n",
       "      <td>3</td>\n",
       "      <td>3</td>\n",
       "      <td>3</td>\n",
       "      <td>3</td>\n",
       "    </tr>\n",
       "    <tr>\n",
       "      <th>412</th>\n",
       "      <td>1</td>\n",
       "      <td>1</td>\n",
       "      <td>1</td>\n",
       "      <td>1</td>\n",
       "    </tr>\n",
       "  </tbody>\n",
       "</table>\n",
       "<p>98 rows × 4 columns</p>\n",
       "</div>"
      ],
      "text/plain": [
       "             amenity  geometry  Latitude  Longitude\n",
       "grid number                                        \n",
       "61                 2         2         2          2\n",
       "75                 3         3         3          3\n",
       "76                 4         4         4          4\n",
       "77                 1         1         1          1\n",
       "88                 3         3         3          3\n",
       "...              ...       ...       ...        ...\n",
       "385                1         1         1          1\n",
       "397                1         1         1          1\n",
       "399                2         2         2          2\n",
       "400                3         3         3          3\n",
       "412                1         1         1          1\n",
       "\n",
       "[98 rows x 4 columns]"
      ]
     },
     "execution_count": 18,
     "metadata": {},
     "output_type": "execute_result"
    }
   ],
   "source": [
    "# for each potential charging point, we can install one or more charging stations\n",
    "grid_pt_charg = pt_charg_point.groupby('grid number').count()\n",
    "grid_pt_charg"
   ]
  },
  {
   "cell_type": "code",
   "execution_count": 19,
   "id": "26c035d2",
   "metadata": {},
   "outputs": [
    {
     "data": {
      "text/plain": [
       "3"
      ]
     },
     "execution_count": 19,
     "metadata": {},
     "output_type": "execute_result"
    }
   ],
   "source": [
    "num_grid_pt = number_of_grids*[0]\n",
    "for ind in grid_pt_charg.index:\n",
    "    # print(ind)\n",
    "    # print(grid_pt_charg.iloc[ind]['grid number'])\n",
    "    num_grid_pt[ind-1] = grid_pt_charg.loc[ind]['amenity']\n",
    "num_grid_pt[75-1]"
   ]
  },
  {
   "cell_type": "markdown",
   "id": "069f0e6e",
   "metadata": {},
   "source": [
    "# constraint 1"
   ]
  },
  {
   "cell_type": "code",
   "execution_count": 20,
   "id": "f102a56f",
   "metadata": {},
   "outputs": [],
   "source": [
    "# demand can be satisfied by itself and its neighbour grids"
   ]
  },
  {
   "cell_type": "code",
   "execution_count": 21,
   "id": "009aa229",
   "metadata": {},
   "outputs": [],
   "source": [
    "sat_demand = number_of_grids*[0]\n",
    "for ind in charg_point.index:\n",
    "    # for one current charging point, 2 chargers\n",
    "    # already satisfied demand\n",
    "    if charg_point.iloc[ind]['Type'] == 'Slow':\n",
    "        sat_demand[charg_point.iloc[ind]['grid number']-1] += 2* slow_c[1]\n",
    "    elif charg_point.iloc[ind]['Type'] == 'Fast':\n",
    "        sat_demand[charg_point.iloc[ind]['grid number']-1] += 2* fast_c[1]\n",
    "    elif charg_point.iloc[ind]['Type'] == 'Rapid':\n",
    "        sat_demand[charg_point.iloc[ind]['grid number']-1] += 2* rapid_c[1]"
   ]
  },
  {
   "cell_type": "code",
   "execution_count": 22,
   "id": "753b2de5",
   "metadata": {},
   "outputs": [],
   "source": [
    "for i in grids:\n",
    "    y[0,i] = xp.Sum((slow_c[1]*x1[t1,i] + fast_c[1]*x2[t1,i] + rapid_c[1]*x3[t1,i] + sat_demand[i]) for t1 in range(1))\n",
    "    y[1,i] = xp.Sum((slow_c[1]*x1[t1,i] + fast_c[1]*x2[t1,i] + rapid_c[1]*x3[t1,i] + sat_demand[i]) for t1 in range(2))\n",
    "    y[2,i] = xp.Sum((slow_c[1]*x1[t1,i] + fast_c[1]*x2[t1,i] + rapid_c[1]*x3[t1,i] + sat_demand[i]) for t1 in range(3))\n",
    "    y[3,i] = xp.Sum((slow_c[1]*x1[t1,i] + fast_c[1]*x2[t1,i] + rapid_c[1]*x3[t1,i] + sat_demand[i]) for t1 in range(4))\n",
    "\n",
    "\n",
    "\n",
    "for ind in demand.index:\n",
    "    #print(demand.loc[ind]['Ref'],demand.loc[ind]['NEIGHBORS'])\n",
    "    i = demand.loc[ind]['Ref']-1\n",
    "    neighbour_list = demand.loc[ind]['NEIGHBORS'].strip('[').strip(']').replace(' ','')\n",
    "    neighbour_list = neighbour_list.split(',')\n",
    "    for x in neighbour_list:\n",
    "        \n",
    "        x = int(x)-1\n",
    "        y[0,i] += xp.Sum((slow_c[1]*x1[t1,x] + fast_c[1]*x2[t1,x] + rapid_c[1]*x3[t1,x] + sat_demand[x]) for t1 in range(1))\n",
    "        y[1,i] += xp.Sum((slow_c[1]*x1[t1,x] + fast_c[1]*x2[t1,x] + rapid_c[1]*x3[t1,x] + sat_demand[x]) for t1 in range(2))\n",
    "        y[2,i] += xp.Sum((slow_c[1]*x1[t1,x] + fast_c[1]*x2[t1,x] + rapid_c[1]*x3[t1,x] + sat_demand[x]) for t1 in range(3))\n",
    "        y[3,i] += xp.Sum((slow_c[1]*x1[t1,x] + fast_c[1]*x2[t1,x] + rapid_c[1]*x3[t1,x] + sat_demand[x]) for t1 in range(4))"
   ]
  },
  {
   "cell_type": "code",
   "execution_count": 23,
   "id": "20627dba",
   "metadata": {},
   "outputs": [],
   "source": [
    "# satisfying demand of the 4 years\n",
    "# demand can also be satisfied by neighbour girds\n",
    "location.addConstraint(y[0,i]>= 0.8*demand.loc[demand['Ref'] == i+1, 'Demand_0'].iloc[0] for i in grids)\n",
    "location.addConstraint(y[1,i]>= 0.8*demand.loc[demand['Ref'] == i+1, 'Demand_1'].iloc[0] for i in grids)\n",
    "location.addConstraint(y[2,i]>= 0.8*demand.loc[demand['Ref'] == i+1, 'Demand_2'].iloc[0] for i in grids)\n",
    "location.addConstraint(y[3,i]>= 0.8*demand.loc[demand['Ref'] == i+1, 'Demand_3'].iloc[0] for i in grids)"
   ]
  },
  {
   "cell_type": "markdown",
   "id": "c3f899b8",
   "metadata": {},
   "source": [
    "# constraint 2"
   ]
  },
  {
   "cell_type": "code",
   "execution_count": 24,
   "id": "d162e8c6",
   "metadata": {},
   "outputs": [],
   "source": [
    "# upper bound of new chargers each year for each grid\n",
    "for i in grids:\n",
    "    nearby_demand_0 = demand.loc[demand['Ref']== i+1]['Demand_0']\n",
    "    nearby_demand_1 = demand.loc[demand['Ref']== i+1]['Demand_1']\n",
    "    nearby_demand_2 = demand.loc[demand['Ref']== i+1]['Demand_2']\n",
    "    nearby_demand_3 = demand.loc[demand['Ref']== i+1]['Demand_3']\n",
    "    neighbour_list = demand.loc[i]['NEIGHBORS'].strip('[').strip(']').replace(' ','')\n",
    "    neighbour_list = neighbour_list.split(',')\n",
    "    for x in neighbour_list:\n",
    "        x = int(x)-1\n",
    "        nearby_demand_0 += demand.loc[x]['Demand_0']\n",
    "        nearby_demand_1 += demand.loc[x]['Demand_1']\n",
    "        nearby_demand_2 += demand.loc[x]['Demand_2']\n",
    "        nearby_demand_3 += demand.loc[x]['Demand_3']\n",
    "    \n",
    "    grid_max_0 = (0.8*nearby_demand_0/slow_c[0] - 2*demand.loc[demand['Ref']== i+1]['Number of Charging Points'])[i]\n",
    "    grid_max_1 = (0.8*nearby_demand_1/slow_c[0] - 2*demand.loc[demand['Ref']== i+1]['Number of Charging Points'])[i]\n",
    "    grid_max_2 = (0.8*nearby_demand_2/slow_c[0] - 2*demand.loc[demand['Ref']== i+1]['Number of Charging Points'])[i]\n",
    "    grid_max_3 = (0.8*nearby_demand_3/slow_c[0] - 2*demand.loc[demand['Ref']== i+1]['Number of Charging Points'])[i]\n",
    "    if grid_max_0 < 0:\n",
    "        grid_max_0 = 0\n",
    "    if grid_max_1 < 0:\n",
    "        grid_max_1 = 0\n",
    "    if grid_max_2 < 0:\n",
    "        grid_max_2 = 0\n",
    "    if grid_max_3 < 0:\n",
    "        grid_max_3 = 0\n",
    "    location.addConstraint(x1[t,i] + x2[t,i] + x3[t,i] <= grid_max_0 for t in range(1))\n",
    "    location.addConstraint(x1[t,i] + x2[t,i] + x3[t,i] <= grid_max_1 for t in range(1,2))\n",
    "    location.addConstraint(x1[t,i] + x2[t,i] + x3[t,i] <= grid_max_2 for t in range(2,3))\n",
    "    location.addConstraint(x1[t,i] + x2[t,i] + x3[t,i] <= grid_max_3 for t in range(3,4))"
   ]
  },
  {
   "cell_type": "markdown",
   "id": "fc384fd6",
   "metadata": {},
   "source": [
    "# constraint 3"
   ]
  },
  {
   "cell_type": "code",
   "execution_count": 25,
   "id": "f3be8183",
   "metadata": {},
   "outputs": [],
   "source": [
    "# grids in city center\n",
    "\n",
    "center_grid = [184,185,186,187,188,198,199,200,201,202,212,213,214,215,216,226,227,228,229,230,240,241,242,243,244]"
   ]
  },
  {
   "cell_type": "code",
   "execution_count": 26,
   "id": "05613033",
   "metadata": {},
   "outputs": [],
   "source": [
    "# stricter limit on the number of new chargers for grids in city center\n",
    "\n",
    "for i in center_grid:\n",
    "    i = i-1\n",
    "    nearby_demand_0 = demand.loc[demand['Ref']== i+1]['Demand_0']\n",
    "    nearby_demand_1 = demand.loc[demand['Ref']== i+1]['Demand_1']\n",
    "    nearby_demand_2 = demand.loc[demand['Ref']== i+1]['Demand_2']\n",
    "    nearby_demand_3 = demand.loc[demand['Ref']== i+1]['Demand_3']\n",
    "    neighbour_list = demand.loc[i]['NEIGHBORS'].strip('[').strip(']').replace(' ','')\n",
    "    neighbour_list = neighbour_list.split(',')\n",
    "    for x in neighbour_list:\n",
    "        x = int(x)-1\n",
    "        nearby_demand_0 += demand.loc[x]['Demand_0']\n",
    "        nearby_demand_1 += demand.loc[x]['Demand_1']\n",
    "        nearby_demand_2 += demand.loc[x]['Demand_2']\n",
    "        nearby_demand_3 += demand.loc[x]['Demand_3']\n",
    "    \n",
    "    grid_max_0 = (0.6*nearby_demand_0/slow_c[0] - 2*demand.loc[demand['Ref']== i+1]['Number of Charging Points'])[i]\n",
    "    grid_max_1 = (0.6*nearby_demand_1/slow_c[0] - 2*demand.loc[demand['Ref']== i+1]['Number of Charging Points'])[i]\n",
    "    grid_max_2 = (0.6*nearby_demand_2/slow_c[0] - 2*demand.loc[demand['Ref']== i+1]['Number of Charging Points'])[i]\n",
    "    grid_max_3 = (0.6*nearby_demand_3/slow_c[0] - 2*demand.loc[demand['Ref']== i+1]['Number of Charging Points'])[i]\n",
    "    if grid_max_0 < 0:\n",
    "        grid_max_0 = 0\n",
    "    if grid_max_1 < 0:\n",
    "        grid_max_1 = 0\n",
    "    if grid_max_2 < 0:\n",
    "        grid_max_2 = 0\n",
    "    if grid_max_3 < 0:\n",
    "        grid_max_3 = 0\n",
    "    location.addConstraint(x1[t,i] + x2[t,i] + x3[t,i] <= grid_max_0 for t in range(1))\n",
    "    location.addConstraint(x1[t,i] + x2[t,i] + x3[t,i] <= grid_max_1 for t in range(1,2))\n",
    "    location.addConstraint(x1[t,i] + x2[t,i] + x3[t,i] <= grid_max_2 for t in range(2,3))\n",
    "    location.addConstraint(x1[t,i] + x2[t,i] + x3[t,i] <= grid_max_3 for t in range(3,4))"
   ]
  },
  {
   "cell_type": "markdown",
   "id": "c663c156",
   "metadata": {},
   "source": [
    "# constraint 4"
   ]
  },
  {
   "cell_type": "code",
   "execution_count": 27,
   "id": "58b4de26",
   "metadata": {},
   "outputs": [],
   "source": [
    "# we want to see a variety of types of chargers\n",
    "# some vehicles cannot use rapid chargers\n",
    "\n",
    "location.addConstraint(xp.Sum(x3[t,i] for t in years for i in grids) >= \n",
    "                       0.2*xp.Sum(x1[t,i]+x2[t,i]+x3[t,i] for t in years for i in grids))\n",
    "location.addConstraint(xp.Sum(x1[t,i] for t in years for i in grids) >= \n",
    "                       0.2*xp.Sum(x1[t,i]+x2[t,i]+x3[t,i] for t in years for i in grids))\n",
    "location.addConstraint(xp.Sum(x2[t,i] for t in years for i in grids) >= \n",
    "                       0.2*xp.Sum(x1[t,i]+x2[t,i]+x3[t,i] for t in years for i in grids))\n",
    "location.addConstraint(xp.Sum(x3[t,i] for t in years for i in grids) <= \n",
    "                       0.4*xp.Sum(x1[t,i]+x2[t,i]+x3[t,i] for t in years for i in grids))"
   ]
  },
  {
   "cell_type": "markdown",
   "id": "447c6016",
   "metadata": {},
   "source": [
    "# constraint 5"
   ]
  },
  {
   "cell_type": "code",
   "execution_count": 28,
   "id": "8bb826f2",
   "metadata": {},
   "outputs": [],
   "source": [
    "# if no potential locations in this grid, then no new chargers\n",
    "\n",
    "for ind in demand.index:\n",
    "    if demand.loc[ind]['Number of Potential Locations'] == 0:\n",
    "        location.addConstraint(x1[t,ind] == 0 for t in years)\n",
    "        location.addConstraint(x2[t,ind] == 0 for t in years)\n",
    "        location.addConstraint(x3[t,ind] == 0 for t in years)"
   ]
  },
  {
   "cell_type": "markdown",
   "id": "bcc5fb1a",
   "metadata": {},
   "source": [
    "# constraint 6"
   ]
  },
  {
   "cell_type": "code",
   "execution_count": 29,
   "id": "1fab89a8",
   "metadata": {},
   "outputs": [],
   "source": [
    "# nonnegative constraint\n",
    "\n",
    "location.addConstraint(x1[t,i] >= 0 for t in years for i in grids)\n",
    "location.addConstraint(x2[t,i] >= 0 for t in years for i in grids)\n",
    "location.addConstraint(x3[t,i] >= 0 for t in years for i in grids)"
   ]
  },
  {
   "cell_type": "code",
   "execution_count": null,
   "id": "ff8153a8",
   "metadata": {},
   "outputs": [],
   "source": []
  },
  {
   "cell_type": "markdown",
   "id": "0573c190",
   "metadata": {},
   "source": [
    "# Objective function"
   ]
  },
  {
   "cell_type": "code",
   "execution_count": 30,
   "id": "00c650c9",
   "metadata": {},
   "outputs": [],
   "source": [
    "# list for all grids, grids with current charging points, value = 1\n",
    "\n",
    "charg_pt_exist = number_of_grids*[0]\n",
    "for ind in demand.index:\n",
    "    if demand.loc[ind]['Number of Charging Points'] > 0:\n",
    "        charg_pt_exist[ind] = 1"
   ]
  },
  {
   "cell_type": "code",
   "execution_count": 31,
   "id": "1717c1b8",
   "metadata": {},
   "outputs": [],
   "source": [
    "location.setObjective(xp.Sum(charg_pt_exist[i]* xp.Sum(x1[t,i]+x2[t,i]+x3[t,i] for t in years) \n",
    "                             for i in grids),\n",
    "                     sense = xp.maximize)"
   ]
  },
  {
   "cell_type": "code",
   "execution_count": 32,
   "id": "84f5891f",
   "metadata": {},
   "outputs": [
    {
     "name": "stdout",
     "output_type": "stream",
     "text": [
      "FICO Xpress v8.13.7, Hyper, solve started 14:16:18, Nov 28, 2022\n",
      "Heap usage: 8140KB (peak 8140KB, 2722KB system)\n",
      "Maximizing MILP location using up to 8 threads, with these control settings:\n",
      "OUTPUTLOG = 1\n",
      "Original problem has:\n",
      "     12816 rows         5208 cols       144780 elements      5208 globals\n",
      "Presolved problem has:\n",
      "       281 rows          810 cols         4164 elements       810 globals\n",
      "LP relaxation tightened\n",
      "Presolve finished in 0 seconds\n",
      "Heap usage: 6867KB (peak 17MB, 2722KB system)\n",
      "\n",
      "Coefficient range                    original                 solved        \n",
      "  Coefficients   [min,max] : [ 2.00e-01,  5.05e+04] / [ 2.00e-01,  1.93e+00]\n",
      "  RHS and bounds [min,max] : [ 1.29e-03,  3.09e+06] / [ 1.00e+00,  1.05e+02]\n",
      "  Objective      [min,max] : [ 1.00e+00,  1.00e+00] / [ 1.00e+00,  1.00e+00]\n",
      "Autoscaling applied standard scaling\n",
      "\n",
      "Symmetric problem: generators: 146, support set: 726\n",
      " Number of orbits: 166, largest orbit: 66\n",
      " Row orbits: 42, row support: 188\n",
      "Will try to keep branch and bound tree memory usage below 15.1GB\n",
      " *** Solution found:     8.000000   Time:   0    Heuristic: e ***\n",
      " *** Solution found:  1601.000000   Time:   0    Heuristic: h ***\n",
      "Starting concurrent solve with dual (1 thread)\n",
      "\n",
      " Concurrent-Solve,   0s\n",
      "            Dual        \n",
      "    objective   dual inf\n",
      " D  1601.0000   .0000000\n",
      "-------- cutoff --------\n",
      "Concurrent statistics:\n",
      "      Dual: 61 simplex iterations, 0.00s\n",
      "Problem is cut off\n",
      " *** Search completed ***\n",
      "Uncrunching matrix\n",
      "Final MIP objective                   : 1.601000000000000e+03\n",
      "Final MIP bound                       : 1.601000000000000e+03\n",
      "  Solution time / primaldual integral :         0s/ 96.999898%\n",
      "  Number of solutions found / nodes   :         2 /         0\n",
      "  Max primal violation      (abs/rel) :       0.0 /       0.0\n",
      "  Max integer violation     (abs    ) :       0.0\n"
     ]
    }
   ],
   "source": [
    "location.solve()"
   ]
  },
  {
   "cell_type": "code",
   "execution_count": 33,
   "id": "6dea364f",
   "metadata": {},
   "outputs": [
    {
     "name": "stdout",
     "output_type": "stream",
     "text": [
      "The objective function value is 1601.0\n"
     ]
    }
   ],
   "source": [
    "print(f'The objective function value is {location.getObjVal()}') "
   ]
  },
  {
   "cell_type": "markdown",
   "id": "6f172a36",
   "metadata": {},
   "source": [
    "# some prints about the new chargers bulit every year"
   ]
  },
  {
   "cell_type": "code",
   "execution_count": 34,
   "id": "3401dacf",
   "metadata": {},
   "outputs": [
    {
     "name": "stdout",
     "output_type": "stream",
     "text": [
      "Sum of slow chargers in the four years: 503.0\n",
      "Sum of fast chargers in the four years: 629.0\n",
      "Sum of rapid chargers in the four years: 539.0\n",
      "Percentage of slow chargers:  0.30101735487731895\n",
      "Percentage of fast chargers:  0.37642130460801915\n",
      "Percentage of rapid chargers:  0.3225613405146619\n"
     ]
    }
   ],
   "source": [
    "print('Sum of slow chargers in the four years:', location.getSolution(xp.Sum(x1[t,i] for t in years for i in grids)))\n",
    "print('Sum of fast chargers in the four years:', location.getSolution(xp.Sum(x2[t,i] for t in years for i in grids)))\n",
    "print('Sum of rapid chargers in the four years:', location.getSolution(xp.Sum(x3[t,i] for t in years for i in grids)))\n",
    "sum_of_charg = location.getSolution(xp.Sum(x1[t,i]+x2[t,i]+x3[t,i] for t in years for i in grids))\n",
    "print('Percentage of slow chargers: ',location.getSolution(xp.Sum(x1[t,i] for t in years for i in grids))/sum_of_charg)\n",
    "print('Percentage of fast chargers: ',location.getSolution(xp.Sum(x2[t,i] for t in years for i in grids))/sum_of_charg)\n",
    "print('Percentage of rapid chargers: ',location.getSolution(xp.Sum(x3[t,i] for t in years for i in grids))/sum_of_charg)"
   ]
  },
  {
   "cell_type": "code",
   "execution_count": 35,
   "id": "bfa5e0c2",
   "metadata": {},
   "outputs": [
    {
     "name": "stdout",
     "output_type": "stream",
     "text": [
      "Sum of slow chargers in the first year:  33.0\n",
      "Sum of fast chargers in the first year:  193.0\n",
      "Sum of rapid chargers in the first year:  27.0\n",
      "Percentage of slow chargers:  0.13043478260869565\n",
      "Percentage of fast chargers:  0.7628458498023716\n",
      "Percentage of rapid chargers:  0.1067193675889328\n"
     ]
    }
   ],
   "source": [
    "print('Sum of slow chargers in the first year: ', location.getSolution(xp.Sum(x1[0,i] for i in grids)))\n",
    "print('Sum of fast chargers in the first year: ', location.getSolution(xp.Sum(x2[0,i] for i in grids)))\n",
    "print('Sum of rapid chargers in the first year: ', location.getSolution(xp.Sum(x3[0,i] for i in grids)))\n",
    "first_sum_of_charg = location.getSolution(xp.Sum(x1[0,i]+x2[0,i]+x3[0,i] for i in grids))\n",
    "print('Percentage of slow chargers: ',location.getSolution(xp.Sum(x1[0,i] for i in grids))/first_sum_of_charg)\n",
    "print('Percentage of fast chargers: ',location.getSolution(xp.Sum(x2[0,i] for i in grids))/first_sum_of_charg)\n",
    "print('Percentage of rapid chargers: ',location.getSolution(xp.Sum(x3[0,i] for i in grids))/first_sum_of_charg)"
   ]
  },
  {
   "cell_type": "code",
   "execution_count": 36,
   "id": "897a246c",
   "metadata": {},
   "outputs": [
    {
     "name": "stdout",
     "output_type": "stream",
     "text": [
      "Sum of slow chargers in the second year:  10.0\n",
      "Sum of fast chargers in the second year:  132.0\n",
      "Sum of rapid chargers in the second year:  159.0\n",
      "Percentage of slow chargers:  0.03322259136212625\n",
      "Percentage of fast chargers:  0.43853820598006643\n",
      "Percentage of rapid chargers:  0.5282392026578073\n"
     ]
    }
   ],
   "source": [
    "print('Sum of slow chargers in the second year: ', location.getSolution(xp.Sum(x1[1,i] for i in grids)))\n",
    "print('Sum of fast chargers in the second year: ', location.getSolution(xp.Sum(x2[1,i] for i in grids)))\n",
    "print('Sum of rapid chargers in the second year: ', location.getSolution(xp.Sum(x3[1,i] for i in grids)))\n",
    "sec_sum_of_charg = location.getSolution(xp.Sum(x1[1,i]+x2[1,i]+x3[1,i] for i in grids))\n",
    "print('Percentage of slow chargers: ',location.getSolution(xp.Sum(x1[1,i] for i in grids))/sec_sum_of_charg)\n",
    "print('Percentage of fast chargers: ',location.getSolution(xp.Sum(x2[1,i] for i in grids))/sec_sum_of_charg)\n",
    "print('Percentage of rapid chargers: ',location.getSolution(xp.Sum(x3[1,i] for i in grids))/sec_sum_of_charg)"
   ]
  },
  {
   "cell_type": "code",
   "execution_count": 37,
   "id": "54c99f9f",
   "metadata": {},
   "outputs": [
    {
     "name": "stdout",
     "output_type": "stream",
     "text": [
      "Sum of slow chargers in the third year:  301.0\n",
      "Sum of fast chargers in the third year:  0.0\n",
      "Sum of rapid chargers in the third year:  143.0\n",
      "Percentage of slow chargers:  0.6779279279279279\n",
      "Percentage of fast chargers:  0.0\n",
      "Percentage of rapid chargers:  0.32207207207207206\n"
     ]
    }
   ],
   "source": [
    "print('Sum of slow chargers in the third year: ', location.getSolution(xp.Sum(x1[2,i] for i in grids)))\n",
    "print('Sum of fast chargers in the third year: ', location.getSolution(xp.Sum(x2[2,i] for i in grids)))\n",
    "print('Sum of rapid chargers in the third year: ', location.getSolution(xp.Sum(x3[2,i] for i in grids)))\n",
    "third_sum_of_charg = location.getSolution(xp.Sum(x1[2,i]+x2[2,i]+x3[2,i] for i in grids))\n",
    "print('Percentage of slow chargers: ',location.getSolution(xp.Sum(x1[2,i] for i in grids))/third_sum_of_charg)\n",
    "print('Percentage of fast chargers: ',location.getSolution(xp.Sum(x2[2,i] for i in grids))/third_sum_of_charg)\n",
    "print('Percentage of rapid chargers: ',location.getSolution(xp.Sum(x3[2,i] for i in grids))/third_sum_of_charg)"
   ]
  },
  {
   "cell_type": "code",
   "execution_count": 38,
   "id": "023e2274",
   "metadata": {
    "scrolled": true
   },
   "outputs": [
    {
     "name": "stdout",
     "output_type": "stream",
     "text": [
      "Sum of slow chargers in the fourth year:  159.0\n",
      "Sum of fast chargers in the fourth year:  304.0\n",
      "Sum of rapid chargers in the fourth year:  210.0\n",
      "Percentage of slow chargers:  0.2362555720653789\n",
      "Percentage of fast chargers:  0.45170876671619614\n",
      "Percentage of rapid chargers:  0.31203566121842496\n"
     ]
    }
   ],
   "source": [
    "print('Sum of slow chargers in the fourth year: ', location.getSolution(xp.Sum(x1[3,i] for i in grids)))\n",
    "print('Sum of fast chargers in the fourth year: ', location.getSolution(xp.Sum(x2[3,i] for i in grids)))\n",
    "print('Sum of rapid chargers in the fourth year: ', location.getSolution(xp.Sum(x3[3,i] for i in grids)))\n",
    "four_sum_of_charg = location.getSolution(xp.Sum(x1[3,i]+x2[3,i]+x3[3,i] for i in grids))\n",
    "print('Percentage of slow chargers: ',location.getSolution(xp.Sum(x1[3,i] for i in grids))/four_sum_of_charg)\n",
    "print('Percentage of fast chargers: ',location.getSolution(xp.Sum(x2[3,i] for i in grids))/four_sum_of_charg)\n",
    "print('Percentage of rapid chargers: ',location.getSolution(xp.Sum(x3[3,i] for i in grids))/four_sum_of_charg)"
   ]
  },
  {
   "cell_type": "code",
   "execution_count": 39,
   "id": "b04de08b",
   "metadata": {},
   "outputs": [
    {
     "name": "stdout",
     "output_type": "stream",
     "text": [
      "Number of new chargers in the first year:  253.0\n",
      "Number of new chargers in the second year:  301.0\n",
      "Number of new chargers in the third year:  444.0\n",
      "Number of new chargers in the fourth year:  673.0\n"
     ]
    }
   ],
   "source": [
    "print('Number of new chargers in the first year: ',first_sum_of_charg)\n",
    "print('Number of new chargers in the second year: ',sec_sum_of_charg)\n",
    "print('Number of new chargers in the third year: ',third_sum_of_charg)\n",
    "print('Number of new chargers in the fourth year: ',four_sum_of_charg)"
   ]
  },
  {
   "cell_type": "code",
   "execution_count": 40,
   "id": "4c578892",
   "metadata": {},
   "outputs": [
    {
     "name": "stdout",
     "output_type": "stream",
     "text": [
      "The growth rate of the number of new chargers of the second year:  0.18972332015810275\n",
      "The growth rate of the number of new chargers of the third year:  0.4750830564784053\n",
      "The growth rate of the number of new chargers of the fourth year:  0.5157657657657657\n"
     ]
    }
   ],
   "source": [
    "print('The growth rate of the number of new chargers of the second year: ',\n",
    "      (sec_sum_of_charg-first_sum_of_charg)/first_sum_of_charg)\n",
    "print('The growth rate of the number of new chargers of the third year: ',\n",
    "      (third_sum_of_charg-sec_sum_of_charg)/sec_sum_of_charg)\n",
    "print('The growth rate of the number of new chargers of the fourth year: ',\n",
    "      (four_sum_of_charg-third_sum_of_charg)/third_sum_of_charg)"
   ]
  },
  {
   "cell_type": "code",
   "execution_count": 41,
   "id": "0ffde948",
   "metadata": {},
   "outputs": [],
   "source": [
    "center_grid = [184,185,186,187,188,198,199,200,201,202,212,213,214,215,216,226,227,228,229,230,240,241,242,243,244]"
   ]
  },
  {
   "cell_type": "code",
   "execution_count": 42,
   "id": "a3c888de",
   "metadata": {},
   "outputs": [],
   "source": [
    "first_city_center_sum = location.getSolution(xp.Sum(x1[0,i-1]+x2[0,i-1]+x3[0,i-1] for i in center_grid))\n",
    "sec_city_center_sum = location.getSolution(xp.Sum(x1[1,i-1]+x2[1,i-1]+x3[1,i-1] for i in center_grid))\n",
    "third_city_center_sum = location.getSolution(xp.Sum(x1[2,i-1]+x2[2,i-1]+x3[2,i-1] for i in center_grid))\n",
    "four_city_center_sum = location.getSolution(xp.Sum(x1[3,i-1]+x2[3,i-1]+x3[3,i-1] for i in center_grid))"
   ]
  },
  {
   "cell_type": "code",
   "execution_count": 43,
   "id": "afd169a2",
   "metadata": {},
   "outputs": [
    {
     "name": "stdout",
     "output_type": "stream",
     "text": [
      "Percentage of new chargers in city center in first year:  0.3438735177865613\n",
      "Percentage of new chargers in city center in second year:  0.5083056478405316\n",
      "Percentage of new chargers in city center in third year:  0.5585585585585585\n",
      "Percentage of new chargers in city center in fourth year:  0.5854383358098069\n"
     ]
    }
   ],
   "source": [
    "print('Percentage of new chargers in city center in first year: ', (first_city_center_sum/first_sum_of_charg))\n",
    "print('Percentage of new chargers in city center in second year: ', (sec_city_center_sum/sec_sum_of_charg))\n",
    "print('Percentage of new chargers in city center in third year: ', (third_city_center_sum/third_sum_of_charg))\n",
    "print('Percentage of new chargers in city center in fourth year: ', (four_city_center_sum/four_sum_of_charg))"
   ]
  },
  {
   "cell_type": "code",
   "execution_count": 44,
   "id": "7dfd18ac",
   "metadata": {},
   "outputs": [],
   "source": [
    "slow_c_current = 2*sum(demand['Number of Slow Charging Points'])\n",
    "fast_c_current = 2*sum(demand['Number of Fast Charging Points'])\n",
    "rapid_c_current = 2*sum(demand['Number of Rapid Charging Points'])"
   ]
  },
  {
   "cell_type": "code",
   "execution_count": 45,
   "id": "54a07b50",
   "metadata": {},
   "outputs": [
    {
     "name": "stdout",
     "output_type": "stream",
     "text": [
      "72\n",
      "33.0\n"
     ]
    }
   ],
   "source": [
    "print(slow_c_current)\n",
    "print(location.getSolution(xp.Sum(x1[0,i] for i in grids)))"
   ]
  },
  {
   "cell_type": "code",
   "execution_count": 46,
   "id": "325b059b",
   "metadata": {},
   "outputs": [],
   "source": [
    "a = location.getSolution(xp.Sum(x1[0,i] for i in grids))"
   ]
  },
  {
   "cell_type": "code",
   "execution_count": 47,
   "id": "9b251e43",
   "metadata": {},
   "outputs": [
    {
     "data": {
      "image/png": "[encoded data removed]",
      "text/plain": [
       "<Figure size 1000x700 with 1 Axes>"
      ]
     },
     "metadata": {},
     "output_type": "display_data"
    }
   ],
   "source": [
    "N = 5\n",
    "ind = np.arange(N)\n",
    "width = 0.35\n",
    "slow_chargers = np.array([slow_c_current,location.getSolution(xp.Sum(x1[0,i] for i in grids)),\n",
    "                 location.getSolution(xp.Sum(x1[1,i] for i in grids)),location.getSolution(xp.Sum(x1[2,i] for i in grids)), \n",
    "                 location.getSolution(xp.Sum(x1[3,i] for i in grids))])\n",
    "fast_chargers = np.array([fast_c_current,location.getSolution(xp.Sum(x2[0,i] for i in grids)),\n",
    "                 location.getSolution(xp.Sum(x2[1,i] for i in grids)),location.getSolution(xp.Sum(x2[2,i] for i in grids)), \n",
    "                 location.getSolution(xp.Sum(x2[3,i] for i in grids))])\n",
    "rapid_chargers = np.array([rapid_c_current,location.getSolution(xp.Sum(x3[0,i] for i in grids)),\n",
    "                 location.getSolution(xp.Sum(x3[1,i] for i in grids)),location.getSolution(xp.Sum(x3[2,i] for i in grids)), \n",
    "                  location.getSolution(xp.Sum(x3[3,i] for i in grids))])\n",
    "fig = plt.subplots(figsize =(10,7))\n",
    "p1 = plt.bar(ind, slow_chargers, color='r')\n",
    "p2 = plt.bar(ind, fast_chargers,bottom=slow_chargers, color='b')\n",
    "p3 = plt.bar(ind, rapid_chargers,bottom=slow_chargers+fast_chargers, color='g')\n",
    "plt.ylabel('Number of chargers')\n",
    "plt.title('Number of chargers by year')\n",
    "plt.xticks(ind, ('current', 'year 1', 'year 2', 'year3', 'year4'))\n",
    "plt.legend((p1[0],p2[0],p3[0]),('Slow', 'Fast', 'Rapid'))\n",
    "\n",
    "plt.show()"
   ]
  },
  {
   "cell_type": "code",
   "execution_count": 48,
   "id": "1c803feb",
   "metadata": {},
   "outputs": [],
   "source": [
    "# red grids are grids with new chargers"
   ]
  },
  {
   "cell_type": "code",
   "execution_count": 49,
   "id": "4a992a09",
   "metadata": {
    "scrolled": true
   },
   "outputs": [
    {
     "data": {
      "image/png": "[encoded data removed]",
      "text/plain": [
       "<Figure size 1200x600 with 1 Axes>"
      ]
     },
     "metadata": {},
     "output_type": "display_data"
    }
   ],
   "source": [
    "map_T = np.zeros((31, 14))\n",
    "for i in grids:\n",
    "    if location.getSolution(xp.Sum(x1[t,i]+x2[t,i]+x3[t,i] for t in years)):\n",
    "        x = i//14\n",
    "        y = i %14\n",
    "        map_T[x , y] = 1\n",
    "\n",
    "\n",
    "from matplotlib import colors\n",
    "\n",
    "cmap = colors.ListedColormap(['Blue','red'])\n",
    "plt.figure(figsize=(12,6))\n",
    "plt.pcolor(map_T.T,cmap=cmap,edgecolors='k', linewidths=3)\n",
    "plt.show()"
   ]
  },
  {
   "cell_type": "code",
   "execution_count": null,
   "id": "53afdece",
   "metadata": {},
   "outputs": [],
   "source": []
  }
 ],
 "metadata": {
  "kernelspec": {
   "display_name": "Python 3 (ipykernel)",
   "language": "python",
   "name": "python3"
  },
  "language_info": {
   "codemirror_mode": {
    "name": "ipython",
    "version": 3
   },
   "file_extension": ".py",
   "mimetype": "text/x-python",
   "name": "python",
   "nbconvert_exporter": "python",
   "pygments_lexer": "ipython3",
   "version": "3.9.13"
  }
 },
 "nbformat": 4,
 "nbformat_minor": 5
}
