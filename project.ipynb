{
 "cells": [
  {
   "cell_type": "code",
   "execution_count": 1,
   "id": "0b5e0257",
   "metadata": {},
   "outputs": [],
   "source": [
    "import xpress as xp\n",
    "import pandas as pd\n",
    "import numpy as np\n",
    "import os\n",
    "import matplotlib.pyplot as plt"
   ]
  },
  {
   "cell_type": "code",
   "execution_count": 2,
   "id": "379385d9",
   "metadata": {},
   "outputs": [],
   "source": [
    "# Create a problem called location\n",
    "\n",
    "location = xp.problem(name='location')"
   ]
  },
  {
   "cell_type": "code",
   "execution_count": 119,
   "id": "13c2c8c2",
   "metadata": {},
   "outputs": [
    {
     "name": "stdout",
     "output_type": "stream",
     "text": [
      "Collecting package metadata (current_repodata.json): done\n",
      "Solving environment: done\n",
      "\n",
      "# All requested packages already installed.\n",
      "\n",
      "Retrieving notices: ...working... done\n",
      "\n",
      "Note: you may need to restart the kernel to use updated packages.\n"
     ]
    }
   ],
   "source": [
    "conda install -c anaconda openpyxl"
   ]
  },
  {
   "cell_type": "code",
   "execution_count": 3,
   "id": "51c94360",
   "metadata": {
    "scrolled": true
   },
   "outputs": [],
   "source": [
    "# already existing charging points\n",
    "\n",
    "charg_point_path = os.path.join('Project_data/Charging_points.xlsx')\n",
    "charg_point = pd.read_excel(charg_point_path)"
   ]
  },
  {
   "cell_type": "code",
   "execution_count": 4,
   "id": "e82182be",
   "metadata": {},
   "outputs": [
    {
     "data": {
      "text/html": [
       "<div>\n",
       "<style scoped>\n",
       "    .dataframe tbody tr th:only-of-type {\n",
       "        vertical-align: middle;\n",
       "    }\n",
       "\n",
       "    .dataframe tbody tr th {\n",
       "        vertical-align: top;\n",
       "    }\n",
       "\n",
       "    .dataframe thead th {\n",
       "        text-align: right;\n",
       "    }\n",
       "</style>\n",
       "<table border=\"1\" class=\"dataframe\">\n",
       "  <thead>\n",
       "    <tr style=\"text-align: right;\">\n",
       "      <th></th>\n",
       "      <th>CP ID</th>\n",
       "      <th>Type</th>\n",
       "      <th>geometry</th>\n",
       "      <th>Latitude</th>\n",
       "      <th>Longitude</th>\n",
       "      <th>grid number</th>\n",
       "    </tr>\n",
       "  </thead>\n",
       "  <tbody>\n",
       "    <tr>\n",
       "      <th>0</th>\n",
       "      <td>51085</td>\n",
       "      <td>Slow</td>\n",
       "      <td>POINT (-3.011192785069142 56.47296514001275)</td>\n",
       "      <td>56.472965</td>\n",
       "      <td>-3.011193</td>\n",
       "      <td>146</td>\n",
       "    </tr>\n",
       "    <tr>\n",
       "      <th>1</th>\n",
       "      <td>SCO50884</td>\n",
       "      <td>Fast</td>\n",
       "      <td>POINT (-3.057191218106697 56.46983341001484)</td>\n",
       "      <td>56.469833</td>\n",
       "      <td>-3.057191</td>\n",
       "      <td>76</td>\n",
       "    </tr>\n",
       "    <tr>\n",
       "      <th>2</th>\n",
       "      <td>50264</td>\n",
       "      <td>Slow</td>\n",
       "      <td>POINT (-2.917475282989725 56.48982926001875)</td>\n",
       "      <td>56.489829</td>\n",
       "      <td>-2.917475</td>\n",
       "      <td>304</td>\n",
       "    </tr>\n",
       "    <tr>\n",
       "      <th>3</th>\n",
       "      <td>50263</td>\n",
       "      <td>Slow</td>\n",
       "      <td>POINT (-2.91751565698979 56.48972199001865)</td>\n",
       "      <td>56.489722</td>\n",
       "      <td>-2.917516</td>\n",
       "      <td>304</td>\n",
       "    </tr>\n",
       "    <tr>\n",
       "      <th>4</th>\n",
       "      <td>50274</td>\n",
       "      <td>Fast</td>\n",
       "      <td>POINT (-2.966478267037299 56.46149715999641)</td>\n",
       "      <td>56.461497</td>\n",
       "      <td>-2.966478</td>\n",
       "      <td>214</td>\n",
       "    </tr>\n",
       "  </tbody>\n",
       "</table>\n",
       "</div>"
      ],
      "text/plain": [
       "      CP ID  Type                                      geometry   Latitude  \\\n",
       "0     51085  Slow  POINT (-3.011192785069142 56.47296514001275)  56.472965   \n",
       "1  SCO50884  Fast  POINT (-3.057191218106697 56.46983341001484)  56.469833   \n",
       "2     50264  Slow  POINT (-2.917475282989725 56.48982926001875)  56.489829   \n",
       "3     50263  Slow   POINT (-2.91751565698979 56.48972199001865)  56.489722   \n",
       "4     50274  Fast  POINT (-2.966478267037299 56.46149715999641)  56.461497   \n",
       "\n",
       "   Longitude  grid number  \n",
       "0  -3.011193          146  \n",
       "1  -3.057191           76  \n",
       "2  -2.917475          304  \n",
       "3  -2.917516          304  \n",
       "4  -2.966478          214  "
      ]
     },
     "execution_count": 4,
     "metadata": {},
     "output_type": "execute_result"
    }
   ],
   "source": [
    "charg_point.head()"
   ]
  },
  {
   "cell_type": "code",
   "execution_count": 5,
   "id": "26b04a2e",
   "metadata": {},
   "outputs": [
    {
     "data": {
      "text/plain": [
       "(78, 6)"
      ]
     },
     "execution_count": 5,
     "metadata": {},
     "output_type": "execute_result"
    }
   ],
   "source": [
    "charg_point.shape"
   ]
  },
  {
   "cell_type": "code",
   "execution_count": 6,
   "id": "c40c927c",
   "metadata": {},
   "outputs": [
    {
     "data": {
      "text/plain": [
       "CP ID                                                 51132\n",
       "Type                                                   Fast\n",
       "geometry       POINT (-2.984288107053444 56.45494890999196)\n",
       "Latitude                                          56.454949\n",
       "Longitude                                         -2.984288\n",
       "grid number                                             185\n",
       "Name: 77, dtype: object"
      ]
     },
     "execution_count": 6,
     "metadata": {},
     "output_type": "execute_result"
    }
   ],
   "source": [
    "charg_point.iloc[-1]"
   ]
  },
  {
   "cell_type": "code",
   "execution_count": 7,
   "id": "437cc532",
   "metadata": {},
   "outputs": [],
   "source": [
    "demand_path = os.path.join('Project_data/Demand_data.xlsx')\n",
    "demand = pd.read_excel(demand_path)"
   ]
  },
  {
   "cell_type": "code",
   "execution_count": 8,
   "id": "a50cf387",
   "metadata": {},
   "outputs": [
    {
     "data": {
      "text/html": [
       "<div>\n",
       "<style scoped>\n",
       "    .dataframe tbody tr th:only-of-type {\n",
       "        vertical-align: middle;\n",
       "    }\n",
       "\n",
       "    .dataframe tbody tr th {\n",
       "        vertical-align: top;\n",
       "    }\n",
       "\n",
       "    .dataframe thead th {\n",
       "        text-align: right;\n",
       "    }\n",
       "</style>\n",
       "<table border=\"1\" class=\"dataframe\">\n",
       "  <thead>\n",
       "    <tr style=\"text-align: right;\">\n",
       "      <th></th>\n",
       "      <th>Ref</th>\n",
       "      <th>geometry</th>\n",
       "      <th>Number of Charging Points</th>\n",
       "      <th>Number of Slow Charging Points</th>\n",
       "      <th>Number of Fast Charging Points</th>\n",
       "      <th>Number of Rapid Charging Points</th>\n",
       "      <th>Number of PoI</th>\n",
       "      <th>Number of Potential Locations</th>\n",
       "      <th>Distance from Centre</th>\n",
       "      <th>NEIGHBORS</th>\n",
       "      <th>Demand_0</th>\n",
       "      <th>Demand_1</th>\n",
       "      <th>Demand_2</th>\n",
       "      <th>Demand_3</th>\n",
       "    </tr>\n",
       "  </thead>\n",
       "  <tbody>\n",
       "    <tr>\n",
       "      <th>100</th>\n",
       "      <td>101</td>\n",
       "      <td>POLYGON ((-3.044190289672857 56.4533005586958,...</td>\n",
       "      <td>0</td>\n",
       "      <td>0</td>\n",
       "      <td>0</td>\n",
       "      <td>0</td>\n",
       "      <td>0</td>\n",
       "      <td>1</td>\n",
       "      <td>4442.921761</td>\n",
       "      <td>[86, 87, 88, 100, 102, 114, 115, 116]</td>\n",
       "      <td>0.0</td>\n",
       "      <td>0.000000</td>\n",
       "      <td>72.230017</td>\n",
       "      <td>241.821149</td>\n",
       "    </tr>\n",
       "    <tr>\n",
       "      <th>101</th>\n",
       "      <td>102</td>\n",
       "      <td>POLYGON ((-3.044324704148503 56.45819844677619...</td>\n",
       "      <td>0</td>\n",
       "      <td>0</td>\n",
       "      <td>0</td>\n",
       "      <td>0</td>\n",
       "      <td>0</td>\n",
       "      <td>3</td>\n",
       "      <td>4375.167312</td>\n",
       "      <td>[87, 88, 89, 101, 103, 115, 116, 117]</td>\n",
       "      <td>0.0</td>\n",
       "      <td>444.631572</td>\n",
       "      <td>968.172278</td>\n",
       "      <td>1627.425046</td>\n",
       "    </tr>\n",
       "    <tr>\n",
       "      <th>102</th>\n",
       "      <td>103</td>\n",
       "      <td>POLYGON ((-3.044459160842206 56.46309633075683...</td>\n",
       "      <td>0</td>\n",
       "      <td>0</td>\n",
       "      <td>0</td>\n",
       "      <td>0</td>\n",
       "      <td>1</td>\n",
       "      <td>11</td>\n",
       "      <td>4374.844088</td>\n",
       "      <td>[88, 89, 90, 102, 104, 116, 117, 118]</td>\n",
       "      <td>0.0</td>\n",
       "      <td>443.063371</td>\n",
       "      <td>1007.432635</td>\n",
       "      <td>1783.221659</td>\n",
       "    </tr>\n",
       "    <tr>\n",
       "      <th>103</th>\n",
       "      <td>104</td>\n",
       "      <td>POLYGON ((-3.044593659772223 56.46799421063793...</td>\n",
       "      <td>0</td>\n",
       "      <td>0</td>\n",
       "      <td>0</td>\n",
       "      <td>0</td>\n",
       "      <td>1</td>\n",
       "      <td>3</td>\n",
       "      <td>4441.966808</td>\n",
       "      <td>[89, 90, 91, 103, 105, 117, 118, 119]</td>\n",
       "      <td>0.0</td>\n",
       "      <td>444.257814</td>\n",
       "      <td>1387.704616</td>\n",
       "      <td>2920.679769</td>\n",
       "    </tr>\n",
       "    <tr>\n",
       "      <th>104</th>\n",
       "      <td>105</td>\n",
       "      <td>POLYGON ((-3.044728200956817 56.47289208641969...</td>\n",
       "      <td>0</td>\n",
       "      <td>0</td>\n",
       "      <td>0</td>\n",
       "      <td>0</td>\n",
       "      <td>0</td>\n",
       "      <td>2</td>\n",
       "      <td>4573.566879</td>\n",
       "      <td>[90, 91, 92, 104, 106, 118, 119, 120]</td>\n",
       "      <td>0.0</td>\n",
       "      <td>0.000000</td>\n",
       "      <td>488.563483</td>\n",
       "      <td>1595.447338</td>\n",
       "    </tr>\n",
       "    <tr>\n",
       "      <th>105</th>\n",
       "      <td>106</td>\n",
       "      <td>POLYGON ((-3.044862784414267 56.4777899581023,...</td>\n",
       "      <td>0</td>\n",
       "      <td>0</td>\n",
       "      <td>0</td>\n",
       "      <td>0</td>\n",
       "      <td>0</td>\n",
       "      <td>1</td>\n",
       "      <td>4764.304294</td>\n",
       "      <td>[91, 92, 93, 105, 107, 119, 120, 121]</td>\n",
       "      <td>0.0</td>\n",
       "      <td>0.000000</td>\n",
       "      <td>873.458540</td>\n",
       "      <td>2708.092266</td>\n",
       "    </tr>\n",
       "  </tbody>\n",
       "</table>\n",
       "</div>"
      ],
      "text/plain": [
       "     Ref                                           geometry  \\\n",
       "100  101  POLYGON ((-3.044190289672857 56.4533005586958,...   \n",
       "101  102  POLYGON ((-3.044324704148503 56.45819844677619...   \n",
       "102  103  POLYGON ((-3.044459160842206 56.46309633075683...   \n",
       "103  104  POLYGON ((-3.044593659772223 56.46799421063793...   \n",
       "104  105  POLYGON ((-3.044728200956817 56.47289208641969...   \n",
       "105  106  POLYGON ((-3.044862784414267 56.4777899581023,...   \n",
       "\n",
       "     Number of Charging Points  Number of Slow Charging Points  \\\n",
       "100                          0                               0   \n",
       "101                          0                               0   \n",
       "102                          0                               0   \n",
       "103                          0                               0   \n",
       "104                          0                               0   \n",
       "105                          0                               0   \n",
       "\n",
       "     Number of Fast Charging Points  Number of Rapid Charging Points  \\\n",
       "100                               0                                0   \n",
       "101                               0                                0   \n",
       "102                               0                                0   \n",
       "103                               0                                0   \n",
       "104                               0                                0   \n",
       "105                               0                                0   \n",
       "\n",
       "     Number of PoI  Number of Potential Locations  Distance from Centre  \\\n",
       "100              0                              1           4442.921761   \n",
       "101              0                              3           4375.167312   \n",
       "102              1                             11           4374.844088   \n",
       "103              1                              3           4441.966808   \n",
       "104              0                              2           4573.566879   \n",
       "105              0                              1           4764.304294   \n",
       "\n",
       "                                 NEIGHBORS  Demand_0    Demand_1     Demand_2  \\\n",
       "100  [86, 87, 88, 100, 102, 114, 115, 116]       0.0    0.000000    72.230017   \n",
       "101  [87, 88, 89, 101, 103, 115, 116, 117]       0.0  444.631572   968.172278   \n",
       "102  [88, 89, 90, 102, 104, 116, 117, 118]       0.0  443.063371  1007.432635   \n",
       "103  [89, 90, 91, 103, 105, 117, 118, 119]       0.0  444.257814  1387.704616   \n",
       "104  [90, 91, 92, 104, 106, 118, 119, 120]       0.0    0.000000   488.563483   \n",
       "105  [91, 92, 93, 105, 107, 119, 120, 121]       0.0    0.000000   873.458540   \n",
       "\n",
       "        Demand_3  \n",
       "100   241.821149  \n",
       "101  1627.425046  \n",
       "102  1783.221659  \n",
       "103  2920.679769  \n",
       "104  1595.447338  \n",
       "105  2708.092266  "
      ]
     },
     "execution_count": 8,
     "metadata": {},
     "output_type": "execute_result"
    }
   ],
   "source": [
    "demand.loc[100:105]"
   ]
  },
  {
   "cell_type": "code",
   "execution_count": 9,
   "id": "0f5b6a2c",
   "metadata": {},
   "outputs": [
    {
     "name": "stdout",
     "output_type": "stream",
     "text": [
      "<bound method DataFrame.info of      Ref                                           geometry  \\\n",
      "0      1  POLYGON ((-3.105818823440952 56.44296858524104...   \n",
      "1      2  POLYGON ((-3.105961112538962 56.44786638257236...   \n",
      "2      3  POLYGON ((-3.106103446316349 56.45276417577815...   \n",
      "3      4  POLYGON ((-3.106245824792422 56.45766196485858...   \n",
      "4      5  POLYGON ((-3.106388247986505 56.46255974981385...   \n",
      "..   ...                                                ...   \n",
      "429  430  POLYGON ((-2.841505846300256 56.48913269331089...   \n",
      "430  431  POLYGON ((-2.841614325647596 56.49403083838651...   \n",
      "431  432  POLYGON ((-2.841722839098455 56.49892897943724...   \n",
      "432  433  POLYGON ((-2.841831386667599 56.50382711646336...   \n",
      "433  434  POLYGON ((-2.841939968369799 56.50872524946503...   \n",
      "\n",
      "     Number of Charging Points  Number of Slow Charging Points  \\\n",
      "0                            0                               0   \n",
      "1                            0                               0   \n",
      "2                            0                               0   \n",
      "3                            0                               0   \n",
      "4                            0                               0   \n",
      "..                         ...                             ...   \n",
      "429                          0                               0   \n",
      "430                          0                               0   \n",
      "431                          0                               0   \n",
      "432                          0                               0   \n",
      "433                          0                               0   \n",
      "\n",
      "     Number of Fast Charging Points  Number of Rapid Charging Points  \\\n",
      "0                                 0                                0   \n",
      "1                                 0                                0   \n",
      "2                                 0                                0   \n",
      "3                                 0                                0   \n",
      "4                                 0                                0   \n",
      "..                              ...                              ...   \n",
      "429                               0                                0   \n",
      "430                               0                                0   \n",
      "431                               0                                0   \n",
      "432                               0                                0   \n",
      "433                               0                                0   \n",
      "\n",
      "     Number of PoI  Number of Potential Locations  Distance from Centre  \\\n",
      "0                0                              0           8403.561223   \n",
      "1                0                              0           8296.571785   \n",
      "2                0                              0           8224.414999   \n",
      "3                0                              0           8188.011805   \n",
      "4                0                              0           8187.839098   \n",
      "..             ...                            ...                   ...   \n",
      "429              0                              0           8706.537927   \n",
      "430              0                              0           8908.916529   \n",
      "431              0                              0           9139.388454   \n",
      "432              0                              0           9395.886624   \n",
      "433              0                              0           9676.341567   \n",
      "\n",
      "                     NEIGHBORS  Demand_0  Demand_1  Demand_2  Demand_3  \n",
      "0                  [2, 15, 16]       0.0       0.0       0.0       0.0  \n",
      "1           [1, 3, 15, 16, 17]       0.0       0.0       0.0       0.0  \n",
      "2           [2, 4, 16, 17, 18]       0.0       0.0       0.0       0.0  \n",
      "3           [3, 5, 17, 18, 19]       0.0       0.0       0.0       0.0  \n",
      "4           [4, 6, 18, 19, 20]       0.0       0.0       0.0       0.0  \n",
      "..                         ...       ...       ...       ...       ...  \n",
      "429  [415, 416, 417, 429, 431]       0.0       0.0       0.0       0.0  \n",
      "430  [416, 417, 418, 430, 432]       0.0       0.0       0.0       0.0  \n",
      "431  [417, 418, 419, 431, 433]       0.0       0.0       0.0       0.0  \n",
      "432  [418, 419, 420, 432, 434]       0.0       0.0       0.0       0.0  \n",
      "433            [419, 420, 433]       0.0       0.0       0.0       0.0  \n",
      "\n",
      "[434 rows x 14 columns]>\n"
     ]
    }
   ],
   "source": [
    "print(demand.info)"
   ]
  },
  {
   "cell_type": "code",
   "execution_count": 10,
   "id": "4d57ef3d",
   "metadata": {},
   "outputs": [],
   "source": [
    "# points of interest in each grid\n",
    "\n",
    "interest_point_path = os.path.join('Project_data/Interest _points.xlsx')\n",
    "interest_point = pd.read_excel(interest_point_path)"
   ]
  },
  {
   "cell_type": "code",
   "execution_count": 11,
   "id": "bbe51796",
   "metadata": {
    "scrolled": false
   },
   "outputs": [
    {
     "data": {
      "text/html": [
       "<div>\n",
       "<style scoped>\n",
       "    .dataframe tbody tr th:only-of-type {\n",
       "        vertical-align: middle;\n",
       "    }\n",
       "\n",
       "    .dataframe tbody tr th {\n",
       "        vertical-align: top;\n",
       "    }\n",
       "\n",
       "    .dataframe thead th {\n",
       "        text-align: right;\n",
       "    }\n",
       "</style>\n",
       "<table border=\"1\" class=\"dataframe\">\n",
       "  <thead>\n",
       "    <tr style=\"text-align: right;\">\n",
       "      <th></th>\n",
       "      <th>amenity</th>\n",
       "      <th>geometry</th>\n",
       "      <th>Latitude</th>\n",
       "      <th>Longitude</th>\n",
       "      <th>grid number</th>\n",
       "    </tr>\n",
       "  </thead>\n",
       "  <tbody>\n",
       "    <tr>\n",
       "      <th>0</th>\n",
       "      <td>restaurant</td>\n",
       "      <td>POINT (-2.852617986940523 56.48412800000578)</td>\n",
       "      <td>56.484128</td>\n",
       "      <td>-2.852618</td>\n",
       "      <td>400</td>\n",
       "    </tr>\n",
       "    <tr>\n",
       "      <th>1</th>\n",
       "      <td>restaurant</td>\n",
       "      <td>POINT (-2.849993386942502 56.47134889999293)</td>\n",
       "      <td>56.471349</td>\n",
       "      <td>-2.849993</td>\n",
       "      <td>398</td>\n",
       "    </tr>\n",
       "    <tr>\n",
       "      <th>2</th>\n",
       "      <td>restaurant</td>\n",
       "      <td>POINT (-2.872495786961546 56.46693379999114)</td>\n",
       "      <td>56.466934</td>\n",
       "      <td>-2.872496</td>\n",
       "      <td>369</td>\n",
       "    </tr>\n",
       "    <tr>\n",
       "      <th>3</th>\n",
       "      <td>restaurant</td>\n",
       "      <td>POINT (-2.873346686962511 56.46599179999032)</td>\n",
       "      <td>56.465992</td>\n",
       "      <td>-2.873347</td>\n",
       "      <td>369</td>\n",
       "    </tr>\n",
       "    <tr>\n",
       "      <th>4</th>\n",
       "      <td>restaurant</td>\n",
       "      <td>POINT (-2.873426086962618 56.46584759999016)</td>\n",
       "      <td>56.465848</td>\n",
       "      <td>-2.873426</td>\n",
       "      <td>369</td>\n",
       "    </tr>\n",
       "  </tbody>\n",
       "</table>\n",
       "</div>"
      ],
      "text/plain": [
       "      amenity                                      geometry   Latitude  \\\n",
       "0  restaurant  POINT (-2.852617986940523 56.48412800000578)  56.484128   \n",
       "1  restaurant  POINT (-2.849993386942502 56.47134889999293)  56.471349   \n",
       "2  restaurant  POINT (-2.872495786961546 56.46693379999114)  56.466934   \n",
       "3  restaurant  POINT (-2.873346686962511 56.46599179999032)  56.465992   \n",
       "4  restaurant  POINT (-2.873426086962618 56.46584759999016)  56.465848   \n",
       "\n",
       "   Longitude  grid number  \n",
       "0  -2.852618          400  \n",
       "1  -2.849993          398  \n",
       "2  -2.872496          369  \n",
       "3  -2.873347          369  \n",
       "4  -2.873426          369  "
      ]
     },
     "execution_count": 11,
     "metadata": {},
     "output_type": "execute_result"
    }
   ],
   "source": [
    "interest_point.head()"
   ]
  },
  {
   "cell_type": "code",
   "execution_count": 12,
   "id": "0873c5c5",
   "metadata": {},
   "outputs": [
    {
     "data": {
      "text/plain": [
       "{'restaurant', 'school', 'supermarket'}"
      ]
     },
     "execution_count": 12,
     "metadata": {},
     "output_type": "execute_result"
    }
   ],
   "source": [
    "amenity1 = set(interest_point['amenity'])\n",
    "amenity1\n",
    "\n",
    "# more cars at which place?\n",
    "# for example, many restaurants at 369"
   ]
  },
  {
   "cell_type": "code",
   "execution_count": 13,
   "id": "789929bc",
   "metadata": {},
   "outputs": [],
   "source": [
    "# potential charging points\n",
    "pt_charg_point_path = os.path.join('Project_data/Potential_charging_points.xlsx')\n",
    "pt_charg_point = pd.read_excel(pt_charg_point_path)"
   ]
  },
  {
   "cell_type": "code",
   "execution_count": 14,
   "id": "60d16ba6",
   "metadata": {},
   "outputs": [
    {
     "data": {
      "text/html": [
       "<div>\n",
       "<style scoped>\n",
       "    .dataframe tbody tr th:only-of-type {\n",
       "        vertical-align: middle;\n",
       "    }\n",
       "\n",
       "    .dataframe tbody tr th {\n",
       "        vertical-align: top;\n",
       "    }\n",
       "\n",
       "    .dataframe thead th {\n",
       "        text-align: right;\n",
       "    }\n",
       "</style>\n",
       "<table border=\"1\" class=\"dataframe\">\n",
       "  <thead>\n",
       "    <tr style=\"text-align: right;\">\n",
       "      <th></th>\n",
       "      <th>amenity</th>\n",
       "      <th>geometry</th>\n",
       "      <th>Latitude</th>\n",
       "      <th>Longitude</th>\n",
       "      <th>grid number</th>\n",
       "    </tr>\n",
       "  </thead>\n",
       "  <tbody>\n",
       "    <tr>\n",
       "      <th>0</th>\n",
       "      <td>parking</td>\n",
       "      <td>POINT (-3.046891287099621 56.46621650001012)</td>\n",
       "      <td>56.466217</td>\n",
       "      <td>-3.046891</td>\n",
       "      <td>89</td>\n",
       "    </tr>\n",
       "    <tr>\n",
       "      <th>1</th>\n",
       "      <td>fuel</td>\n",
       "      <td>POINT (-2.848473686941031 56.47224079999363)</td>\n",
       "      <td>56.472241</td>\n",
       "      <td>-2.848474</td>\n",
       "      <td>412</td>\n",
       "    </tr>\n",
       "    <tr>\n",
       "      <th>2</th>\n",
       "      <td>parking</td>\n",
       "      <td>POINT (-2.895034186977277 56.47320819999986)</td>\n",
       "      <td>56.473208</td>\n",
       "      <td>-2.895034</td>\n",
       "      <td>328</td>\n",
       "    </tr>\n",
       "    <tr>\n",
       "      <th>3</th>\n",
       "      <td>fuel</td>\n",
       "      <td>POINT (-2.963304387034162 56.46350399999802)</td>\n",
       "      <td>56.463504</td>\n",
       "      <td>-2.963304</td>\n",
       "      <td>228</td>\n",
       "    </tr>\n",
       "    <tr>\n",
       "      <th>4</th>\n",
       "      <td>fuel</td>\n",
       "      <td>POINT (-2.9776499870463 56.46097389999711)</td>\n",
       "      <td>56.460974</td>\n",
       "      <td>-2.977650</td>\n",
       "      <td>200</td>\n",
       "    </tr>\n",
       "  </tbody>\n",
       "</table>\n",
       "</div>"
      ],
      "text/plain": [
       "   amenity                                      geometry   Latitude  \\\n",
       "0  parking  POINT (-3.046891287099621 56.46621650001012)  56.466217   \n",
       "1     fuel  POINT (-2.848473686941031 56.47224079999363)  56.472241   \n",
       "2  parking  POINT (-2.895034186977277 56.47320819999986)  56.473208   \n",
       "3     fuel  POINT (-2.963304387034162 56.46350399999802)  56.463504   \n",
       "4     fuel    POINT (-2.9776499870463 56.46097389999711)  56.460974   \n",
       "\n",
       "   Longitude  grid number  \n",
       "0  -3.046891           89  \n",
       "1  -2.848474          412  \n",
       "2  -2.895034          328  \n",
       "3  -2.963304          228  \n",
       "4  -2.977650          200  "
      ]
     },
     "execution_count": 14,
     "metadata": {},
     "output_type": "execute_result"
    }
   ],
   "source": [
    "pt_charg_point.head()"
   ]
  },
  {
   "cell_type": "code",
   "execution_count": 15,
   "id": "d546a84b",
   "metadata": {},
   "outputs": [
    {
     "name": "stdout",
     "output_type": "stream",
     "text": [
      "0       89\n",
      "1      412\n",
      "2      328\n",
      "3      228\n",
      "4      200\n",
      "      ... \n",
      "320     90\n",
      "321     90\n",
      "322     90\n",
      "323    185\n",
      "324    200\n",
      "Name: grid number, Length: 325, dtype: int64\n"
     ]
    }
   ],
   "source": [
    "print(pt_charg_point['grid number'])"
   ]
  },
  {
   "cell_type": "code",
   "execution_count": 16,
   "id": "4517f7cf",
   "metadata": {},
   "outputs": [
    {
     "data": {
      "text/plain": [
       "{'fuel', 'parking'}"
      ]
     },
     "execution_count": 16,
     "metadata": {},
     "output_type": "execute_result"
    }
   ],
   "source": [
    "amenity2 = set(pt_charg_point['amenity'])\n",
    "amenity2"
   ]
  },
  {
   "cell_type": "code",
   "execution_count": 17,
   "id": "feb8a0e9",
   "metadata": {},
   "outputs": [],
   "source": [
    "# Defining the index set\n",
    "\n",
    "number_of_grids = 434\n",
    "number_of_years = 4\n",
    "grids = range(number_of_grids)\n",
    "years = range(number_of_years)"
   ]
  },
  {
   "cell_type": "code",
   "execution_count": 18,
   "id": "003f54d6",
   "metadata": {},
   "outputs": [],
   "source": [
    "# the demand every slow/ fast/ rapid chargers can satisfy\n",
    "slow_c = [2000, 3500]\n",
    "fast_c = [4000, 5200]\n",
    "rapid_c = [30000, 50500]"
   ]
  },
  {
   "cell_type": "code",
   "execution_count": null,
   "id": "19cf2699",
   "metadata": {},
   "outputs": [],
   "source": []
  },
  {
   "cell_type": "markdown",
   "id": "81272aab",
   "metadata": {},
   "source": [
    "# decision variables"
   ]
  },
  {
   "cell_type": "code",
   "execution_count": 19,
   "id": "91a2c337",
   "metadata": {},
   "outputs": [],
   "source": [
    "# how many slow/ fast/ rapid connectors to have in each potential grid in year t\n",
    "#x1 = np.array([xp.var( name='x1_{0}_{1}'.format(i,j+1))\n",
    "                    #for i in years for j in grids], dtype=xp.integer).reshape(number_of_years, number_of_grids)\n",
    "#x2 = np.array([xp.var( name='x2_{0}_{1}'.format(i,j+1))\n",
    "                    #for i in years for j in grids], dtype=xp.integer).reshape(number_of_years, number_of_grids)\n",
    "#x3 = np.array([xp.var( name='x3_{0}_{1}'.format(i,j+1))\n",
    "                    #for i in years for j in grids], dtype=xp.integer).reshape(number_of_years, number_of_grids)\n",
    "#location.addVariable(x1, x2, x3)"
   ]
  },
  {
   "cell_type": "code",
   "execution_count": 20,
   "id": "bc91190d",
   "metadata": {},
   "outputs": [],
   "source": [
    "# how many slow/ fast/ rapid connectors to have in each potential grid in year t\n",
    "x1 = np.array([xp.var(vartype = xp.integer, name='x1_{0}_{1}'.format(t,i+1))\n",
    "                    for t in years for i in grids]).reshape(number_of_years, number_of_grids)\n",
    "x2 = np.array([xp.var(vartype = xp.integer, name='x2_{0}_{1}'.format(t,i+1))\n",
    "                    for t in years for i in grids]).reshape(number_of_years, number_of_grids)\n",
    "x3 = np.array([xp.var(vartype = xp.integer, name='x3_{0}_{1}'.format(t,i+1))\n",
    "                    for t in years for i in grids]).reshape(number_of_years, number_of_grids)\n",
    "location.addVariable(x1, x2, x3)"
   ]
  },
  {
   "cell_type": "code",
   "execution_count": 21,
   "id": "d54038a5",
   "metadata": {},
   "outputs": [],
   "source": [
    "# for each grid, demand can be satisfied by this grid and its neighbours\n",
    "y = np.array([xp.var( name='y_{0}_{1}'.format(t,i+1))\n",
    "                    for t in years for i in grids], dtype=xp.npvar).reshape(number_of_years, number_of_grids)"
   ]
  },
  {
   "cell_type": "markdown",
   "id": "2dfe9eda",
   "metadata": {},
   "source": [
    "# constraints"
   ]
  },
  {
   "cell_type": "code",
   "execution_count": 22,
   "id": "59223c39",
   "metadata": {},
   "outputs": [],
   "source": [
    "# check whether there is a grid with demand cannot be satisfied be itself or its neighbours\n",
    "demand['sum_demand'] = demand.Demand_0 + demand.Demand_1 + demand.Demand_2 + demand.Demand_3"
   ]
  },
  {
   "cell_type": "code",
   "execution_count": 23,
   "id": "1625f0e5",
   "metadata": {},
   "outputs": [],
   "source": [
    "demand['sum_charg_point'] = demand['Number of Charging Points'] + demand['Number of Potential Locations']"
   ]
  },
  {
   "cell_type": "code",
   "execution_count": 24,
   "id": "5445965b",
   "metadata": {},
   "outputs": [
    {
     "data": {
      "text/html": [
       "<div>\n",
       "<style scoped>\n",
       "    .dataframe tbody tr th:only-of-type {\n",
       "        vertical-align: middle;\n",
       "    }\n",
       "\n",
       "    .dataframe tbody tr th {\n",
       "        vertical-align: top;\n",
       "    }\n",
       "\n",
       "    .dataframe thead th {\n",
       "        text-align: right;\n",
       "    }\n",
       "</style>\n",
       "<table border=\"1\" class=\"dataframe\">\n",
       "  <thead>\n",
       "    <tr style=\"text-align: right;\">\n",
       "      <th></th>\n",
       "      <th>Ref</th>\n",
       "      <th>geometry</th>\n",
       "      <th>Number of Charging Points</th>\n",
       "      <th>Number of Slow Charging Points</th>\n",
       "      <th>Number of Fast Charging Points</th>\n",
       "      <th>Number of Rapid Charging Points</th>\n",
       "      <th>Number of PoI</th>\n",
       "      <th>Number of Potential Locations</th>\n",
       "      <th>Distance from Centre</th>\n",
       "      <th>NEIGHBORS</th>\n",
       "      <th>Demand_0</th>\n",
       "      <th>Demand_1</th>\n",
       "      <th>Demand_2</th>\n",
       "      <th>Demand_3</th>\n",
       "      <th>sum_demand</th>\n",
       "      <th>sum_charg_point</th>\n",
       "    </tr>\n",
       "  </thead>\n",
       "  <tbody>\n",
       "    <tr>\n",
       "      <th>0</th>\n",
       "      <td>1</td>\n",
       "      <td>POLYGON ((-3.105818823440952 56.44296858524104...</td>\n",
       "      <td>0</td>\n",
       "      <td>0</td>\n",
       "      <td>0</td>\n",
       "      <td>0</td>\n",
       "      <td>0</td>\n",
       "      <td>0</td>\n",
       "      <td>8403.561223</td>\n",
       "      <td>[2, 15, 16]</td>\n",
       "      <td>0.0</td>\n",
       "      <td>0.0</td>\n",
       "      <td>0.0</td>\n",
       "      <td>0.0</td>\n",
       "      <td>0.0</td>\n",
       "      <td>0</td>\n",
       "    </tr>\n",
       "    <tr>\n",
       "      <th>1</th>\n",
       "      <td>2</td>\n",
       "      <td>POLYGON ((-3.105961112538962 56.44786638257236...</td>\n",
       "      <td>0</td>\n",
       "      <td>0</td>\n",
       "      <td>0</td>\n",
       "      <td>0</td>\n",
       "      <td>0</td>\n",
       "      <td>0</td>\n",
       "      <td>8296.571785</td>\n",
       "      <td>[1, 3, 15, 16, 17]</td>\n",
       "      <td>0.0</td>\n",
       "      <td>0.0</td>\n",
       "      <td>0.0</td>\n",
       "      <td>0.0</td>\n",
       "      <td>0.0</td>\n",
       "      <td>0</td>\n",
       "    </tr>\n",
       "    <tr>\n",
       "      <th>2</th>\n",
       "      <td>3</td>\n",
       "      <td>POLYGON ((-3.106103446316349 56.45276417577815...</td>\n",
       "      <td>0</td>\n",
       "      <td>0</td>\n",
       "      <td>0</td>\n",
       "      <td>0</td>\n",
       "      <td>0</td>\n",
       "      <td>0</td>\n",
       "      <td>8224.414999</td>\n",
       "      <td>[2, 4, 16, 17, 18]</td>\n",
       "      <td>0.0</td>\n",
       "      <td>0.0</td>\n",
       "      <td>0.0</td>\n",
       "      <td>0.0</td>\n",
       "      <td>0.0</td>\n",
       "      <td>0</td>\n",
       "    </tr>\n",
       "    <tr>\n",
       "      <th>3</th>\n",
       "      <td>4</td>\n",
       "      <td>POLYGON ((-3.106245824792422 56.45766196485858...</td>\n",
       "      <td>0</td>\n",
       "      <td>0</td>\n",
       "      <td>0</td>\n",
       "      <td>0</td>\n",
       "      <td>0</td>\n",
       "      <td>0</td>\n",
       "      <td>8188.011805</td>\n",
       "      <td>[3, 5, 17, 18, 19]</td>\n",
       "      <td>0.0</td>\n",
       "      <td>0.0</td>\n",
       "      <td>0.0</td>\n",
       "      <td>0.0</td>\n",
       "      <td>0.0</td>\n",
       "      <td>0</td>\n",
       "    </tr>\n",
       "    <tr>\n",
       "      <th>4</th>\n",
       "      <td>5</td>\n",
       "      <td>POLYGON ((-3.106388247986505 56.46255974981385...</td>\n",
       "      <td>0</td>\n",
       "      <td>0</td>\n",
       "      <td>0</td>\n",
       "      <td>0</td>\n",
       "      <td>0</td>\n",
       "      <td>0</td>\n",
       "      <td>8187.839098</td>\n",
       "      <td>[4, 6, 18, 19, 20]</td>\n",
       "      <td>0.0</td>\n",
       "      <td>0.0</td>\n",
       "      <td>0.0</td>\n",
       "      <td>0.0</td>\n",
       "      <td>0.0</td>\n",
       "      <td>0</td>\n",
       "    </tr>\n",
       "  </tbody>\n",
       "</table>\n",
       "</div>"
      ],
      "text/plain": [
       "   Ref                                           geometry  \\\n",
       "0    1  POLYGON ((-3.105818823440952 56.44296858524104...   \n",
       "1    2  POLYGON ((-3.105961112538962 56.44786638257236...   \n",
       "2    3  POLYGON ((-3.106103446316349 56.45276417577815...   \n",
       "3    4  POLYGON ((-3.106245824792422 56.45766196485858...   \n",
       "4    5  POLYGON ((-3.106388247986505 56.46255974981385...   \n",
       "\n",
       "   Number of Charging Points  Number of Slow Charging Points  \\\n",
       "0                          0                               0   \n",
       "1                          0                               0   \n",
       "2                          0                               0   \n",
       "3                          0                               0   \n",
       "4                          0                               0   \n",
       "\n",
       "   Number of Fast Charging Points  Number of Rapid Charging Points  \\\n",
       "0                               0                                0   \n",
       "1                               0                                0   \n",
       "2                               0                                0   \n",
       "3                               0                                0   \n",
       "4                               0                                0   \n",
       "\n",
       "   Number of PoI  Number of Potential Locations  Distance from Centre  \\\n",
       "0              0                              0           8403.561223   \n",
       "1              0                              0           8296.571785   \n",
       "2              0                              0           8224.414999   \n",
       "3              0                              0           8188.011805   \n",
       "4              0                              0           8187.839098   \n",
       "\n",
       "            NEIGHBORS  Demand_0  Demand_1  Demand_2  Demand_3  sum_demand  \\\n",
       "0         [2, 15, 16]       0.0       0.0       0.0       0.0         0.0   \n",
       "1  [1, 3, 15, 16, 17]       0.0       0.0       0.0       0.0         0.0   \n",
       "2  [2, 4, 16, 17, 18]       0.0       0.0       0.0       0.0         0.0   \n",
       "3  [3, 5, 17, 18, 19]       0.0       0.0       0.0       0.0         0.0   \n",
       "4  [4, 6, 18, 19, 20]       0.0       0.0       0.0       0.0         0.0   \n",
       "\n",
       "   sum_charg_point  \n",
       "0                0  \n",
       "1                0  \n",
       "2                0  \n",
       "3                0  \n",
       "4                0  "
      ]
     },
     "execution_count": 24,
     "metadata": {},
     "output_type": "execute_result"
    }
   ],
   "source": [
    "demand.head()"
   ]
  },
  {
   "cell_type": "code",
   "execution_count": 25,
   "id": "3b2f6c7d",
   "metadata": {},
   "outputs": [
    {
     "name": "stdout",
     "output_type": "stream",
     "text": [
      "1 0.0 0\n",
      "2 0.0 0\n",
      "3 0.0 0\n",
      "4 0.0 0\n",
      "5 0.0 0\n",
      "6 0.0 0\n",
      "7 0.0 0\n",
      "8 0.0 0\n",
      "9 0.0 0\n",
      "10 0.0 0\n",
      "11 0.0 0\n",
      "12 0.0 0\n",
      "13 0.0 0\n",
      "14 0.0 0\n",
      "15 0.0 0\n",
      "16 0.0 0\n",
      "17 0.0 0\n",
      "18 0.0 0\n",
      "19 0.0 0\n",
      "20 0.0 0\n",
      "21 0.0 0\n",
      "22 0.0 0\n",
      "23 0.0 0\n",
      "24 0.0 0\n",
      "25 0.0 0\n",
      "26 0.0 0\n",
      "27 0.0 0\n",
      "28 0.0 0\n",
      "29 0.0 0\n",
      "30 0.0 0\n",
      "31 0.0 0\n",
      "32 0.0 0\n",
      "33 0.0 0\n",
      "34 0.0 0\n",
      "35 0.0 0\n",
      "36 0.0 0\n",
      "37 0.0 0\n",
      "38 0.0 0\n",
      "39 0.0 0\n",
      "40 0.0 0\n",
      "41 0.0 0\n",
      "42 0.0 0\n",
      "43 0.0 0\n",
      "44 0.0 0\n",
      "45 0.0 0\n",
      "46 0.0 2\n",
      "47 0.0 2\n",
      "48 0.0 2\n",
      "49 0.0 0\n",
      "50 0.0 0\n",
      "51 0.0 0\n",
      "52 0.0 0\n",
      "53 0.0 0\n",
      "54 0.0 0\n",
      "55 0.0 0\n",
      "56 0.0 0\n",
      "57 0.0 0\n",
      "58 0.0 0\n",
      "59 0.0 0\n",
      "60 0.0 5\n",
      "61 480.22436170643203 9\n",
      "62 0.0 10\n",
      "63 0.0 5\n",
      "64 0.0 1\n",
      "65 0.0 0\n",
      "66 0.0 0\n",
      "67 0.0 0\n",
      "68 0.0 0\n",
      "69 0.0 0\n",
      "70 0.0 0\n",
      "71 0.0 0\n",
      "72 0.0 0\n",
      "73 0.0 3\n",
      "74 0.0 21\n",
      "75 554.167613160013 31\n",
      "76 3869.958560944774 33\n",
      "77 514.8147218611815 15\n",
      "78 0.0 5\n",
      "79 0.0 0\n",
      "80 0.0 0\n",
      "81 0.0 0\n",
      "82 0.0 0\n",
      "83 0.0 0\n",
      "84 0.0 0\n",
      "85 0.0 0\n",
      "86 0.0 1\n",
      "87 0.0 7\n",
      "88 372.8452617139583 34\n",
      "89 1008.4990683225363 46\n",
      "90 948.5112069055126 47\n",
      "91 823.6299264533479 21\n",
      "92 0.0 12\n",
      "93 0.0 5\n",
      "94 0.0 5\n",
      "95 0.0 1\n",
      "96 0.0 1\n",
      "97 0.0 0\n",
      "98 0.0 0\n",
      "99 0.0 0\n",
      "100 0.0 5\n",
      "101 314.0511656776735 16\n",
      "102 3040.2288967165364 46\n",
      "103 3233.7176653572733 50\n",
      "104 4752.642199336997 50\n",
      "105 2084.0108206930304 21\n",
      "106 3581.5508060260263 20\n",
      "107 1785.119840205374 9\n",
      "108 0.0 10\n",
      "109 0.0 2\n",
      "110 0.0 2\n",
      "111 0.0 0\n",
      "112 0.0 0\n",
      "113 0.0 0\n",
      "114 0.0 8\n",
      "115 312.3934309773876 16\n",
      "116 2987.212108470509 33\n",
      "117 22294.160513065104 28\n",
      "118 0.0 27\n",
      "119 33137.53289645942 16\n",
      "120 0.0 21\n",
      "121 32065.768719610292 14\n",
      "122 0.0 10\n",
      "123 0.0 2\n",
      "124 0.0 2\n",
      "125 0.0 0\n",
      "126 0.0 0\n",
      "127 0.0 0\n",
      "128 0.0 9\n",
      "129 255.5366763325454 15\n",
      "130 0.0 23\n",
      "131 0.0 20\n",
      "132 0.0 21\n",
      "133 0.0 19\n",
      "134 273030.0882971027 18\n",
      "135 0.0 12\n",
      "136 0.0 7\n",
      "137 0.0 2\n",
      "138 0.0 1\n",
      "139 0.0 0\n",
      "140 0.0 0\n",
      "141 0.0 1\n",
      "142 0.0 7\n",
      "143 106.47354457930759 8\n",
      "144 1589.1359049416274 10\n",
      "145 10523.232505799486 14\n",
      "146 30091.409121898716 18\n",
      "147 65730.18394637153 22\n",
      "148 40588.53325347352 14\n",
      "149 35317.567331974686 11\n",
      "150 945.44 4\n",
      "151 0.0 2\n",
      "152 0.0 0\n",
      "153 0.0 0\n",
      "154 0.0 0\n",
      "155 0.0 1\n",
      "156 149.6678626249228 8\n",
      "157 464.98197416633326 12\n",
      "158 0.0 16\n",
      "159 4189.01 19\n",
      "160 64282.20116990084 26\n",
      "161 20332.19851495715 32\n",
      "162 14494.12046540696 25\n",
      "163 1870.45 17\n",
      "164 3513.202386980775 6\n",
      "165 0.0 3\n",
      "166 0.0 0\n",
      "167 0.0 0\n",
      "168 0.0 0\n",
      "169 0.0 3\n",
      "170 0.0 15\n",
      "171 7598.680125017119 33\n",
      "172 7856.092167025752 37\n",
      "173 1098.23 31\n",
      "174 0.0 29\n",
      "175 34079.95976265682 35\n",
      "176 29084.630338455783 34\n",
      "177 13041.081813151755 23\n",
      "178 2376.6980329670387 10\n",
      "179 0.0 5\n",
      "180 0.0 0\n",
      "181 0.0 0\n",
      "182 0.0 0\n",
      "183 0.0 4\n",
      "184 37248.79224119195 31\n",
      "185 57918.36538075976 75\n",
      "186 56253.08314660122 80\n",
      "187 23953.35821422826 58\n",
      "188 20759.202520328246 29\n",
      "189 120995.96761114066 32\n",
      "190 38170.24400000001 33\n",
      "191 13026.586690463573 23\n",
      "192 2666.839433658544 11\n",
      "193 0.0 5\n",
      "194 0.0 0\n",
      "195 0.0 0\n",
      "196 0.0 0\n",
      "197 0.0 4\n",
      "198 40288.047392698965 34\n",
      "199 297524.8485732816 87\n",
      "200 187086.2310313471 95\n",
      "201 38128.47220346654 71\n",
      "202 20992.917645101516 29\n",
      "203 25259.649194003825 20\n",
      "204 0.0 19\n",
      "205 10385.780157011463 12\n",
      "206 1709.415932315537 9\n",
      "207 0.0 4\n",
      "208 0.0 0\n",
      "209 0.0 0\n",
      "210 0.0 0\n",
      "211 0.0 2\n",
      "212 0.0 25\n",
      "213 72139.88174589883 75\n",
      "214 155852.16979977628 87\n",
      "215 43145.58274957814 74\n",
      "216 7921.914586192135 28\n",
      "217 2674.2550469200946 14\n",
      "218 0.0 8\n",
      "219 0.0 6\n",
      "220 0.0 6\n",
      "221 0.0 2\n",
      "222 0.0 0\n",
      "223 0.0 0\n",
      "224 0.0 0\n",
      "225 0.0 0\n",
      "226 0.0 7\n",
      "227 0.0 32\n",
      "228 67459.12805734822 43\n",
      "229 30310.52796577148 43\n",
      "230 4163.952668148229 20\n",
      "231 0.0 11\n",
      "232 0.0 10\n",
      "233 293.53879294185896 10\n",
      "234 561.4348842527506 9\n",
      "235 0.0 3\n",
      "236 0.0 1\n",
      "237 0.0 0\n",
      "238 0.0 0\n",
      "239 0.0 0\n",
      "240 0.0 0\n",
      "241 0.0 13\n",
      "242 8220.435773591487 19\n",
      "243 0.0 25\n",
      "244 0.0 12\n",
      "245 0.0 8\n",
      "246 14.65565866268144 8\n",
      "247 297.37412264765067 10\n",
      "248 3554.154828791297 11\n",
      "249 3535.2214906969903 5\n",
      "250 0.0 3\n",
      "251 0.0 0\n",
      "252 0.0 0\n",
      "253 0.0 0\n",
      "254 0.0 0\n",
      "255 0.0 1\n",
      "256 0.0 1\n",
      "257 0.0 2\n",
      "258 0.0 1\n",
      "259 0.0 4\n",
      "260 0.0 8\n",
      "261 0.0 9\n",
      "262 0.0 9\n",
      "263 13271.765 4\n",
      "264 0.0 3\n",
      "265 0.0 0\n",
      "266 0.0 0\n",
      "267 0.0 0\n",
      "268 0.0 0\n",
      "269 0.0 0\n",
      "270 0.0 0\n",
      "271 0.0 2\n",
      "272 682.0817057719369 9\n",
      "273 0.0 11\n",
      "274 8497.45 10\n",
      "275 2573.1250261569967 4\n",
      "276 0.0 5\n",
      "277 0.0 4\n",
      "278 0.0 3\n",
      "279 0.0 0\n",
      "280 0.0 0\n",
      "281 0.0 0\n",
      "282 0.0 0\n",
      "283 0.0 0\n",
      "284 0.0 1\n",
      "285 0.0 4\n",
      "286 3456.9190624657313 12\n",
      "287 5603.602944777367 13\n",
      "288 4168.66212630535 11\n",
      "289 0.0 6\n",
      "290 2479.6284769851754 5\n",
      "291 2254.2983897415306 4\n",
      "292 0.0 1\n",
      "293 0.0 0\n",
      "294 0.0 0\n",
      "295 0.0 0\n",
      "296 0.0 0\n",
      "297 0.0 0\n",
      "298 0.0 1\n",
      "299 1641.8740545906849 3\n",
      "300 5678.14 11\n",
      "301 5953.54 14\n",
      "302 0.0 12\n",
      "303 0.0 7\n",
      "304 8491.93 4\n",
      "305 0.0 4\n",
      "306 0.0 1\n",
      "307 0.0 0\n",
      "308 0.0 0\n",
      "309 0.0 0\n",
      "310 0.0 0\n",
      "311 0.0 0\n",
      "312 0.0 2\n",
      "313 0.0 5\n",
      "314 0.0 6\n",
      "315 0.0 7\n",
      "316 1458.3425938638911 5\n",
      "317 0.0 6\n",
      "318 0.0 3\n",
      "319 0.0 2\n",
      "320 0.0 0\n",
      "321 0.0 0\n",
      "322 0.0 0\n",
      "323 0.0 0\n",
      "324 0.0 0\n",
      "325 0.0 0\n",
      "326 0.0 1\n",
      "327 78.72060707213355 4\n",
      "328 118.5385332042606 7\n",
      "329 0.0 9\n",
      "330 0.0 9\n",
      "331 118.71031063533849 6\n",
      "332 0.0 3\n",
      "333 0.0 0\n",
      "334 0.0 0\n",
      "335 0.0 0\n",
      "336 0.0 0\n",
      "337 0.0 0\n",
      "338 0.0 0\n",
      "339 0.0 0\n",
      "340 0.0 6\n",
      "341 0.0 10\n",
      "342 3990.271172995819 13\n",
      "343 2069.997628925913 7\n",
      "344 0.0 6\n",
      "345 3.232544124524332 3\n",
      "346 0.0 3\n",
      "347 0.0 0\n",
      "348 0.0 0\n",
      "349 0.0 0\n",
      "350 0.0 0\n",
      "351 0.0 0\n",
      "352 0.0 0\n",
      "353 0.0 0\n",
      "354 0.0 14\n",
      "355 37912.39682053233 16\n",
      "356 37767.961163098866 19\n",
      "357 0.0 5\n",
      "358 0.0 5\n",
      "359 0.0 2\n",
      "360 0.0 2\n",
      "361 0.0 0\n",
      "362 0.0 0\n",
      "363 0.0 0\n",
      "364 0.0 0\n",
      "365 0.0 0\n",
      "366 0.0 0\n",
      "367 0.0 1\n",
      "368 0.0 15\n",
      "369 293203.361616629 16\n",
      "370 0.0 16\n",
      "371 0.0 2\n",
      "372 0.0 1\n",
      "373 0.0 0\n",
      "374 0.0 0\n",
      "375 0.0 0\n",
      "376 0.0 0\n",
      "377 0.0 0\n",
      "378 0.0 0\n",
      "379 0.0 0\n",
      "380 0.0 0\n",
      "381 0.0 1\n",
      "382 35023.61758767991 11\n",
      "383 0.0 11\n",
      "384 0.0 13\n",
      "385 0.0 6\n",
      "386 0.0 6\n",
      "387 0.0 3\n",
      "388 0.0 0\n",
      "389 0.0 0\n",
      "390 0.0 0\n",
      "391 0.0 0\n",
      "392 0.0 0\n",
      "393 0.0 0\n",
      "394 0.0 0\n",
      "395 0.0 1\n",
      "396 0.0 2\n",
      "397 1902.0979701573506 3\n",
      "398 0.0 5\n",
      "399 0.0 7\n",
      "400 0.0 6\n",
      "401 0.0 3\n",
      "402 0.0 0\n",
      "403 0.0 0\n",
      "404 0.0 0\n",
      "405 0.0 0\n",
      "406 0.0 0\n",
      "407 0.0 0\n",
      "408 0.0 0\n",
      "409 0.0 0\n",
      "410 0.0 1\n",
      "411 0.0 2\n",
      "412 38.68886007998806 4\n",
      "413 0.0 6\n",
      "414 0.0 5\n",
      "415 0.0 3\n",
      "416 0.0 0\n",
      "417 0.0 0\n",
      "418 0.0 0\n",
      "419 0.0 0\n",
      "420 0.0 0\n",
      "421 0.0 0\n",
      "422 0.0 0\n",
      "423 0.0 0\n",
      "424 0.0 0\n",
      "425 0.0 1\n",
      "426 0.0 1\n",
      "427 0.0 1\n",
      "428 0.0 0\n",
      "429 0.0 0\n",
      "430 0.0 0\n",
      "431 0.0 0\n",
      "432 0.0 0\n",
      "433 0.0 0\n",
      "434 0.0 0\n"
     ]
    }
   ],
   "source": [
    "for ind in demand.index:\n",
    "    # to calculate the sum of charging points and potential charging points of the grid itself and its neighbouts\n",
    "    sum_charg = demand.loc[ind]['sum_charg_point']\n",
    "    neighbour_list = demand.loc[ind]['NEIGHBORS'].strip('[').strip(']').replace(' ','')\n",
    "    neighbour_list = neighbour_list.split(',')\n",
    "    for x in neighbour_list:\n",
    "        x = int(x)-1\n",
    "        sum_charg += demand.loc[x]['sum_charg_point']\n",
    "    if sum_charg == 0:\n",
    "        if demand.loc[ind]['sum_demand'] != 0:\n",
    "            print(ind+1)\n",
    "    print(ind+1, demand.loc[ind]['sum_demand'], sum_charg)"
   ]
  },
  {
   "cell_type": "code",
   "execution_count": 26,
   "id": "26883d23",
   "metadata": {
    "scrolled": true
   },
   "outputs": [
    {
     "name": "stdout",
     "output_type": "stream",
     "text": [
      "Ref                                                                              122\n",
      "geometry                           POLYGON ((-3.036279197876319 56.48765989078385...\n",
      "Number of Charging Points                                                          0\n",
      "Number of Slow Charging Points                                                     0\n",
      "Number of Fast Charging Points                                                     0\n",
      "Number of Rapid Charging Points                                                    0\n",
      "Number of PoI                                                                      0\n",
      "Number of Potential Locations                                                      0\n",
      "Distance from Centre                                                     4855.939663\n",
      "NEIGHBORS                                   [107, 108, 109, 121, 123, 135, 136, 137]\n",
      "Demand_0                                                                         0.0\n",
      "Demand_1                                                                         0.0\n",
      "Demand_2                                                                         0.0\n",
      "Demand_3                                                                         0.0\n",
      "sum_demand                                                                       0.0\n",
      "sum_charg_point                                                                    0\n",
      "Name: 121, dtype: object\n"
     ]
    }
   ],
   "source": [
    "print(demand.loc[121])"
   ]
  },
  {
   "cell_type": "code",
   "execution_count": 27,
   "id": "85410edb",
   "metadata": {},
   "outputs": [
    {
     "data": {
      "text/html": [
       "<div>\n",
       "<style scoped>\n",
       "    .dataframe tbody tr th:only-of-type {\n",
       "        vertical-align: middle;\n",
       "    }\n",
       "\n",
       "    .dataframe tbody tr th {\n",
       "        vertical-align: top;\n",
       "    }\n",
       "\n",
       "    .dataframe thead th {\n",
       "        text-align: right;\n",
       "    }\n",
       "</style>\n",
       "<table border=\"1\" class=\"dataframe\">\n",
       "  <thead>\n",
       "    <tr style=\"text-align: right;\">\n",
       "      <th></th>\n",
       "      <th>amenity</th>\n",
       "      <th>geometry</th>\n",
       "      <th>Latitude</th>\n",
       "      <th>Longitude</th>\n",
       "    </tr>\n",
       "    <tr>\n",
       "      <th>grid number</th>\n",
       "      <th></th>\n",
       "      <th></th>\n",
       "      <th></th>\n",
       "      <th></th>\n",
       "    </tr>\n",
       "  </thead>\n",
       "  <tbody>\n",
       "    <tr>\n",
       "      <th>61</th>\n",
       "      <td>2</td>\n",
       "      <td>2</td>\n",
       "      <td>2</td>\n",
       "      <td>2</td>\n",
       "    </tr>\n",
       "    <tr>\n",
       "      <th>75</th>\n",
       "      <td>3</td>\n",
       "      <td>3</td>\n",
       "      <td>3</td>\n",
       "      <td>3</td>\n",
       "    </tr>\n",
       "    <tr>\n",
       "      <th>76</th>\n",
       "      <td>4</td>\n",
       "      <td>4</td>\n",
       "      <td>4</td>\n",
       "      <td>4</td>\n",
       "    </tr>\n",
       "    <tr>\n",
       "      <th>77</th>\n",
       "      <td>1</td>\n",
       "      <td>1</td>\n",
       "      <td>1</td>\n",
       "      <td>1</td>\n",
       "    </tr>\n",
       "    <tr>\n",
       "      <th>88</th>\n",
       "      <td>3</td>\n",
       "      <td>3</td>\n",
       "      <td>3</td>\n",
       "      <td>3</td>\n",
       "    </tr>\n",
       "    <tr>\n",
       "      <th>...</th>\n",
       "      <td>...</td>\n",
       "      <td>...</td>\n",
       "      <td>...</td>\n",
       "      <td>...</td>\n",
       "    </tr>\n",
       "    <tr>\n",
       "      <th>385</th>\n",
       "      <td>1</td>\n",
       "      <td>1</td>\n",
       "      <td>1</td>\n",
       "      <td>1</td>\n",
       "    </tr>\n",
       "    <tr>\n",
       "      <th>397</th>\n",
       "      <td>1</td>\n",
       "      <td>1</td>\n",
       "      <td>1</td>\n",
       "      <td>1</td>\n",
       "    </tr>\n",
       "    <tr>\n",
       "      <th>399</th>\n",
       "      <td>2</td>\n",
       "      <td>2</td>\n",
       "      <td>2</td>\n",
       "      <td>2</td>\n",
       "    </tr>\n",
       "    <tr>\n",
       "      <th>400</th>\n",
       "      <td>3</td>\n",
       "      <td>3</td>\n",
       "      <td>3</td>\n",
       "      <td>3</td>\n",
       "    </tr>\n",
       "    <tr>\n",
       "      <th>412</th>\n",
       "      <td>1</td>\n",
       "      <td>1</td>\n",
       "      <td>1</td>\n",
       "      <td>1</td>\n",
       "    </tr>\n",
       "  </tbody>\n",
       "</table>\n",
       "<p>98 rows × 4 columns</p>\n",
       "</div>"
      ],
      "text/plain": [
       "             amenity  geometry  Latitude  Longitude\n",
       "grid number                                        \n",
       "61                 2         2         2          2\n",
       "75                 3         3         3          3\n",
       "76                 4         4         4          4\n",
       "77                 1         1         1          1\n",
       "88                 3         3         3          3\n",
       "...              ...       ...       ...        ...\n",
       "385                1         1         1          1\n",
       "397                1         1         1          1\n",
       "399                2         2         2          2\n",
       "400                3         3         3          3\n",
       "412                1         1         1          1\n",
       "\n",
       "[98 rows x 4 columns]"
      ]
     },
     "execution_count": 27,
     "metadata": {},
     "output_type": "execute_result"
    }
   ],
   "source": [
    "# for each potential charging point, we can install one or more charging stations\n",
    "grid_pt_charg = pt_charg_point.groupby('grid number').count()\n",
    "grid_pt_charg"
   ]
  },
  {
   "cell_type": "code",
   "execution_count": 28,
   "id": "26c035d2",
   "metadata": {},
   "outputs": [
    {
     "data": {
      "text/plain": [
       "3"
      ]
     },
     "execution_count": 28,
     "metadata": {},
     "output_type": "execute_result"
    }
   ],
   "source": [
    "num_grid_pt = number_of_grids*[0]\n",
    "for ind in grid_pt_charg.index:\n",
    "    # print(ind)\n",
    "    # print(grid_pt_charg.iloc[ind]['grid number'])\n",
    "    num_grid_pt[ind-1] = grid_pt_charg.loc[ind]['amenity']\n",
    "num_grid_pt[75-1]"
   ]
  },
  {
   "cell_type": "code",
   "execution_count": 29,
   "id": "1fab89a8",
   "metadata": {},
   "outputs": [],
   "source": [
    "location.addConstraint(x1[t,i] >= 0 for t in years for i in grids)\n",
    "location.addConstraint(x2[t,i] >= 0 for t in years for i in grids)\n",
    "location.addConstraint(x3[t,i] >= 0 for t in years for i in grids)"
   ]
  },
  {
   "cell_type": "markdown",
   "id": "0d8d7497",
   "metadata": {},
   "source": [
    "for i in grids:\n",
    "    #print(demand.loc[i]['Number of Potential Locations'])\n",
    "    if demand.loc[i]['Number of Potential Locations'] == 0:\n",
    "        location.addConstraint(x1[t,i] + x2[t,i] + x3[t,i] == 0 for t in years)"
   ]
  },
  {
   "cell_type": "code",
   "execution_count": 30,
   "id": "0799e50f",
   "metadata": {},
   "outputs": [],
   "source": [
    "#location.addConstraint(sum((x1[t,i] + x2[t,i] + x3[t,i]) for t in years)>= num_grid_pt[i] for i in grids)"
   ]
  },
  {
   "cell_type": "code",
   "execution_count": 31,
   "id": "79755b3a",
   "metadata": {},
   "outputs": [],
   "source": [
    "for ind in demand.index:\n",
    "    if demand.loc[ind]['Number of Potential Locations'] == 0:\n",
    "        location.addConstraint(x1[t,ind] == 0 for t in years)\n",
    "        location.addConstraint(x2[t,ind] == 0 for t in years)\n",
    "        location.addConstraint(x3[t,ind] == 0 for t in years)"
   ]
  },
  {
   "cell_type": "code",
   "execution_count": 32,
   "id": "779e2cfd",
   "metadata": {},
   "outputs": [
    {
     "name": "stdout",
     "output_type": "stream",
     "text": [
      "444.6315721382473\n"
     ]
    }
   ],
   "source": [
    "print(demand.loc[demand['Ref'] == 102, 'Demand_1'].iloc[0])"
   ]
  },
  {
   "cell_type": "code",
   "execution_count": 33,
   "id": "1c5b659c",
   "metadata": {},
   "outputs": [
    {
     "name": "stdout",
     "output_type": "stream",
     "text": [
      "Slow\n"
     ]
    }
   ],
   "source": [
    "# demand satisfied by existing charging points?\n",
    "print(charg_point.loc[charg_point['grid number'] == 146, 'Type'].iloc[0])\n",
    "# this does not work if 146 is not an existing grid"
   ]
  },
  {
   "cell_type": "code",
   "execution_count": 34,
   "id": "c186838a",
   "metadata": {},
   "outputs": [],
   "source": [
    "# for i in grids\n",
    "    # if charg_point['grid number'] == 146???/\\\n",
    "        #if charg_point.loc[charg_point['grid number'] == 146, 'Type'].iloc[0] = 'slow'\n",
    "        #a = \n",
    "        #if charg_point.loc[charg_point['grid number'] == 146, 'Type'].iloc[0] = 'fast'\n",
    "        #if charg_point.loc[charg_point['grid number'] == 146, 'Type'].iloc[0] = 'rapid'\n",
    "    # else"
   ]
  },
  {
   "cell_type": "code",
   "execution_count": 35,
   "id": "a17dedbd",
   "metadata": {},
   "outputs": [],
   "source": [
    "#for i in grids:\n",
    "    #if i+1 in charg_point['grid number'].tolist():\n",
    "        #print(i+1, charg_point.loc[charg_point['grid number'] == i+1, 'Type'].iloc[0])\n",
    "        \n",
    "# but in one grid, there might have existed more than 1 connectors\n",
    "sat_demand = number_of_grids*[0]\n",
    "for ind in charg_point.index:\n",
    "    #print(ind, charg_point.iloc[ind]['grid number'], charg_point.iloc[ind]['Type'])\n",
    "    # already satisfied demand\n",
    "    if charg_point.iloc[ind]['Type'] == 'Slow':\n",
    "        sat_demand[charg_point.iloc[ind]['grid number']-1] += 2* slow_c[1]\n",
    "    elif charg_point.iloc[ind]['Type'] == 'Fast':\n",
    "        sat_demand[charg_point.iloc[ind]['grid number']-1] += 2* fast_c[1]\n",
    "    elif charg_point.iloc[ind]['Type'] == 'Rapid':\n",
    "        sat_demand[charg_point.iloc[ind]['grid number']-1] += 2* rapid_c[1]"
   ]
  },
  {
   "cell_type": "code",
   "execution_count": 36,
   "id": "4aae4ef3",
   "metadata": {},
   "outputs": [
    {
     "name": "stdout",
     "output_type": "stream",
     "text": [
      "62800\n"
     ]
    }
   ],
   "source": [
    "print(sat_demand[200-1])"
   ]
  },
  {
   "cell_type": "code",
   "execution_count": 37,
   "id": "edcdc8cf",
   "metadata": {},
   "outputs": [
    {
     "name": "stdout",
     "output_type": "stream",
     "text": [
      "68    Fast\n",
      "69    Fast\n",
      "70    Slow\n",
      "71    Slow\n",
      "72    Slow\n",
      "73    Slow\n",
      "74    Slow\n",
      "75    Slow\n",
      "Name: Type, dtype: object\n"
     ]
    }
   ],
   "source": [
    "print(charg_point.loc[charg_point['grid number'] == 200, 'Type'])"
   ]
  },
  {
   "cell_type": "code",
   "execution_count": 38,
   "id": "c9ca2d58",
   "metadata": {
    "scrolled": true
   },
   "outputs": [
    {
     "name": "stdout",
     "output_type": "stream",
     "text": [
      "[146, 76, 304, 304, 214, 134, 314, 214, 199, 199, 147, 263, 199, 129, 186, 216, 216, 216, 216, 216, 300, 216, 216, 216, 216, 216, 345, 369, 369, 301, 300, 274, 263, 259, 288, 205, 205, 150, 163, 76, 117, 117, 59, 91, 103, 144, 190, 189, 159, 189, 189, 189, 189, 189, 190, 189, 160, 160, 160, 173, 173, 228, 228, 228, 214, 214, 214, 199, 200, 200, 200, 200, 200, 200, 200, 200, 202, 185]\n"
     ]
    }
   ],
   "source": [
    "print(charg_point['grid number'].tolist())"
   ]
  },
  {
   "cell_type": "code",
   "execution_count": 39,
   "id": "7b8e3115",
   "metadata": {},
   "outputs": [
    {
     "name": "stdout",
     "output_type": "stream",
     "text": [
      "[2, 15, 16]\n"
     ]
    },
    {
     "data": {
      "text/plain": [
       "100    [86, 87, 88, 100, 102, 114, 115, 116]\n",
       "101    [87, 88, 89, 101, 103, 115, 116, 117]\n",
       "102    [88, 89, 90, 102, 104, 116, 117, 118]\n",
       "103    [89, 90, 91, 103, 105, 117, 118, 119]\n",
       "104    [90, 91, 92, 104, 106, 118, 119, 120]\n",
       "Name: NEIGHBORS, dtype: object"
      ]
     },
     "execution_count": 39,
     "metadata": {},
     "output_type": "execute_result"
    }
   ],
   "source": [
    "# neighbour grids\n",
    "grid_neighbor = demand['NEIGHBORS']\n",
    "print(grid_neighbor[0])\n",
    "grid_neighbor[100:105]"
   ]
  },
  {
   "cell_type": "code",
   "execution_count": 40,
   "id": "c1702111",
   "metadata": {},
   "outputs": [],
   "source": [
    "#neighbor = demand['NEIGHBORS'].to_numpy()\n",
    "#neighbor = [np.array(ne[1:-1].replace(' ', '').split(','), dtype = int) for ne in neighbor]\n",
    "#print(neighbor)"
   ]
  },
  {
   "cell_type": "code",
   "execution_count": 41,
   "id": "95dd1f47",
   "metadata": {},
   "outputs": [],
   "source": [
    "for i in grids:\n",
    "    y[0,i] = xp.Sum((slow_c[1]*x1[t1,i] + fast_c[1]*x2[t1,i] + rapid_c[1]*x3[t1,i] + sat_demand[i]) for t1 in range(1))\n",
    "    y[1,i] = xp.Sum((slow_c[1]*x1[t1,i] + fast_c[1]*x2[t1,i] + rapid_c[1]*x3[t1,i] + sat_demand[i]) for t1 in range(2))\n",
    "    y[2,i] = xp.Sum((slow_c[1]*x1[t1,i] + fast_c[1]*x2[t1,i] + rapid_c[1]*x3[t1,i] + sat_demand[i]) for t1 in range(3))\n",
    "    y[3,i] = xp.Sum((slow_c[1]*x1[t1,i] + fast_c[1]*x2[t1,i] + rapid_c[1]*x3[t1,i] + sat_demand[i]) for t1 in range(4))\n",
    "\n",
    "\n",
    "\n",
    "for ind in demand.index:\n",
    "    #print(demand.loc[ind]['Ref'],demand.loc[ind]['NEIGHBORS'])\n",
    "    i = demand.loc[ind]['Ref']-1\n",
    "    neighbour_list = demand.loc[ind]['NEIGHBORS'].strip('[').strip(']').replace(' ','')\n",
    "    neighbour_list = neighbour_list.split(',')\n",
    "    for x in neighbour_list:\n",
    "        \n",
    "        x = int(x)-1\n",
    "        y[0,i] += xp.Sum((slow_c[1]*x1[t1,x] + fast_c[1]*x2[t1,x] + rapid_c[1]*x3[t1,x] + sat_demand[x]) for t1 in range(1))\n",
    "        y[1,i] += xp.Sum((slow_c[1]*x1[t1,x] + fast_c[1]*x2[t1,x] + rapid_c[1]*x3[t1,x] + sat_demand[x]) for t1 in range(2))\n",
    "        y[2,i] += xp.Sum((slow_c[1]*x1[t1,x] + fast_c[1]*x2[t1,x] + rapid_c[1]*x3[t1,x] + sat_demand[x]) for t1 in range(3))\n",
    "        y[3,i] += xp.Sum((slow_c[1]*x1[t1,x] + fast_c[1]*x2[t1,x] + rapid_c[1]*x3[t1,x] + sat_demand[x]) for t1 in range(4))"
   ]
  },
  {
   "cell_type": "code",
   "execution_count": 42,
   "id": "62a752bc",
   "metadata": {},
   "outputs": [],
   "source": [
    "# satisfying demand of the 4 years\n",
    "# not necessary, just putting it here for now\n",
    "# demand can also be satisfied by neighbour girds\n",
    "location.addConstraint(y[0,i]>= 0.8*demand.loc[demand['Ref'] == i+1, 'Demand_0'].iloc[0] for i in grids)\n",
    "location.addConstraint(y[1,i]>= 0.8*demand.loc[demand['Ref'] == i+1, 'Demand_1'].iloc[0] for i in grids)\n",
    "location.addConstraint(y[2,i]>= 0.8*demand.loc[demand['Ref'] == i+1, 'Demand_2'].iloc[0] for i in grids)\n",
    "location.addConstraint(y[3,i]>= 0.8*demand.loc[demand['Ref'] == i+1, 'Demand_3'].iloc[0] for i in grids)"
   ]
  },
  {
   "cell_type": "code",
   "execution_count": 43,
   "id": "752481db",
   "metadata": {},
   "outputs": [
    {
     "data": {
      "text/plain": [
       "[59, 61, 75, 76, 77, 88, 89, 90, 91, 101]"
      ]
     },
     "execution_count": 43,
     "metadata": {},
     "output_type": "execute_result"
    }
   ],
   "source": [
    "# grid number of existing charging points\n",
    "ex_pt = charg_point['grid number'].tolist()\n",
    "# grid number of potential charging points\n",
    "po_pt = pt_charg_point['grid number'].tolist()\n",
    "all_pt = ex_pt + po_pt\n",
    "# combine existing charging points and potential ones\n",
    "# remove duplicates and sort it\n",
    "all_pt = sorted(list(dict.fromkeys(all_pt)))\n",
    "all_pt[:10]"
   ]
  },
  {
   "cell_type": "code",
   "execution_count": 44,
   "id": "9304c26d",
   "metadata": {},
   "outputs": [
    {
     "name": "stdout",
     "output_type": "stream",
     "text": [
      "111\n"
     ]
    }
   ],
   "source": [
    "print(len(all_pt))"
   ]
  },
  {
   "cell_type": "code",
   "execution_count": 45,
   "id": "bf7d8554",
   "metadata": {},
   "outputs": [
    {
     "name": "stdout",
     "output_type": "stream",
     "text": [
      "325\n",
      "98\n"
     ]
    }
   ],
   "source": [
    "# more than one potential charging stations in one grid\n",
    "# for potential charging stations in the same grid, they have different geometry\n",
    "print(len(po_pt))\n",
    "print(len(list(dict.fromkeys(po_pt))))"
   ]
  },
  {
   "cell_type": "code",
   "execution_count": 46,
   "id": "fa69d5bd",
   "metadata": {},
   "outputs": [
    {
     "data": {
      "text/html": [
       "<div>\n",
       "<style scoped>\n",
       "    .dataframe tbody tr th:only-of-type {\n",
       "        vertical-align: middle;\n",
       "    }\n",
       "\n",
       "    .dataframe tbody tr th {\n",
       "        vertical-align: top;\n",
       "    }\n",
       "\n",
       "    .dataframe thead th {\n",
       "        text-align: right;\n",
       "    }\n",
       "</style>\n",
       "<table border=\"1\" class=\"dataframe\">\n",
       "  <thead>\n",
       "    <tr style=\"text-align: right;\">\n",
       "      <th></th>\n",
       "      <th>amenity</th>\n",
       "      <th>geometry</th>\n",
       "      <th>Latitude</th>\n",
       "      <th>Longitude</th>\n",
       "      <th>grid number</th>\n",
       "    </tr>\n",
       "  </thead>\n",
       "  <tbody>\n",
       "    <tr>\n",
       "      <th>0</th>\n",
       "      <td>parking</td>\n",
       "      <td>POINT (-3.046891287099621 56.46621650001012)</td>\n",
       "      <td>56.466217</td>\n",
       "      <td>-3.046891</td>\n",
       "      <td>89</td>\n",
       "    </tr>\n",
       "    <tr>\n",
       "      <th>1</th>\n",
       "      <td>fuel</td>\n",
       "      <td>POINT (-2.848473686941031 56.47224079999363)</td>\n",
       "      <td>56.472241</td>\n",
       "      <td>-2.848474</td>\n",
       "      <td>412</td>\n",
       "    </tr>\n",
       "    <tr>\n",
       "      <th>2</th>\n",
       "      <td>parking</td>\n",
       "      <td>POINT (-2.895034186977277 56.47320819999986)</td>\n",
       "      <td>56.473208</td>\n",
       "      <td>-2.895034</td>\n",
       "      <td>328</td>\n",
       "    </tr>\n",
       "    <tr>\n",
       "      <th>3</th>\n",
       "      <td>fuel</td>\n",
       "      <td>POINT (-2.963304387034162 56.46350399999802)</td>\n",
       "      <td>56.463504</td>\n",
       "      <td>-2.963304</td>\n",
       "      <td>228</td>\n",
       "    </tr>\n",
       "    <tr>\n",
       "      <th>4</th>\n",
       "      <td>fuel</td>\n",
       "      <td>POINT (-2.9776499870463 56.46097389999711)</td>\n",
       "      <td>56.460974</td>\n",
       "      <td>-2.977650</td>\n",
       "      <td>200</td>\n",
       "    </tr>\n",
       "    <tr>\n",
       "      <th>...</th>\n",
       "      <td>...</td>\n",
       "      <td>...</td>\n",
       "      <td>...</td>\n",
       "      <td>...</td>\n",
       "      <td>...</td>\n",
       "    </tr>\n",
       "    <tr>\n",
       "      <th>320</th>\n",
       "      <td>parking</td>\n",
       "      <td>POINT (-3.049633514318001 56.46803411923985)</td>\n",
       "      <td>56.468034</td>\n",
       "      <td>-3.049634</td>\n",
       "      <td>90</td>\n",
       "    </tr>\n",
       "    <tr>\n",
       "      <th>321</th>\n",
       "      <td>parking</td>\n",
       "      <td>POINT (-3.04807983709986 56.46847420001244)</td>\n",
       "      <td>56.468474</td>\n",
       "      <td>-3.048080</td>\n",
       "      <td>90</td>\n",
       "    </tr>\n",
       "    <tr>\n",
       "      <th>322</th>\n",
       "      <td>parking</td>\n",
       "      <td>POINT (-3.049187742371133 56.46811767026757)</td>\n",
       "      <td>56.468118</td>\n",
       "      <td>-3.049188</td>\n",
       "      <td>90</td>\n",
       "    </tr>\n",
       "    <tr>\n",
       "      <th>323</th>\n",
       "      <td>parking</td>\n",
       "      <td>POINT (-2.984290155389708 56.45541694403015)</td>\n",
       "      <td>56.455417</td>\n",
       "      <td>-2.984290</td>\n",
       "      <td>185</td>\n",
       "    </tr>\n",
       "    <tr>\n",
       "      <th>324</th>\n",
       "      <td>parking</td>\n",
       "      <td>POINT (-2.976606342622262 56.46307233160453)</td>\n",
       "      <td>56.463072</td>\n",
       "      <td>-2.976606</td>\n",
       "      <td>200</td>\n",
       "    </tr>\n",
       "  </tbody>\n",
       "</table>\n",
       "<p>325 rows × 5 columns</p>\n",
       "</div>"
      ],
      "text/plain": [
       "     amenity                                      geometry   Latitude  \\\n",
       "0    parking  POINT (-3.046891287099621 56.46621650001012)  56.466217   \n",
       "1       fuel  POINT (-2.848473686941031 56.47224079999363)  56.472241   \n",
       "2    parking  POINT (-2.895034186977277 56.47320819999986)  56.473208   \n",
       "3       fuel  POINT (-2.963304387034162 56.46350399999802)  56.463504   \n",
       "4       fuel    POINT (-2.9776499870463 56.46097389999711)  56.460974   \n",
       "..       ...                                           ...        ...   \n",
       "320  parking  POINT (-3.049633514318001 56.46803411923985)  56.468034   \n",
       "321  parking   POINT (-3.04807983709986 56.46847420001244)  56.468474   \n",
       "322  parking  POINT (-3.049187742371133 56.46811767026757)  56.468118   \n",
       "323  parking  POINT (-2.984290155389708 56.45541694403015)  56.455417   \n",
       "324  parking  POINT (-2.976606342622262 56.46307233160453)  56.463072   \n",
       "\n",
       "     Longitude  grid number  \n",
       "0    -3.046891           89  \n",
       "1    -2.848474          412  \n",
       "2    -2.895034          328  \n",
       "3    -2.963304          228  \n",
       "4    -2.977650          200  \n",
       "..         ...          ...  \n",
       "320  -3.049634           90  \n",
       "321  -3.048080           90  \n",
       "322  -3.049188           90  \n",
       "323  -2.984290          185  \n",
       "324  -2.976606          200  \n",
       "\n",
       "[325 rows x 5 columns]"
      ]
     },
     "execution_count": 46,
     "metadata": {},
     "output_type": "execute_result"
    }
   ],
   "source": [
    "pt_charg_point.sort_values('grid number')\n",
    "pt_charg_point"
   ]
  },
  {
   "cell_type": "code",
   "execution_count": 47,
   "id": "e25bf4db",
   "metadata": {},
   "outputs": [],
   "source": [
    "# not too many charging stations in one grid, not too many traffic in city centre\n",
    "# as to the solution requirements\n",
    "# 1 The council wants to limit the number of charging point locations in each grid square as this may \n",
    "# result in too much traffic in the grid square.\n",
    "# 2 The council also to limit the number of charging stations in the city centre. Generally\n",
    "# the largest demand for recharging facilities in the centre of town, however, if all this\n",
    "# demand is satisfied in the city centre it may result in increase traffic in the city centre."
   ]
  },
  {
   "cell_type": "code",
   "execution_count": 48,
   "id": "ccafba0c",
   "metadata": {},
   "outputs": [
    {
     "data": {
      "text/plain": [
       "48"
      ]
     },
     "execution_count": 48,
     "metadata": {},
     "output_type": "execute_result"
    }
   ],
   "source": [
    "num_charg_point = demand['Number of Charging Points']\n",
    "num_charg_point.sort_values()\n",
    "num_charg_point.sum()"
   ]
  },
  {
   "cell_type": "code",
   "execution_count": 49,
   "id": "6cfd95e6",
   "metadata": {},
   "outputs": [
    {
     "data": {
      "text/plain": [
       "0       0\n",
       "293     0\n",
       "292     0\n",
       "291     0\n",
       "288     0\n",
       "       ..\n",
       "102    11\n",
       "88     13\n",
       "198    13\n",
       "185    15\n",
       "199    18\n",
       "Name: Number of Potential Locations, Length: 434, dtype: int64"
      ]
     },
     "execution_count": 49,
     "metadata": {},
     "output_type": "execute_result"
    }
   ],
   "source": [
    "num_pt_charg_point = demand['Number of Potential Locations']\n",
    "num_pt_charg_point.sort_values()"
   ]
  },
  {
   "cell_type": "code",
   "execution_count": 50,
   "id": "dde58513",
   "metadata": {},
   "outputs": [
    {
     "data": {
      "text/plain": [
       "324"
      ]
     },
     "execution_count": 50,
     "metadata": {},
     "output_type": "execute_result"
    }
   ],
   "source": [
    "num_pt_charg_point.sum()"
   ]
  },
  {
   "cell_type": "code",
   "execution_count": 51,
   "id": "5bad4a9a",
   "metadata": {},
   "outputs": [
    {
     "data": {
      "text/plain": [
       "33.7308805"
      ]
     },
     "execution_count": 51,
     "metadata": {},
     "output_type": "execute_result"
    }
   ],
   "source": [
    "demand_zero = demand['Demand_0']\n",
    "\n",
    "demand_zero.max()/slow_c[0] - demand.loc[368]['Number of Charging Points']"
   ]
  },
  {
   "cell_type": "code",
   "execution_count": 52,
   "id": "29926c90",
   "metadata": {},
   "outputs": [
    {
     "data": {
      "text/plain": [
       "33.7308805"
      ]
     },
     "execution_count": 52,
     "metadata": {},
     "output_type": "execute_result"
    }
   ],
   "source": [
    "demand_one = demand['Demand_1']\n",
    "demand_one.max()/slow_c[0] - demand.loc[368]['Number of Charging Points']"
   ]
  },
  {
   "cell_type": "code",
   "execution_count": 53,
   "id": "914cb582",
   "metadata": {},
   "outputs": [
    {
     "data": {
      "text/plain": [
       "35.11488696089882"
      ]
     },
     "execution_count": 53,
     "metadata": {},
     "output_type": "execute_result"
    }
   ],
   "source": [
    "demand_two = demand['Demand_2']\n",
    "demand_two.sort_values()\n",
    "demand_two.max()/slow_c[0] - demand.loc[198]['Number of Charging Points']"
   ]
  },
  {
   "cell_type": "code",
   "execution_count": 54,
   "id": "f6d2b52b",
   "metadata": {},
   "outputs": [
    {
     "data": {
      "text/plain": [
       "43.5322072635937"
      ]
     },
     "execution_count": 54,
     "metadata": {},
     "output_type": "execute_result"
    }
   ],
   "source": [
    "demand_three = demand['Demand_3']\n",
    "demand_three.sort_values()\n",
    "demand_three.max()/slow_c[0] - demand.loc[198]['Number of Charging Points']"
   ]
  },
  {
   "cell_type": "code",
   "execution_count": 55,
   "id": "3df52013",
   "metadata": {},
   "outputs": [
    {
     "data": {
      "text/plain": [
       "0          0.000000\n",
       "296        0.000000\n",
       "295        0.000000\n",
       "294        0.000000\n",
       "293        0.000000\n",
       "           ...     \n",
       "213    29378.401649\n",
       "199    37365.240941\n",
       "133    65264.576899\n",
       "198    66431.561124\n",
       "368    71461.761000\n",
       "Name: Demand_1, Length: 434, dtype: float64"
      ]
     },
     "execution_count": 55,
     "metadata": {},
     "output_type": "execute_result"
    }
   ],
   "source": [
    "demand_one = demand['Demand_1']\n",
    "demand_one.sort_values()"
   ]
  },
  {
   "cell_type": "code",
   "execution_count": 56,
   "id": "6491b67e",
   "metadata": {},
   "outputs": [
    {
     "data": {
      "text/plain": [
       "Ref                                                                              369\n",
       "geometry                           POLYGON ((-2.8763558450449 56.46439706728959, ...\n",
       "Number of Charging Points                                                          2\n",
       "Number of Slow Charging Points                                                     0\n",
       "Number of Fast Charging Points                                                     1\n",
       "Number of Rapid Charging Points                                                    1\n",
       "Number of PoI                                                                     10\n",
       "Number of Potential Locations                                                      7\n",
       "Distance from Centre                                                     5999.689193\n",
       "NEIGHBORS                                   [354, 355, 356, 368, 370, 382, 383, 384]\n",
       "Demand_0                                                                   71461.761\n",
       "Demand_1                                                                   71461.761\n",
       "Demand_2                                                                73275.579279\n",
       "Demand_3                                                                77004.260338\n",
       "sum_demand                                                             293203.361617\n",
       "sum_charg_point                                                                    9\n",
       "Name: 368, dtype: object"
      ]
     },
     "execution_count": 56,
     "metadata": {},
     "output_type": "execute_result"
    }
   ],
   "source": [
    "demand.loc[368]"
   ]
  },
  {
   "cell_type": "code",
   "execution_count": 57,
   "id": "ee175996",
   "metadata": {},
   "outputs": [
    {
     "data": {
      "text/plain": [
       "0          0.000\n",
       "293        0.000\n",
       "292        0.000\n",
       "291        0.000\n",
       "290        0.000\n",
       "         ...    \n",
       "199    29688.999\n",
       "189    38170.244\n",
       "198    61799.099\n",
       "133    64797.950\n",
       "368    71461.761\n",
       "Name: Demand_0, Length: 434, dtype: float64"
      ]
     },
     "execution_count": 57,
     "metadata": {},
     "output_type": "execute_result"
    }
   ],
   "source": [
    "demand_zero = demand['Demand_0']\n",
    "demand_zero.sort_values()"
   ]
  },
  {
   "cell_type": "code",
   "execution_count": 58,
   "id": "a8d3eaf3",
   "metadata": {},
   "outputs": [],
   "source": [
    "max_grid_demand = demand.loc[368]['Demand_0']+demand.loc[368]['Demand_1']+demand.loc[368]['Demand_2']+demand.loc[368]['Demand_3']"
   ]
  },
  {
   "cell_type": "code",
   "execution_count": null,
   "id": "811488ef",
   "metadata": {},
   "outputs": [],
   "source": []
  },
  {
   "cell_type": "code",
   "execution_count": 59,
   "id": "b1068720",
   "metadata": {},
   "outputs": [],
   "source": [
    "# as to the solution requirements\n",
    "# 1 The council wants to limit the number of charging point locations in each grid square as this may \n",
    "# result in too much traffic in the grid square.\n",
    "# 2 The council also to limit the number of charging stations in the city centre. Generally\n",
    "# the largest demand for recharging facilities in the centre of town, however, if all this\n",
    "# demand is satisfied in the city centre it may result in increase traffic in the city centre."
   ]
  },
  {
   "cell_type": "code",
   "execution_count": 60,
   "id": "122ab68f",
   "metadata": {},
   "outputs": [
    {
     "data": {
      "text/plain": [
       "214     270.076114\n",
       "213     275.262283\n",
       "228     604.578858\n",
       "227     606.913349\n",
       "200     612.375019\n",
       "          ...     \n",
       "27     9227.509196\n",
       "432    9395.886624\n",
       "12     9403.456756\n",
       "433    9676.341567\n",
       "13     9683.692459\n",
       "Name: Distance from Centre, Length: 434, dtype: float64"
      ]
     },
     "execution_count": 60,
     "metadata": {},
     "output_type": "execute_result"
    }
   ],
   "source": [
    "# we can minimize the (distance from city center * number of chargers for each grid) \n",
    "# use the dataframe demand\n",
    "grid_dis = demand['Distance from Centre']\n",
    "#demand.iloc[demand['Distance from Centre'] == grid_dis.min()]\n",
    "grid_dis.sort_values()"
   ]
  },
  {
   "cell_type": "markdown",
   "id": "14a7c046",
   "metadata": {},
   "source": [
    "for i in grids:\n",
    "    grid_max_0 = (demand.loc[demand['Ref']== i+1]['Demand_0']/slow_c[0] - 2*demand.loc[demand['Ref']== i+1]['Number of Charging Points'])[i]\n",
    "    grid_max_1 = (demand.loc[demand['Ref']== i+1]['Demand_1']/slow_c[0] - 2*demand.loc[demand['Ref']== i+1]['Number of Charging Points'])[i]\n",
    "    grid_max_2 = (demand.loc[demand['Ref']== i+1]['Demand_2']/slow_c[0] - 2*demand.loc[demand['Ref']== i+1]['Number of Charging Points'])[i]\n",
    "    grid_max_3 = (demand.loc[demand['Ref']== i+1]['Demand_3']/slow_c[0] - 2*demand.loc[demand['Ref']== i+1]['Number of Charging Points'])[i]\n",
    "    if grid_max_0 < 0:\n",
    "        grid_max_0 = 0\n",
    "    if grid_max_1 < 0:\n",
    "        grid_max_1 = 0\n",
    "    if grid_max_2 < 0:\n",
    "        grid_max_2 = 0\n",
    "    if grid_max_3 < 0:\n",
    "        grid_max_3 = 0\n",
    "    location.addConstraint(x1[t,i] + x2[t,i] + x3[t,i] <= grid_max_0 for t in range(1))\n",
    "    location.addConstraint(x1[t,i] + x2[t,i] + x3[t,i] <= grid_max_1 for t in range(1,2))\n",
    "    location.addConstraint(x1[t,i] + x2[t,i] + x3[t,i] <= grid_max_2 for t in range(2,3))\n",
    "    location.addConstraint(x1[t,i] + x2[t,i] + x3[t,i] <= grid_max_3 for t in range(3,4))"
   ]
  },
  {
   "cell_type": "code",
   "execution_count": 61,
   "id": "d15e7dd5",
   "metadata": {},
   "outputs": [],
   "source": [
    "for i in grids:\n",
    "    nearby_demand_0 = demand.loc[demand['Ref']== i+1]['Demand_0']\n",
    "    nearby_demand_1 = demand.loc[demand['Ref']== i+1]['Demand_1']\n",
    "    nearby_demand_2 = demand.loc[demand['Ref']== i+1]['Demand_2']\n",
    "    nearby_demand_3 = demand.loc[demand['Ref']== i+1]['Demand_3']\n",
    "    neighbour_list = demand.loc[i]['NEIGHBORS'].strip('[').strip(']').replace(' ','')\n",
    "    neighbour_list = neighbour_list.split(',')\n",
    "    for x in neighbour_list:\n",
    "        x = int(x)-1\n",
    "        nearby_demand_0 += demand.loc[x]['Demand_0']\n",
    "        nearby_demand_1 += demand.loc[x]['Demand_1']\n",
    "        nearby_demand_2 += demand.loc[x]['Demand_2']\n",
    "        nearby_demand_3 += demand.loc[x]['Demand_3']\n",
    "    \n",
    "    grid_max_0 = (0.8*nearby_demand_0/slow_c[0] - 2*demand.loc[demand['Ref']== i+1]['Number of Charging Points'])[i]\n",
    "    grid_max_1 = (0.8*nearby_demand_1/slow_c[0] - 2*demand.loc[demand['Ref']== i+1]['Number of Charging Points'])[i]\n",
    "    grid_max_2 = (0.8*nearby_demand_2/slow_c[0] - 2*demand.loc[demand['Ref']== i+1]['Number of Charging Points'])[i]\n",
    "    grid_max_3 = (0.8*nearby_demand_3/slow_c[0] - 2*demand.loc[demand['Ref']== i+1]['Number of Charging Points'])[i]\n",
    "    if grid_max_0 < 0:\n",
    "        grid_max_0 = 0\n",
    "    if grid_max_1 < 0:\n",
    "        grid_max_1 = 0\n",
    "    if grid_max_2 < 0:\n",
    "        grid_max_2 = 0\n",
    "    if grid_max_3 < 0:\n",
    "        grid_max_3 = 0\n",
    "    location.addConstraint(x1[t,i] + x2[t,i] + x3[t,i] <= grid_max_0 for t in range(1))\n",
    "    location.addConstraint(x1[t,i] + x2[t,i] + x3[t,i] <= grid_max_1 for t in range(1,2))\n",
    "    location.addConstraint(x1[t,i] + x2[t,i] + x3[t,i] <= grid_max_2 for t in range(2,3))\n",
    "    location.addConstraint(x1[t,i] + x2[t,i] + x3[t,i] <= grid_max_3 for t in range(3,4))"
   ]
  },
  {
   "cell_type": "code",
   "execution_count": 62,
   "id": "fd8e050c",
   "metadata": {},
   "outputs": [],
   "source": [
    "center_grid = [184,185,186,187,188,198,199,200,201,202,212,213,214,215,216,226,227,228,229,230,240,241,242,243,244]"
   ]
  },
  {
   "cell_type": "code",
   "execution_count": 63,
   "id": "29bd8877",
   "metadata": {},
   "outputs": [],
   "source": [
    "for i in center_grid:\n",
    "    i = i-1\n",
    "    nearby_demand_0 = demand.loc[demand['Ref']== i+1]['Demand_0']\n",
    "    nearby_demand_1 = demand.loc[demand['Ref']== i+1]['Demand_1']\n",
    "    nearby_demand_2 = demand.loc[demand['Ref']== i+1]['Demand_2']\n",
    "    nearby_demand_3 = demand.loc[demand['Ref']== i+1]['Demand_3']\n",
    "    neighbour_list = demand.loc[i]['NEIGHBORS'].strip('[').strip(']').replace(' ','')\n",
    "    neighbour_list = neighbour_list.split(',')\n",
    "    for x in neighbour_list:\n",
    "        x = int(x)-1\n",
    "        nearby_demand_0 += demand.loc[x]['Demand_0']\n",
    "        nearby_demand_1 += demand.loc[x]['Demand_1']\n",
    "        nearby_demand_2 += demand.loc[x]['Demand_2']\n",
    "        nearby_demand_3 += demand.loc[x]['Demand_3']\n",
    "    \n",
    "    grid_max_0 = (0.6*nearby_demand_0/slow_c[0] - 2*demand.loc[demand['Ref']== i+1]['Number of Charging Points'])[i]\n",
    "    grid_max_1 = (0.6*nearby_demand_1/slow_c[0] - 2*demand.loc[demand['Ref']== i+1]['Number of Charging Points'])[i]\n",
    "    grid_max_2 = (0.6*nearby_demand_2/slow_c[0] - 2*demand.loc[demand['Ref']== i+1]['Number of Charging Points'])[i]\n",
    "    grid_max_3 = (0.6*nearby_demand_3/slow_c[0] - 2*demand.loc[demand['Ref']== i+1]['Number of Charging Points'])[i]\n",
    "    if grid_max_0 < 0:\n",
    "        grid_max_0 = 0\n",
    "    if grid_max_1 < 0:\n",
    "        grid_max_1 = 0\n",
    "    if grid_max_2 < 0:\n",
    "        grid_max_2 = 0\n",
    "    if grid_max_3 < 0:\n",
    "        grid_max_3 = 0\n",
    "    location.addConstraint(x1[t,i] + x2[t,i] + x3[t,i] <= grid_max_0 for t in range(1))\n",
    "    location.addConstraint(x1[t,i] + x2[t,i] + x3[t,i] <= grid_max_1 for t in range(1,2))\n",
    "    location.addConstraint(x1[t,i] + x2[t,i] + x3[t,i] <= grid_max_2 for t in range(2,3))\n",
    "    location.addConstraint(x1[t,i] + x2[t,i] + x3[t,i] <= grid_max_3 for t in range(3,4))"
   ]
  },
  {
   "cell_type": "markdown",
   "id": "61ff0f8d",
   "metadata": {},
   "source": [
    "for i in center_grid:\n",
    "    #print(demand.loc[demand['Ref']== x]['Number of Potential Locations'])\n",
    "    #print(type(x))\n",
    "    \n",
    "    \n",
    "    grid_max_0 = (0.8*demand.loc[demand['Ref']== i]['Demand_0']/slow_c[0] - 2*demand.loc[demand['Ref']== i]['Number of Charging Points'])[i-1]\n",
    "    grid_max_1 = (0.8*demand.loc[demand['Ref']== i]['Demand_1']/slow_c[0] - 2*demand.loc[demand['Ref']== i]['Number of Charging Points'])[i-1]\n",
    "    grid_max_2 = (0.8*demand.loc[demand['Ref']== i]['Demand_2']/slow_c[0] - 2*demand.loc[demand['Ref']== i]['Number of Charging Points'])[i-1]\n",
    "    grid_max_3 = (0.8*demand.loc[demand['Ref']== i]['Demand_3']/slow_c[0] - 2*demand.loc[demand['Ref']== i]['Number of Charging Points'])[i-1]\n",
    "    if grid_max_0 < 0:\n",
    "        grid_max_0 = 0\n",
    "    if grid_max_1 < 0:\n",
    "        grid_max_1 = 0\n",
    "    if grid_max_2 < 0:\n",
    "        grid_max_2 = 0\n",
    "    if grid_max_3 < 0:\n",
    "        grid_max_3 = 0\n",
    "    location.addConstraint(x1[t,i-1] + x2[t,i-1] + x3[t,i-1] <= grid_max_0 for t in range(1))\n",
    "    location.addConstraint(x1[t,i-1] + x2[t,i-1] + x3[t,i-1] <= grid_max_1 for t in range(1,2))\n",
    "    location.addConstraint(x1[t,i-1] + x2[t,i-1] + x3[t,i-1] <= grid_max_2 for t in range(2,3))\n",
    "    location.addConstraint(x1[t,i-1] + x2[t,i-1] + x3[t,i-1] <= grid_max_3 for t in range(3,4))"
   ]
  },
  {
   "cell_type": "code",
   "execution_count": 64,
   "id": "c94a78fc",
   "metadata": {},
   "outputs": [
    {
     "data": {
      "text/plain": [
       "172    -1.450885\n",
       "149    -0.527280\n",
       "228    -0.074930\n",
       "162    -0.064775\n",
       "292     0.000000\n",
       "         ...    \n",
       "188     6.966570\n",
       "189    16.085122\n",
       "198    27.899550\n",
       "133    31.398975\n",
       "368    33.730880\n",
       "Length: 434, dtype: float64"
      ]
     },
     "execution_count": 64,
     "metadata": {},
     "output_type": "execute_result"
    }
   ],
   "source": [
    "(demand['Demand_0']/2000 - demand['Number of Charging Points']).sort_values()"
   ]
  },
  {
   "cell_type": "code",
   "execution_count": 65,
   "id": "0b67c3f4",
   "metadata": {},
   "outputs": [
    {
     "data": {
      "text/plain": [
       "189    -3.000000\n",
       "262    -2.000000\n",
       "303    -2.000000\n",
       "172    -2.000000\n",
       "149    -1.000000\n",
       "         ...    \n",
       "199    10.682620\n",
       "213    11.689201\n",
       "198    30.215781\n",
       "133    31.632288\n",
       "368    33.730880\n",
       "Length: 434, dtype: float64"
      ]
     },
     "execution_count": 65,
     "metadata": {},
     "output_type": "execute_result"
    }
   ],
   "source": [
    "(demand['Demand_1']/2000 - demand['Number of Charging Points']).sort_values()"
   ]
  },
  {
   "cell_type": "code",
   "execution_count": 66,
   "id": "512a379c",
   "metadata": {},
   "outputs": [
    {
     "data": {
      "text/plain": [
       "189    -3.000000\n",
       "303    -2.000000\n",
       "262    -2.000000\n",
       "172    -2.000000\n",
       "149    -1.000000\n",
       "         ...    \n",
       "199    17.024442\n",
       "213    18.865873\n",
       "133    33.215692\n",
       "368    34.637790\n",
       "198    35.114887\n",
       "Length: 434, dtype: float64"
      ]
     },
     "execution_count": 66,
     "metadata": {},
     "output_type": "execute_result"
    }
   ],
   "source": [
    "(demand['Demand_2']/2000 - demand['Number of Charging Points']).sort_values()"
   ]
  },
  {
   "cell_type": "code",
   "execution_count": 67,
   "id": "63c74680",
   "metadata": {},
   "outputs": [
    {
     "data": {
      "text/plain": [
       "189    -3.000000\n",
       "172    -2.000000\n",
       "262    -2.000000\n",
       "303    -2.000000\n",
       "149    -1.000000\n",
       "         ...    \n",
       "199    26.991554\n",
       "213    29.023368\n",
       "133    36.268088\n",
       "368    36.502130\n",
       "198    43.532207\n",
       "Length: 434, dtype: float64"
      ]
     },
     "execution_count": 67,
     "metadata": {},
     "output_type": "execute_result"
    }
   ],
   "source": [
    "(demand['Demand_3']/2000 - demand['Number of Charging Points']).sort_values()"
   ]
  },
  {
   "cell_type": "code",
   "execution_count": 68,
   "id": "41fadfbe",
   "metadata": {},
   "outputs": [
    {
     "name": "stdout",
     "output_type": "stream",
     "text": [
      "0.10416666666666667\n"
     ]
    }
   ],
   "source": [
    "# existing: number of all charging points, number of rapid charging point\n",
    "num_charg_point = demand['Number of Charging Points'].sum()\n",
    "num_rapid_charg = demand['Number of Rapid Charging Points'].sum()\n",
    "print(num_rapid_charg/ num_charg_point)"
   ]
  },
  {
   "cell_type": "code",
   "execution_count": null,
   "id": "c43a717a",
   "metadata": {},
   "outputs": [],
   "source": []
  },
  {
   "cell_type": "markdown",
   "id": "03982d0d",
   "metadata": {},
   "source": [
    "# limit on ratio of rapid chargers\n",
    "\n",
    "location.addConstraint(xp.Sum(x3[t,i] for t in years for i in grids) >= \n",
    "                       0.2*xp.Sum(x1[t,i]+x2[t,i]+x3[t,i] for t in years for i in grids))\n",
    "location.addConstraint(xp.Sum(x3[t,i] for t in years for i in grids) <= \n",
    "                       0.3*xp.Sum(x1[t,i]+x2[t,i]+x3[t,i] for t in years for i in grids))"
   ]
  },
  {
   "cell_type": "code",
   "execution_count": 69,
   "id": "5d34d87e",
   "metadata": {},
   "outputs": [],
   "source": [
    "location.addConstraint(xp.Sum(x3[t,i] for t in years for i in grids) >= \n",
    "                       0.2*xp.Sum(x1[t,i]+x2[t,i]+x3[t,i] for t in years for i in grids))\n",
    "location.addConstraint(xp.Sum(x1[t,i] for t in years for i in grids) >= \n",
    "                       0.2*xp.Sum(x1[t,i]+x2[t,i]+x3[t,i] for t in years for i in grids))\n",
    "location.addConstraint(xp.Sum(x2[t,i] for t in years for i in grids) >= \n",
    "                       0.2*xp.Sum(x1[t,i]+x2[t,i]+x3[t,i] for t in years for i in grids))\n",
    "location.addConstraint(xp.Sum(x3[t,i] for t in years for i in grids) <= \n",
    "                       0.4*xp.Sum(x1[t,i]+x2[t,i]+x3[t,i] for t in years for i in grids))\n",
    "#location.addConstraint(xp.Sum(x1[t,i] for t in years for i in grids) <= \n",
    "#                       0.8*xp.Sum(x1[t,i]+x2[t,i]+x3[t,i] for t in years for i in grids))\n",
    "#location.addConstraint(xp.Sum(x2[t,i] for t in years for i in grids) <= \n",
    "#                       0.8*xp.Sum(x1[t,i]+x2[t,i]+x3[t,i] for t in years for i in grids))"
   ]
  },
  {
   "cell_type": "markdown",
   "id": "0573c190",
   "metadata": {},
   "source": [
    "# objective function"
   ]
  },
  {
   "cell_type": "markdown",
   "id": "e20ab2e6",
   "metadata": {},
   "source": [
    "coef_grid = number_of_grids*[1]"
   ]
  },
  {
   "cell_type": "markdown",
   "id": "d6e97668",
   "metadata": {},
   "source": [
    "for ind in interest_point.index:\n",
    "    interest_grid = interest_point.loc[ind]['grid number'] - 1\n",
    "    coef_grid[interest_grid] *= 1.1\n",
    "print(coef_grid)"
   ]
  },
  {
   "cell_type": "markdown",
   "id": "1f8bb992",
   "metadata": {},
   "source": [
    "# how many interest points in this grid\n",
    "grid_interest_number = interest_point.groupby('grid number').count()\n",
    "grid_interest_list = number_of_grids*[0]\n",
    "for ind in grid_interest_number.index:\n",
    "    #print(ind-1, grid_interest_number.loc[ind][0])\n",
    "    grid_interest_list[ind-1] = grid_interest_number.loc[ind][0]\n",
    "print(grid_interest_list)"
   ]
  },
  {
   "cell_type": "markdown",
   "id": "02cb45c6",
   "metadata": {},
   "source": [
    "for i in grids:\n",
    "    neighbour_list = demand.loc[i]['NEIGHBORS'].strip('[').strip(']').replace(' ','')\n",
    "    #print(neighbour_list)\n",
    "    neighbour_list = neighbour_list.split(',')\n",
    "    for x in neighbour_list:\n",
    "        x = int(x)-1\n",
    "        coef_grid[i] *= 1.05**grid_interest_list[x]\n",
    "print(coef_grid)"
   ]
  },
  {
   "cell_type": "code",
   "execution_count": null,
   "id": "df34d18d",
   "metadata": {},
   "outputs": [],
   "source": []
  },
  {
   "cell_type": "code",
   "execution_count": 70,
   "id": "feb742e3",
   "metadata": {},
   "outputs": [],
   "source": [
    "#location.setObjective(xp.Sum((9676.341567 - grid_dis[i])*xp.Sum((x1[t,i] + x2[t,i] + x3[t,i]) for t in years) \n",
    "#                         for i in grids), \n",
    "#                  sense = xp.minimize)"
   ]
  },
  {
   "cell_type": "code",
   "execution_count": null,
   "id": "bc3c5a31",
   "metadata": {},
   "outputs": [],
   "source": []
  },
  {
   "cell_type": "markdown",
   "id": "86263aae",
   "metadata": {},
   "source": [
    "location.setObjective(xp.Sum(coef_grid[i]* xp.Sum((slow_c[0]+slow_c[1])/2*x1[t,i] + \n",
    "                                                  (fast_c[0]+fast_c[1])/2*x2[t,i] + \n",
    "                                                  (rapid_c[0]+rapid_c[1])/2*x3[t,i] for t in years) for i in grids), \n",
    "                  sense = xp.maximize)"
   ]
  },
  {
   "cell_type": "code",
   "execution_count": 71,
   "id": "00c650c9",
   "metadata": {},
   "outputs": [
    {
     "data": {
      "text/plain": [
       "22"
      ]
     },
     "execution_count": 71,
     "metadata": {},
     "output_type": "execute_result"
    }
   ],
   "source": [
    "charg_pt_exist = number_of_grids*[0]\n",
    "for ind in demand.index:\n",
    "    if demand.loc[ind]['Number of Charging Points'] > 0:\n",
    "        charg_pt_exist[ind] = 1\n",
    "\n",
    "sum(charg_pt_exist)"
   ]
  },
  {
   "cell_type": "code",
   "execution_count": 72,
   "id": "1717c1b8",
   "metadata": {},
   "outputs": [],
   "source": [
    "location.setObjective(xp.Sum(charg_pt_exist[i]* xp.Sum(x1[t,i]+x2[t,i]+x3[t,i] for t in years) \n",
    "                             for i in grids),\n",
    "                     sense = xp.maximize)"
   ]
  },
  {
   "cell_type": "code",
   "execution_count": 73,
   "id": "84f5891f",
   "metadata": {},
   "outputs": [
    {
     "name": "stdout",
     "output_type": "stream",
     "text": [
      "FICO Xpress v8.13.7, Hyper, solve started 17:33:56, Nov 27, 2022\n",
      "Heap usage: 8086KB (peak 8086KB, 2722KB system)\n",
      "Maximizing MILP location using up to 8 threads, with these control settings:\n",
      "OUTPUTLOG = 1\n",
      "Original problem has:\n",
      "     12816 rows         5208 cols       144780 elements      5208 globals\n",
      "Presolved problem has:\n",
      "       281 rows          810 cols         4164 elements       810 globals\n",
      "LP relaxation tightened\n",
      "Presolve finished in 0 seconds\n",
      "Heap usage: 7450KB (peak 17MB, 2722KB system)\n",
      "\n",
      "Coefficient range                    original                 solved        \n",
      "  Coefficients   [min,max] : [ 2.00e-01,  5.05e+04] / [ 2.00e-01,  1.93e+00]\n",
      "  RHS and bounds [min,max] : [ 1.29e-03,  3.09e+06] / [ 1.00e+00,  1.05e+02]\n",
      "  Objective      [min,max] : [ 1.00e+00,  1.00e+00] / [ 1.00e+00,  1.00e+00]\n",
      "Autoscaling applied standard scaling\n",
      "\n",
      "Symmetric problem: generators: 146, support set: 726\n",
      " Number of orbits: 166, largest orbit: 66\n",
      " Row orbits: 42, row support: 188\n",
      "Will try to keep branch and bound tree memory usage below 15.1GB\n",
      " *** Solution found:     8.000000   Time:   0    Heuristic: e ***\n",
      " *** Solution found:  1601.000000   Time:   0    Heuristic: h ***\n",
      "Starting concurrent solve with dual (1 thread)\n",
      "\n",
      " Concurrent-Solve,   0s\n",
      "            Dual        \n",
      "    objective   dual inf\n",
      " D  1601.0000   .0000000\n",
      "-------- cutoff --------\n",
      "Concurrent statistics:\n",
      "      Dual: 61 simplex iterations, 0.00s\n",
      "Problem is cut off\n",
      " *** Search completed ***\n",
      "Uncrunching matrix\n",
      "Final MIP objective                   : 1.601000000000000e+03\n",
      "Final MIP bound                       : 1.601000000000000e+03\n",
      "  Solution time / primaldual integral :         0s/ 97.166104%\n",
      "  Number of solutions found / nodes   :         2 /         0\n",
      "  Max primal violation      (abs/rel) :       0.0 /       0.0\n",
      "  Max integer violation     (abs    ) :       0.0\n"
     ]
    }
   ],
   "source": [
    "location.solve()"
   ]
  },
  {
   "cell_type": "code",
   "execution_count": 74,
   "id": "6dea364f",
   "metadata": {},
   "outputs": [
    {
     "name": "stdout",
     "output_type": "stream",
     "text": [
      "The objective function value is 1601.0\n"
     ]
    }
   ],
   "source": [
    "print(f'The objective function value is {location.getObjVal()}') "
   ]
  },
  {
   "cell_type": "markdown",
   "id": "6f172a36",
   "metadata": {},
   "source": [
    "# some prints about the new chargers bulit every year"
   ]
  },
  {
   "cell_type": "code",
   "execution_count": 75,
   "id": "3401dacf",
   "metadata": {},
   "outputs": [
    {
     "name": "stdout",
     "output_type": "stream",
     "text": [
      "Sum of slow chargers in the four years: 503.0\n",
      "Sum of fast chargers in the four years: 629.0\n",
      "Sum of rapid chargers in the four years: 539.0\n",
      "Percentage of slow chargers:  0.30101735487731895\n",
      "Percentage of fast chargers:  0.37642130460801915\n",
      "Percentage of rapid chargers:  0.3225613405146619\n"
     ]
    }
   ],
   "source": [
    "print('Sum of slow chargers in the four years:', location.getSolution(xp.Sum(x1[t,i] for t in years for i in grids)))\n",
    "print('Sum of fast chargers in the four years:', location.getSolution(xp.Sum(x2[t,i] for t in years for i in grids)))\n",
    "print('Sum of rapid chargers in the four years:', location.getSolution(xp.Sum(x3[t,i] for t in years for i in grids)))\n",
    "sum_of_charg = location.getSolution(xp.Sum(x1[t,i]+x2[t,i]+x3[t,i] for t in years for i in grids))\n",
    "print('Percentage of slow chargers: ',location.getSolution(xp.Sum(x1[t,i] for t in years for i in grids))/sum_of_charg)\n",
    "print('Percentage of fast chargers: ',location.getSolution(xp.Sum(x2[t,i] for t in years for i in grids))/sum_of_charg)\n",
    "print('Percentage of rapid chargers: ',location.getSolution(xp.Sum(x3[t,i] for t in years for i in grids))/sum_of_charg)"
   ]
  },
  {
   "cell_type": "code",
   "execution_count": 76,
   "id": "bfa5e0c2",
   "metadata": {},
   "outputs": [
    {
     "name": "stdout",
     "output_type": "stream",
     "text": [
      "Sum of slow chargers in the first year:  33.0\n",
      "Sum of fast chargers in the first year:  193.0\n",
      "Sum of rapid chargers in the first year:  27.0\n",
      "Percentage of slow chargers:  0.13043478260869565\n",
      "Percentage of fast chargers:  0.7628458498023716\n",
      "Percentage of rapid chargers:  0.1067193675889328\n"
     ]
    }
   ],
   "source": [
    "print('Sum of slow chargers in the first year: ', location.getSolution(xp.Sum(x1[0,i] for i in grids)))\n",
    "print('Sum of fast chargers in the first year: ', location.getSolution(xp.Sum(x2[0,i] for i in grids)))\n",
    "print('Sum of rapid chargers in the first year: ', location.getSolution(xp.Sum(x3[0,i] for i in grids)))\n",
    "first_sum_of_charg = location.getSolution(xp.Sum(x1[0,i]+x2[0,i]+x3[0,i] for i in grids))\n",
    "print('Percentage of slow chargers: ',location.getSolution(xp.Sum(x1[0,i] for i in grids))/first_sum_of_charg)\n",
    "print('Percentage of fast chargers: ',location.getSolution(xp.Sum(x2[0,i] for i in grids))/first_sum_of_charg)\n",
    "print('Percentage of rapid chargers: ',location.getSolution(xp.Sum(x3[0,i] for i in grids))/first_sum_of_charg)"
   ]
  },
  {
   "cell_type": "code",
   "execution_count": 77,
   "id": "897a246c",
   "metadata": {},
   "outputs": [
    {
     "name": "stdout",
     "output_type": "stream",
     "text": [
      "Sum of slow chargers in the second year:  10.0\n",
      "Sum of fast chargers in the second year:  132.0\n",
      "Sum of rapid chargers in the second year:  159.0\n",
      "Percentage of slow chargers:  0.03322259136212625\n",
      "Percentage of fast chargers:  0.43853820598006643\n",
      "Percentage of rapid chargers:  0.5282392026578073\n"
     ]
    }
   ],
   "source": [
    "print('Sum of slow chargers in the second year: ', location.getSolution(xp.Sum(x1[1,i] for i in grids)))\n",
    "print('Sum of fast chargers in the second year: ', location.getSolution(xp.Sum(x2[1,i] for i in grids)))\n",
    "print('Sum of rapid chargers in the second year: ', location.getSolution(xp.Sum(x3[1,i] for i in grids)))\n",
    "sec_sum_of_charg = location.getSolution(xp.Sum(x1[1,i]+x2[1,i]+x3[1,i] for i in grids))\n",
    "print('Percentage of slow chargers: ',location.getSolution(xp.Sum(x1[1,i] for i in grids))/sec_sum_of_charg)\n",
    "print('Percentage of fast chargers: ',location.getSolution(xp.Sum(x2[1,i] for i in grids))/sec_sum_of_charg)\n",
    "print('Percentage of rapid chargers: ',location.getSolution(xp.Sum(x3[1,i] for i in grids))/sec_sum_of_charg)"
   ]
  },
  {
   "cell_type": "code",
   "execution_count": 78,
   "id": "54c99f9f",
   "metadata": {},
   "outputs": [
    {
     "name": "stdout",
     "output_type": "stream",
     "text": [
      "Sum of slow chargers in the third year:  301.0\n",
      "Sum of fast chargers in the third year:  0.0\n",
      "Sum of rapid chargers in the third year:  143.0\n",
      "Percentage of slow chargers:  0.6779279279279279\n",
      "Percentage of fast chargers:  0.0\n",
      "Percentage of rapid chargers:  0.32207207207207206\n"
     ]
    }
   ],
   "source": [
    "print('Sum of slow chargers in the third year: ', location.getSolution(xp.Sum(x1[2,i] for i in grids)))\n",
    "print('Sum of fast chargers in the third year: ', location.getSolution(xp.Sum(x2[2,i] for i in grids)))\n",
    "print('Sum of rapid chargers in the third year: ', location.getSolution(xp.Sum(x3[2,i] for i in grids)))\n",
    "third_sum_of_charg = location.getSolution(xp.Sum(x1[2,i]+x2[2,i]+x3[2,i] for i in grids))\n",
    "print('Percentage of slow chargers: ',location.getSolution(xp.Sum(x1[2,i] for i in grids))/third_sum_of_charg)\n",
    "print('Percentage of fast chargers: ',location.getSolution(xp.Sum(x2[2,i] for i in grids))/third_sum_of_charg)\n",
    "print('Percentage of rapid chargers: ',location.getSolution(xp.Sum(x3[2,i] for i in grids))/third_sum_of_charg)"
   ]
  },
  {
   "cell_type": "code",
   "execution_count": 79,
   "id": "023e2274",
   "metadata": {
    "scrolled": true
   },
   "outputs": [
    {
     "name": "stdout",
     "output_type": "stream",
     "text": [
      "Sum of slow chargers in the fourth year:  159.0\n",
      "Sum of fast chargers in the fourth year:  304.0\n",
      "Sum of rapid chargers in the fourth year:  210.0\n",
      "Percentage of slow chargers:  0.2362555720653789\n",
      "Percentage of fast chargers:  0.45170876671619614\n",
      "Percentage of rapid chargers:  0.31203566121842496\n"
     ]
    }
   ],
   "source": [
    "print('Sum of slow chargers in the fourth year: ', location.getSolution(xp.Sum(x1[3,i] for i in grids)))\n",
    "print('Sum of fast chargers in the fourth year: ', location.getSolution(xp.Sum(x2[3,i] for i in grids)))\n",
    "print('Sum of rapid chargers in the fourth year: ', location.getSolution(xp.Sum(x3[3,i] for i in grids)))\n",
    "four_sum_of_charg = location.getSolution(xp.Sum(x1[3,i]+x2[3,i]+x3[3,i] for i in grids))\n",
    "print('Percentage of slow chargers: ',location.getSolution(xp.Sum(x1[3,i] for i in grids))/four_sum_of_charg)\n",
    "print('Percentage of fast chargers: ',location.getSolution(xp.Sum(x2[3,i] for i in grids))/four_sum_of_charg)\n",
    "print('Percentage of rapid chargers: ',location.getSolution(xp.Sum(x3[3,i] for i in grids))/four_sum_of_charg)"
   ]
  },
  {
   "cell_type": "code",
   "execution_count": 80,
   "id": "b04de08b",
   "metadata": {},
   "outputs": [
    {
     "name": "stdout",
     "output_type": "stream",
     "text": [
      "Number of new chargers in the first year:  253.0\n",
      "Number of new chargers in the second year:  301.0\n",
      "Number of new chargers in the third year:  444.0\n",
      "Number of new chargers in the fourth year:  673.0\n"
     ]
    }
   ],
   "source": [
    "print('Number of new chargers in the first year: ',first_sum_of_charg)\n",
    "print('Number of new chargers in the second year: ',sec_sum_of_charg)\n",
    "print('Number of new chargers in the third year: ',third_sum_of_charg)\n",
    "print('Number of new chargers in the fourth year: ',four_sum_of_charg)"
   ]
  },
  {
   "cell_type": "code",
   "execution_count": 81,
   "id": "4c578892",
   "metadata": {},
   "outputs": [
    {
     "name": "stdout",
     "output_type": "stream",
     "text": [
      "The growth rate of the number of new chargers of the second year:  0.18972332015810275\n",
      "The growth rate of the number of new chargers of the third year:  0.4750830564784053\n",
      "The growth rate of the number of new chargers of the fourth year:  0.5157657657657657\n"
     ]
    }
   ],
   "source": [
    "print('The growth rate of the number of new chargers of the second year: ',\n",
    "      (sec_sum_of_charg-first_sum_of_charg)/first_sum_of_charg)\n",
    "print('The growth rate of the number of new chargers of the third year: ',\n",
    "      (third_sum_of_charg-sec_sum_of_charg)/sec_sum_of_charg)\n",
    "print('The growth rate of the number of new chargers of the fourth year: ',\n",
    "      (four_sum_of_charg-third_sum_of_charg)/third_sum_of_charg)"
   ]
  },
  {
   "cell_type": "code",
   "execution_count": 82,
   "id": "0ffde948",
   "metadata": {},
   "outputs": [],
   "source": [
    "center_grid = [184,185,186,187,188,198,199,200,201,202,212,213,214,215,216,226,227,228,229,230,240,241,242,243,244]"
   ]
  },
  {
   "cell_type": "code",
   "execution_count": 83,
   "id": "a3c888de",
   "metadata": {},
   "outputs": [],
   "source": [
    "first_city_center_sum = location.getSolution(xp.Sum(x1[0,i-1]+x2[0,i-1]+x3[0,i-1] for i in center_grid))\n",
    "sec_city_center_sum = location.getSolution(xp.Sum(x1[1,i-1]+x2[1,i-1]+x3[1,i-1] for i in center_grid))\n",
    "third_city_center_sum = location.getSolution(xp.Sum(x1[2,i-1]+x2[2,i-1]+x3[2,i-1] for i in center_grid))\n",
    "four_city_center_sum = location.getSolution(xp.Sum(x1[3,i-1]+x2[3,i-1]+x3[3,i-1] for i in center_grid))"
   ]
  },
  {
   "cell_type": "code",
   "execution_count": 84,
   "id": "afd169a2",
   "metadata": {},
   "outputs": [
    {
     "name": "stdout",
     "output_type": "stream",
     "text": [
      "Percentage of new chargers in city center in first year:  0.3438735177865613\n",
      "Percentage of new chargers in city center in second year:  0.5083056478405316\n",
      "Percentage of new chargers in city center in third year:  0.5585585585585585\n",
      "Percentage of new chargers in city center in fourth year:  0.5854383358098069\n"
     ]
    }
   ],
   "source": [
    "print('Percentage of new chargers in city center in first year: ', (first_city_center_sum/first_sum_of_charg))\n",
    "print('Percentage of new chargers in city center in second year: ', (sec_city_center_sum/sec_sum_of_charg))\n",
    "print('Percentage of new chargers in city center in third year: ', (third_city_center_sum/third_sum_of_charg))\n",
    "print('Percentage of new chargers in city center in fourth year: ', (four_city_center_sum/four_sum_of_charg))"
   ]
  },
  {
   "cell_type": "code",
   "execution_count": 85,
   "id": "7dfd18ac",
   "metadata": {},
   "outputs": [],
   "source": [
    "slow_c_current = 2*sum(demand['Number of Slow Charging Points'])\n",
    "fast_c_current = 2*sum(demand['Number of Fast Charging Points'])\n",
    "rapid_c_current = 2*sum(demand['Number of Rapid Charging Points'])"
   ]
  },
  {
   "cell_type": "code",
   "execution_count": 86,
   "id": "54a07b50",
   "metadata": {},
   "outputs": [
    {
     "name": "stdout",
     "output_type": "stream",
     "text": [
      "72\n",
      "33.0\n"
     ]
    }
   ],
   "source": [
    "print(slow_c_current)\n",
    "print(location.getSolution(xp.Sum(x1[0,i] for i in grids)))"
   ]
  },
  {
   "cell_type": "code",
   "execution_count": 87,
   "id": "325b059b",
   "metadata": {},
   "outputs": [],
   "source": [
    "a = location.getSolution(xp.Sum(x1[0,i] for i in grids))"
   ]
  },
  {
   "cell_type": "code",
   "execution_count": 88,
   "id": "9b251e43",
   "metadata": {},
   "outputs": [
    {
     "data": {
      "image/png": "[encoded data removed]",
      "text/plain": [
       "<Figure size 1000x700 with 1 Axes>"
      ]
     },
     "metadata": {},
     "output_type": "display_data"
    }
   ],
   "source": [
    "N = 5\n",
    "ind = np.arange(N)\n",
    "width = 0.35\n",
    "slow_chargers = np.array([slow_c_current,location.getSolution(xp.Sum(x1[0,i] for i in grids)),\n",
    "                 location.getSolution(xp.Sum(x1[1,i] for i in grids)),location.getSolution(xp.Sum(x1[2,i] for i in grids)), \n",
    "                 location.getSolution(xp.Sum(x1[3,i] for i in grids))])\n",
    "fast_chargers = np.array([fast_c_current,location.getSolution(xp.Sum(x2[0,i] for i in grids)),\n",
    "                 location.getSolution(xp.Sum(x2[1,i] for i in grids)),location.getSolution(xp.Sum(x2[2,i] for i in grids)), \n",
    "                 location.getSolution(xp.Sum(x2[3,i] for i in grids))])\n",
    "rapid_chargers = np.array([rapid_c_current,location.getSolution(xp.Sum(x3[0,i] for i in grids)),\n",
    "                 location.getSolution(xp.Sum(x3[1,i] for i in grids)),location.getSolution(xp.Sum(x3[2,i] for i in grids)), \n",
    "                  location.getSolution(xp.Sum(x3[3,i] for i in grids))])\n",
    "fig = plt.subplots(figsize =(10,7))\n",
    "p1 = plt.bar(ind, slow_chargers, color='r')\n",
    "p2 = plt.bar(ind, fast_chargers,bottom=slow_chargers, color='b')\n",
    "p3 = plt.bar(ind, rapid_chargers,bottom=slow_chargers+fast_chargers, color='g')\n",
    "plt.ylabel('Number of chargers')\n",
    "plt.title('Number of chargers by year')\n",
    "plt.xticks(ind, ('current', 'year 1', 'year 2', 'year3', 'year4'))\n",
    "plt.legend((p1[0],p2[0],p3[0]),('Slow', 'Fast', 'Rapid'))\n",
    "\n",
    "plt.show()"
   ]
  },
  {
   "cell_type": "code",
   "execution_count": 93,
   "id": "4a992a09",
   "metadata": {},
   "outputs": [
    {
     "data": {
      "image/png": "[encoded data removed]",
      "text/plain": [
       "<Figure size 1200x600 with 1 Axes>"
      ]
     },
     "metadata": {},
     "output_type": "display_data"
    }
   ],
   "source": [
    "map_T = np.zeros((31, 14))\n",
    "for i in grids:\n",
    "    if location.getSolution(xp.Sum(x1[t,i]+x2[t,i]+x3[t,i] for t in years)):\n",
    "        x = i//14\n",
    "        y = i %14\n",
    "        map_T[x , y] = 1\n",
    "\n",
    "\n",
    "from matplotlib import colors\n",
    "\n",
    "cmap = colors.ListedColormap(['Blue','red'])\n",
    "plt.figure(figsize=(12,6))\n",
    "plt.pcolor(map_T.T,cmap=cmap,edgecolors='k', linewidths=3)\n",
    "plt.show()"
   ]
  }
 ],
 "metadata": {
  "kernelspec": {
   "display_name": "Python 3 (ipykernel)",
   "language": "python",
   "name": "python3"
  },
  "language_info": {
   "codemirror_mode": {
    "name": "ipython",
    "version": 3
   },
   "file_extension": ".py",
   "mimetype": "text/x-python",
   "name": "python",
   "nbconvert_exporter": "python",
   "pygments_lexer": "ipython3",
   "version": "3.9.13"
  }
 },
 "nbformat": 4,
 "nbformat_minor": 5
}
