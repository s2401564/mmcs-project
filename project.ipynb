{
 "cells": [
  {
   "cell_type": "code",
   "execution_count": 1,
   "id": "0b5e0257",
   "metadata": {},
   "outputs": [],
   "source": [
    "import xpress as xp\n",
    "import pandas as pd\n",
    "import numpy as np\n",
    "import os"
   ]
  },
  {
   "cell_type": "code",
   "execution_count": 50,
   "id": "379385d9",
   "metadata": {},
   "outputs": [],
   "source": [
    "# Create a problem called location\n",
    "\n",
    "location = xp.problem(name='location')"
   ]
  },
  {
   "cell_type": "code",
   "execution_count": 4,
   "id": "13c2c8c2",
   "metadata": {},
   "outputs": [
    {
     "name": "stdout",
     "output_type": "stream",
     "text": [
      "Collecting package metadata (current_repodata.json): done\n",
      "Solving environment: done\n",
      "\n",
      "# All requested packages already installed.\n",
      "\n",
      "Retrieving notices: ...working... done\n",
      "\n",
      "Note: you may need to restart the kernel to use updated packages.\n"
     ]
    }
   ],
   "source": [
    "conda install -c anaconda openpyxl"
   ]
  },
  {
   "cell_type": "code",
   "execution_count": 3,
   "id": "51c94360",
   "metadata": {
    "scrolled": true
   },
   "outputs": [],
   "source": [
    "# already existing charging points\n",
    "\n",
    "charg_point_path = os.path.join('Project_data/Charging_points.xlsx')\n",
    "charg_point = pd.read_excel(charg_point_path)"
   ]
  },
  {
   "cell_type": "code",
   "execution_count": 4,
   "id": "e82182be",
   "metadata": {},
   "outputs": [
    {
     "data": {
      "text/html": [
       "<div>\n",
       "<style scoped>\n",
       "    .dataframe tbody tr th:only-of-type {\n",
       "        vertical-align: middle;\n",
       "    }\n",
       "\n",
       "    .dataframe tbody tr th {\n",
       "        vertical-align: top;\n",
       "    }\n",
       "\n",
       "    .dataframe thead th {\n",
       "        text-align: right;\n",
       "    }\n",
       "</style>\n",
       "<table border=\"1\" class=\"dataframe\">\n",
       "  <thead>\n",
       "    <tr style=\"text-align: right;\">\n",
       "      <th></th>\n",
       "      <th>CP ID</th>\n",
       "      <th>Type</th>\n",
       "      <th>geometry</th>\n",
       "      <th>Latitude</th>\n",
       "      <th>Longitude</th>\n",
       "      <th>grid number</th>\n",
       "    </tr>\n",
       "  </thead>\n",
       "  <tbody>\n",
       "    <tr>\n",
       "      <th>0</th>\n",
       "      <td>51085</td>\n",
       "      <td>Slow</td>\n",
       "      <td>POINT (-3.011192785069142 56.47296514001275)</td>\n",
       "      <td>56.472965</td>\n",
       "      <td>-3.011193</td>\n",
       "      <td>146</td>\n",
       "    </tr>\n",
       "    <tr>\n",
       "      <th>1</th>\n",
       "      <td>SCO50884</td>\n",
       "      <td>Fast</td>\n",
       "      <td>POINT (-3.057191218106697 56.46983341001484)</td>\n",
       "      <td>56.469833</td>\n",
       "      <td>-3.057191</td>\n",
       "      <td>76</td>\n",
       "    </tr>\n",
       "    <tr>\n",
       "      <th>2</th>\n",
       "      <td>50264</td>\n",
       "      <td>Slow</td>\n",
       "      <td>POINT (-2.917475282989725 56.48982926001875)</td>\n",
       "      <td>56.489829</td>\n",
       "      <td>-2.917475</td>\n",
       "      <td>304</td>\n",
       "    </tr>\n",
       "    <tr>\n",
       "      <th>3</th>\n",
       "      <td>50263</td>\n",
       "      <td>Slow</td>\n",
       "      <td>POINT (-2.91751565698979 56.48972199001865)</td>\n",
       "      <td>56.489722</td>\n",
       "      <td>-2.917516</td>\n",
       "      <td>304</td>\n",
       "    </tr>\n",
       "    <tr>\n",
       "      <th>4</th>\n",
       "      <td>50274</td>\n",
       "      <td>Fast</td>\n",
       "      <td>POINT (-2.966478267037299 56.46149715999641)</td>\n",
       "      <td>56.461497</td>\n",
       "      <td>-2.966478</td>\n",
       "      <td>214</td>\n",
       "    </tr>\n",
       "  </tbody>\n",
       "</table>\n",
       "</div>"
      ],
      "text/plain": [
       "      CP ID  Type                                      geometry   Latitude  \\\n",
       "0     51085  Slow  POINT (-3.011192785069142 56.47296514001275)  56.472965   \n",
       "1  SCO50884  Fast  POINT (-3.057191218106697 56.46983341001484)  56.469833   \n",
       "2     50264  Slow  POINT (-2.917475282989725 56.48982926001875)  56.489829   \n",
       "3     50263  Slow   POINT (-2.91751565698979 56.48972199001865)  56.489722   \n",
       "4     50274  Fast  POINT (-2.966478267037299 56.46149715999641)  56.461497   \n",
       "\n",
       "   Longitude  grid number  \n",
       "0  -3.011193          146  \n",
       "1  -3.057191           76  \n",
       "2  -2.917475          304  \n",
       "3  -2.917516          304  \n",
       "4  -2.966478          214  "
      ]
     },
     "execution_count": 4,
     "metadata": {},
     "output_type": "execute_result"
    }
   ],
   "source": [
    "charg_point.head()"
   ]
  },
  {
   "cell_type": "code",
   "execution_count": 5,
   "id": "26b04a2e",
   "metadata": {},
   "outputs": [
    {
     "data": {
      "text/plain": [
       "(78, 6)"
      ]
     },
     "execution_count": 5,
     "metadata": {},
     "output_type": "execute_result"
    }
   ],
   "source": [
    "charg_point.shape"
   ]
  },
  {
   "cell_type": "code",
   "execution_count": 6,
   "id": "c40c927c",
   "metadata": {},
   "outputs": [
    {
     "data": {
      "text/plain": [
       "CP ID                                                 51132\n",
       "Type                                                   Fast\n",
       "geometry       POINT (-2.984288107053444 56.45494890999196)\n",
       "Latitude                                          56.454949\n",
       "Longitude                                         -2.984288\n",
       "grid number                                             185\n",
       "Name: 77, dtype: object"
      ]
     },
     "execution_count": 6,
     "metadata": {},
     "output_type": "execute_result"
    }
   ],
   "source": [
    "charg_point.iloc[-1]"
   ]
  },
  {
   "cell_type": "code",
   "execution_count": 7,
   "id": "437cc532",
   "metadata": {},
   "outputs": [],
   "source": [
    "demand_path = os.path.join('Project_data/Demand_data.xlsx')\n",
    "demand = pd.read_excel(demand_path)"
   ]
  },
  {
   "cell_type": "code",
   "execution_count": 8,
   "id": "a50cf387",
   "metadata": {},
   "outputs": [
    {
     "data": {
      "text/html": [
       "<div>\n",
       "<style scoped>\n",
       "    .dataframe tbody tr th:only-of-type {\n",
       "        vertical-align: middle;\n",
       "    }\n",
       "\n",
       "    .dataframe tbody tr th {\n",
       "        vertical-align: top;\n",
       "    }\n",
       "\n",
       "    .dataframe thead th {\n",
       "        text-align: right;\n",
       "    }\n",
       "</style>\n",
       "<table border=\"1\" class=\"dataframe\">\n",
       "  <thead>\n",
       "    <tr style=\"text-align: right;\">\n",
       "      <th></th>\n",
       "      <th>Ref</th>\n",
       "      <th>geometry</th>\n",
       "      <th>Number of Charging Points</th>\n",
       "      <th>Number of Slow Charging Points</th>\n",
       "      <th>Number of Fast Charging Points</th>\n",
       "      <th>Number of Rapid Charging Points</th>\n",
       "      <th>Number of PoI</th>\n",
       "      <th>Number of Potential Locations</th>\n",
       "      <th>Distance from Centre</th>\n",
       "      <th>NEIGHBORS</th>\n",
       "      <th>Demand_0</th>\n",
       "      <th>Demand_1</th>\n",
       "      <th>Demand_2</th>\n",
       "      <th>Demand_3</th>\n",
       "    </tr>\n",
       "  </thead>\n",
       "  <tbody>\n",
       "    <tr>\n",
       "      <th>100</th>\n",
       "      <td>101</td>\n",
       "      <td>POLYGON ((-3.044190289672857 56.4533005586958,...</td>\n",
       "      <td>0</td>\n",
       "      <td>0</td>\n",
       "      <td>0</td>\n",
       "      <td>0</td>\n",
       "      <td>0</td>\n",
       "      <td>1</td>\n",
       "      <td>4442.921761</td>\n",
       "      <td>[86, 87, 88, 100, 102, 114, 115, 116]</td>\n",
       "      <td>0.0</td>\n",
       "      <td>0.000000</td>\n",
       "      <td>72.230017</td>\n",
       "      <td>241.821149</td>\n",
       "    </tr>\n",
       "    <tr>\n",
       "      <th>101</th>\n",
       "      <td>102</td>\n",
       "      <td>POLYGON ((-3.044324704148503 56.45819844677619...</td>\n",
       "      <td>0</td>\n",
       "      <td>0</td>\n",
       "      <td>0</td>\n",
       "      <td>0</td>\n",
       "      <td>0</td>\n",
       "      <td>3</td>\n",
       "      <td>4375.167312</td>\n",
       "      <td>[87, 88, 89, 101, 103, 115, 116, 117]</td>\n",
       "      <td>0.0</td>\n",
       "      <td>444.631572</td>\n",
       "      <td>968.172278</td>\n",
       "      <td>1627.425046</td>\n",
       "    </tr>\n",
       "    <tr>\n",
       "      <th>102</th>\n",
       "      <td>103</td>\n",
       "      <td>POLYGON ((-3.044459160842206 56.46309633075683...</td>\n",
       "      <td>0</td>\n",
       "      <td>0</td>\n",
       "      <td>0</td>\n",
       "      <td>0</td>\n",
       "      <td>1</td>\n",
       "      <td>11</td>\n",
       "      <td>4374.844088</td>\n",
       "      <td>[88, 89, 90, 102, 104, 116, 117, 118]</td>\n",
       "      <td>0.0</td>\n",
       "      <td>443.063371</td>\n",
       "      <td>1007.432635</td>\n",
       "      <td>1783.221659</td>\n",
       "    </tr>\n",
       "    <tr>\n",
       "      <th>103</th>\n",
       "      <td>104</td>\n",
       "      <td>POLYGON ((-3.044593659772223 56.46799421063793...</td>\n",
       "      <td>0</td>\n",
       "      <td>0</td>\n",
       "      <td>0</td>\n",
       "      <td>0</td>\n",
       "      <td>1</td>\n",
       "      <td>3</td>\n",
       "      <td>4441.966808</td>\n",
       "      <td>[89, 90, 91, 103, 105, 117, 118, 119]</td>\n",
       "      <td>0.0</td>\n",
       "      <td>444.257814</td>\n",
       "      <td>1387.704616</td>\n",
       "      <td>2920.679769</td>\n",
       "    </tr>\n",
       "    <tr>\n",
       "      <th>104</th>\n",
       "      <td>105</td>\n",
       "      <td>POLYGON ((-3.044728200956817 56.47289208641969...</td>\n",
       "      <td>0</td>\n",
       "      <td>0</td>\n",
       "      <td>0</td>\n",
       "      <td>0</td>\n",
       "      <td>0</td>\n",
       "      <td>2</td>\n",
       "      <td>4573.566879</td>\n",
       "      <td>[90, 91, 92, 104, 106, 118, 119, 120]</td>\n",
       "      <td>0.0</td>\n",
       "      <td>0.000000</td>\n",
       "      <td>488.563483</td>\n",
       "      <td>1595.447338</td>\n",
       "    </tr>\n",
       "    <tr>\n",
       "      <th>105</th>\n",
       "      <td>106</td>\n",
       "      <td>POLYGON ((-3.044862784414267 56.4777899581023,...</td>\n",
       "      <td>0</td>\n",
       "      <td>0</td>\n",
       "      <td>0</td>\n",
       "      <td>0</td>\n",
       "      <td>0</td>\n",
       "      <td>1</td>\n",
       "      <td>4764.304294</td>\n",
       "      <td>[91, 92, 93, 105, 107, 119, 120, 121]</td>\n",
       "      <td>0.0</td>\n",
       "      <td>0.000000</td>\n",
       "      <td>873.458540</td>\n",
       "      <td>2708.092266</td>\n",
       "    </tr>\n",
       "  </tbody>\n",
       "</table>\n",
       "</div>"
      ],
      "text/plain": [
       "     Ref                                           geometry  \\\n",
       "100  101  POLYGON ((-3.044190289672857 56.4533005586958,...   \n",
       "101  102  POLYGON ((-3.044324704148503 56.45819844677619...   \n",
       "102  103  POLYGON ((-3.044459160842206 56.46309633075683...   \n",
       "103  104  POLYGON ((-3.044593659772223 56.46799421063793...   \n",
       "104  105  POLYGON ((-3.044728200956817 56.47289208641969...   \n",
       "105  106  POLYGON ((-3.044862784414267 56.4777899581023,...   \n",
       "\n",
       "     Number of Charging Points  Number of Slow Charging Points  \\\n",
       "100                          0                               0   \n",
       "101                          0                               0   \n",
       "102                          0                               0   \n",
       "103                          0                               0   \n",
       "104                          0                               0   \n",
       "105                          0                               0   \n",
       "\n",
       "     Number of Fast Charging Points  Number of Rapid Charging Points  \\\n",
       "100                               0                                0   \n",
       "101                               0                                0   \n",
       "102                               0                                0   \n",
       "103                               0                                0   \n",
       "104                               0                                0   \n",
       "105                               0                                0   \n",
       "\n",
       "     Number of PoI  Number of Potential Locations  Distance from Centre  \\\n",
       "100              0                              1           4442.921761   \n",
       "101              0                              3           4375.167312   \n",
       "102              1                             11           4374.844088   \n",
       "103              1                              3           4441.966808   \n",
       "104              0                              2           4573.566879   \n",
       "105              0                              1           4764.304294   \n",
       "\n",
       "                                 NEIGHBORS  Demand_0    Demand_1     Demand_2  \\\n",
       "100  [86, 87, 88, 100, 102, 114, 115, 116]       0.0    0.000000    72.230017   \n",
       "101  [87, 88, 89, 101, 103, 115, 116, 117]       0.0  444.631572   968.172278   \n",
       "102  [88, 89, 90, 102, 104, 116, 117, 118]       0.0  443.063371  1007.432635   \n",
       "103  [89, 90, 91, 103, 105, 117, 118, 119]       0.0  444.257814  1387.704616   \n",
       "104  [90, 91, 92, 104, 106, 118, 119, 120]       0.0    0.000000   488.563483   \n",
       "105  [91, 92, 93, 105, 107, 119, 120, 121]       0.0    0.000000   873.458540   \n",
       "\n",
       "        Demand_3  \n",
       "100   241.821149  \n",
       "101  1627.425046  \n",
       "102  1783.221659  \n",
       "103  2920.679769  \n",
       "104  1595.447338  \n",
       "105  2708.092266  "
      ]
     },
     "execution_count": 8,
     "metadata": {},
     "output_type": "execute_result"
    }
   ],
   "source": [
    "demand.loc[100:105]"
   ]
  },
  {
   "cell_type": "code",
   "execution_count": 34,
   "id": "434cd7ad",
   "metadata": {},
   "outputs": [
    {
     "name": "stdout",
     "output_type": "stream",
     "text": [
      "<bound method DataFrame.info of      Ref                                           geometry  \\\n",
      "0      1  POLYGON ((-3.105818823440952 56.44296858524104...   \n",
      "1      2  POLYGON ((-3.105961112538962 56.44786638257236...   \n",
      "2      3  POLYGON ((-3.106103446316349 56.45276417577815...   \n",
      "3      4  POLYGON ((-3.106245824792422 56.45766196485858...   \n",
      "4      5  POLYGON ((-3.106388247986505 56.46255974981385...   \n",
      "..   ...                                                ...   \n",
      "429  430  POLYGON ((-2.841505846300256 56.48913269331089...   \n",
      "430  431  POLYGON ((-2.841614325647596 56.49403083838651...   \n",
      "431  432  POLYGON ((-2.841722839098455 56.49892897943724...   \n",
      "432  433  POLYGON ((-2.841831386667599 56.50382711646336...   \n",
      "433  434  POLYGON ((-2.841939968369799 56.50872524946503...   \n",
      "\n",
      "     Number of Charging Points  Number of Slow Charging Points  \\\n",
      "0                            0                               0   \n",
      "1                            0                               0   \n",
      "2                            0                               0   \n",
      "3                            0                               0   \n",
      "4                            0                               0   \n",
      "..                         ...                             ...   \n",
      "429                          0                               0   \n",
      "430                          0                               0   \n",
      "431                          0                               0   \n",
      "432                          0                               0   \n",
      "433                          0                               0   \n",
      "\n",
      "     Number of Fast Charging Points  Number of Rapid Charging Points  \\\n",
      "0                                 0                                0   \n",
      "1                                 0                                0   \n",
      "2                                 0                                0   \n",
      "3                                 0                                0   \n",
      "4                                 0                                0   \n",
      "..                              ...                              ...   \n",
      "429                               0                                0   \n",
      "430                               0                                0   \n",
      "431                               0                                0   \n",
      "432                               0                                0   \n",
      "433                               0                                0   \n",
      "\n",
      "     Number of PoI  Number of Potential Locations  Distance from Centre  \\\n",
      "0                0                              0           8403.561223   \n",
      "1                0                              0           8296.571785   \n",
      "2                0                              0           8224.414999   \n",
      "3                0                              0           8188.011805   \n",
      "4                0                              0           8187.839098   \n",
      "..             ...                            ...                   ...   \n",
      "429              0                              0           8706.537927   \n",
      "430              0                              0           8908.916529   \n",
      "431              0                              0           9139.388454   \n",
      "432              0                              0           9395.886624   \n",
      "433              0                              0           9676.341567   \n",
      "\n",
      "                     NEIGHBORS  Demand_0  Demand_1  Demand_2  Demand_3  \n",
      "0                  [2, 15, 16]       0.0       0.0       0.0       0.0  \n",
      "1           [1, 3, 15, 16, 17]       0.0       0.0       0.0       0.0  \n",
      "2           [2, 4, 16, 17, 18]       0.0       0.0       0.0       0.0  \n",
      "3           [3, 5, 17, 18, 19]       0.0       0.0       0.0       0.0  \n",
      "4           [4, 6, 18, 19, 20]       0.0       0.0       0.0       0.0  \n",
      "..                         ...       ...       ...       ...       ...  \n",
      "429  [415, 416, 417, 429, 431]       0.0       0.0       0.0       0.0  \n",
      "430  [416, 417, 418, 430, 432]       0.0       0.0       0.0       0.0  \n",
      "431  [417, 418, 419, 431, 433]       0.0       0.0       0.0       0.0  \n",
      "432  [418, 419, 420, 432, 434]       0.0       0.0       0.0       0.0  \n",
      "433            [419, 420, 433]       0.0       0.0       0.0       0.0  \n",
      "\n",
      "[434 rows x 14 columns]>\n"
     ]
    }
   ],
   "source": [
    "print(demand.info)"
   ]
  },
  {
   "cell_type": "code",
   "execution_count": 9,
   "id": "4d57ef3d",
   "metadata": {},
   "outputs": [],
   "source": [
    "# points of interest in each grid\n",
    "\n",
    "interest_point_path = os.path.join('Project_data/Interest _points.xlsx')\n",
    "interest_point = pd.read_excel(interest_point_path)"
   ]
  },
  {
   "cell_type": "code",
   "execution_count": 10,
   "id": "bbe51796",
   "metadata": {
    "scrolled": true
   },
   "outputs": [
    {
     "data": {
      "text/html": [
       "<div>\n",
       "<style scoped>\n",
       "    .dataframe tbody tr th:only-of-type {\n",
       "        vertical-align: middle;\n",
       "    }\n",
       "\n",
       "    .dataframe tbody tr th {\n",
       "        vertical-align: top;\n",
       "    }\n",
       "\n",
       "    .dataframe thead th {\n",
       "        text-align: right;\n",
       "    }\n",
       "</style>\n",
       "<table border=\"1\" class=\"dataframe\">\n",
       "  <thead>\n",
       "    <tr style=\"text-align: right;\">\n",
       "      <th></th>\n",
       "      <th>amenity</th>\n",
       "      <th>geometry</th>\n",
       "      <th>Latitude</th>\n",
       "      <th>Longitude</th>\n",
       "      <th>grid number</th>\n",
       "    </tr>\n",
       "  </thead>\n",
       "  <tbody>\n",
       "    <tr>\n",
       "      <th>0</th>\n",
       "      <td>restaurant</td>\n",
       "      <td>POINT (-2.852617986940523 56.48412800000578)</td>\n",
       "      <td>56.484128</td>\n",
       "      <td>-2.852618</td>\n",
       "      <td>400</td>\n",
       "    </tr>\n",
       "    <tr>\n",
       "      <th>1</th>\n",
       "      <td>restaurant</td>\n",
       "      <td>POINT (-2.849993386942502 56.47134889999293)</td>\n",
       "      <td>56.471349</td>\n",
       "      <td>-2.849993</td>\n",
       "      <td>398</td>\n",
       "    </tr>\n",
       "    <tr>\n",
       "      <th>2</th>\n",
       "      <td>restaurant</td>\n",
       "      <td>POINT (-2.872495786961546 56.46693379999114)</td>\n",
       "      <td>56.466934</td>\n",
       "      <td>-2.872496</td>\n",
       "      <td>369</td>\n",
       "    </tr>\n",
       "    <tr>\n",
       "      <th>3</th>\n",
       "      <td>restaurant</td>\n",
       "      <td>POINT (-2.873346686962511 56.46599179999032)</td>\n",
       "      <td>56.465992</td>\n",
       "      <td>-2.873347</td>\n",
       "      <td>369</td>\n",
       "    </tr>\n",
       "    <tr>\n",
       "      <th>4</th>\n",
       "      <td>restaurant</td>\n",
       "      <td>POINT (-2.873426086962618 56.46584759999016)</td>\n",
       "      <td>56.465848</td>\n",
       "      <td>-2.873426</td>\n",
       "      <td>369</td>\n",
       "    </tr>\n",
       "  </tbody>\n",
       "</table>\n",
       "</div>"
      ],
      "text/plain": [
       "      amenity                                      geometry   Latitude  \\\n",
       "0  restaurant  POINT (-2.852617986940523 56.48412800000578)  56.484128   \n",
       "1  restaurant  POINT (-2.849993386942502 56.47134889999293)  56.471349   \n",
       "2  restaurant  POINT (-2.872495786961546 56.46693379999114)  56.466934   \n",
       "3  restaurant  POINT (-2.873346686962511 56.46599179999032)  56.465992   \n",
       "4  restaurant  POINT (-2.873426086962618 56.46584759999016)  56.465848   \n",
       "\n",
       "   Longitude  grid number  \n",
       "0  -2.852618          400  \n",
       "1  -2.849993          398  \n",
       "2  -2.872496          369  \n",
       "3  -2.873347          369  \n",
       "4  -2.873426          369  "
      ]
     },
     "execution_count": 10,
     "metadata": {},
     "output_type": "execute_result"
    }
   ],
   "source": [
    "interest_point.head()"
   ]
  },
  {
   "cell_type": "code",
   "execution_count": 11,
   "id": "0873c5c5",
   "metadata": {},
   "outputs": [
    {
     "data": {
      "text/plain": [
       "{'restaurant', 'school', 'supermarket'}"
      ]
     },
     "execution_count": 11,
     "metadata": {},
     "output_type": "execute_result"
    }
   ],
   "source": [
    "amenity1 = set(interest_point['amenity'])\n",
    "amenity1\n",
    "\n",
    "# more cars at which place?\n",
    "# for example, many restaurants at 369"
   ]
  },
  {
   "cell_type": "code",
   "execution_count": 12,
   "id": "789929bc",
   "metadata": {},
   "outputs": [],
   "source": [
    "# potential charging points\n",
    "pt_charg_point_path = os.path.join('Project_data/Potential_charging_points.xlsx')\n",
    "pt_charg_point = pd.read_excel(pt_charg_point_path)"
   ]
  },
  {
   "cell_type": "code",
   "execution_count": 13,
   "id": "60d16ba6",
   "metadata": {},
   "outputs": [
    {
     "data": {
      "text/html": [
       "<div>\n",
       "<style scoped>\n",
       "    .dataframe tbody tr th:only-of-type {\n",
       "        vertical-align: middle;\n",
       "    }\n",
       "\n",
       "    .dataframe tbody tr th {\n",
       "        vertical-align: top;\n",
       "    }\n",
       "\n",
       "    .dataframe thead th {\n",
       "        text-align: right;\n",
       "    }\n",
       "</style>\n",
       "<table border=\"1\" class=\"dataframe\">\n",
       "  <thead>\n",
       "    <tr style=\"text-align: right;\">\n",
       "      <th></th>\n",
       "      <th>amenity</th>\n",
       "      <th>geometry</th>\n",
       "      <th>Latitude</th>\n",
       "      <th>Longitude</th>\n",
       "      <th>grid number</th>\n",
       "    </tr>\n",
       "  </thead>\n",
       "  <tbody>\n",
       "    <tr>\n",
       "      <th>0</th>\n",
       "      <td>parking</td>\n",
       "      <td>POINT (-3.046891287099621 56.46621650001012)</td>\n",
       "      <td>56.466217</td>\n",
       "      <td>-3.046891</td>\n",
       "      <td>89</td>\n",
       "    </tr>\n",
       "    <tr>\n",
       "      <th>1</th>\n",
       "      <td>fuel</td>\n",
       "      <td>POINT (-2.848473686941031 56.47224079999363)</td>\n",
       "      <td>56.472241</td>\n",
       "      <td>-2.848474</td>\n",
       "      <td>412</td>\n",
       "    </tr>\n",
       "    <tr>\n",
       "      <th>2</th>\n",
       "      <td>parking</td>\n",
       "      <td>POINT (-2.895034186977277 56.47320819999986)</td>\n",
       "      <td>56.473208</td>\n",
       "      <td>-2.895034</td>\n",
       "      <td>328</td>\n",
       "    </tr>\n",
       "    <tr>\n",
       "      <th>3</th>\n",
       "      <td>fuel</td>\n",
       "      <td>POINT (-2.963304387034162 56.46350399999802)</td>\n",
       "      <td>56.463504</td>\n",
       "      <td>-2.963304</td>\n",
       "      <td>228</td>\n",
       "    </tr>\n",
       "    <tr>\n",
       "      <th>4</th>\n",
       "      <td>fuel</td>\n",
       "      <td>POINT (-2.9776499870463 56.46097389999711)</td>\n",
       "      <td>56.460974</td>\n",
       "      <td>-2.977650</td>\n",
       "      <td>200</td>\n",
       "    </tr>\n",
       "  </tbody>\n",
       "</table>\n",
       "</div>"
      ],
      "text/plain": [
       "   amenity                                      geometry   Latitude  \\\n",
       "0  parking  POINT (-3.046891287099621 56.46621650001012)  56.466217   \n",
       "1     fuel  POINT (-2.848473686941031 56.47224079999363)  56.472241   \n",
       "2  parking  POINT (-2.895034186977277 56.47320819999986)  56.473208   \n",
       "3     fuel  POINT (-2.963304387034162 56.46350399999802)  56.463504   \n",
       "4     fuel    POINT (-2.9776499870463 56.46097389999711)  56.460974   \n",
       "\n",
       "   Longitude  grid number  \n",
       "0  -3.046891           89  \n",
       "1  -2.848474          412  \n",
       "2  -2.895034          328  \n",
       "3  -2.963304          228  \n",
       "4  -2.977650          200  "
      ]
     },
     "execution_count": 13,
     "metadata": {},
     "output_type": "execute_result"
    }
   ],
   "source": [
    "pt_charg_point.head()"
   ]
  },
  {
   "cell_type": "code",
   "execution_count": 14,
   "id": "d546a84b",
   "metadata": {},
   "outputs": [
    {
     "name": "stdout",
     "output_type": "stream",
     "text": [
      "0       89\n",
      "1      412\n",
      "2      328\n",
      "3      228\n",
      "4      200\n",
      "      ... \n",
      "320     90\n",
      "321     90\n",
      "322     90\n",
      "323    185\n",
      "324    200\n",
      "Name: grid number, Length: 325, dtype: int64\n"
     ]
    }
   ],
   "source": [
    "print(pt_charg_point['grid number'])"
   ]
  },
  {
   "cell_type": "code",
   "execution_count": 15,
   "id": "4517f7cf",
   "metadata": {},
   "outputs": [
    {
     "data": {
      "text/plain": [
       "{'fuel', 'parking'}"
      ]
     },
     "execution_count": 15,
     "metadata": {},
     "output_type": "execute_result"
    }
   ],
   "source": [
    "amenity2 = set(pt_charg_point['amenity'])\n",
    "amenity2"
   ]
  },
  {
   "cell_type": "code",
   "execution_count": 16,
   "id": "feb8a0e9",
   "metadata": {},
   "outputs": [],
   "source": [
    "# Defining the index set\n",
    "\n",
    "number_of_grids = 434\n",
    "number_of_years = 4\n",
    "grids = range(number_of_grids)\n",
    "years = range(number_of_years)"
   ]
  },
  {
   "cell_type": "code",
   "execution_count": 17,
   "id": "003f54d6",
   "metadata": {},
   "outputs": [],
   "source": [
    "# the demand every slow/ fast/ rapid chargers can satisfy\n",
    "slow_c = [2000, 3500]\n",
    "fast_c = [4000, 5200]\n",
    "rapid_c = [30000, 50500]"
   ]
  },
  {
   "cell_type": "code",
   "execution_count": null,
   "id": "19cf2699",
   "metadata": {},
   "outputs": [],
   "source": []
  },
  {
   "cell_type": "markdown",
   "id": "81272aab",
   "metadata": {},
   "source": [
    "# decision variables"
   ]
  },
  {
   "cell_type": "code",
   "execution_count": 59,
   "id": "91a2c337",
   "metadata": {},
   "outputs": [],
   "source": [
    "# how many slow/ fast/ rapid connectors to have in each potential grid in year t\n",
    "#x1 = np.array([xp.var( name='x1_{0}_{1}'.format(i,j+1))\n",
    "                    #for i in years for j in grids], dtype=xp.integer).reshape(number_of_years, number_of_grids)\n",
    "#x2 = np.array([xp.var( name='x2_{0}_{1}'.format(i,j+1))\n",
    "                    #for i in years for j in grids], dtype=xp.integer).reshape(number_of_years, number_of_grids)\n",
    "#x3 = np.array([xp.var( name='x3_{0}_{1}'.format(i,j+1))\n",
    "                    #for i in years for j in grids], dtype=xp.integer).reshape(number_of_years, number_of_grids)\n",
    "#location.addVariable(x1, x2, x3)"
   ]
  },
  {
   "cell_type": "code",
   "execution_count": 57,
   "id": "5c4a0cd8",
   "metadata": {},
   "outputs": [],
   "source": [
    "# how many slow/ fast/ rapid connectors to have in each potential grid in year t\n",
    "x1 = np.array([xp.var(vartype = xp.integer, name='x1_{0}_{1}'.format(i,j+1))\n",
    "                    for i in years for j in grids]).reshape(number_of_years, number_of_grids)\n",
    "x2 = np.array([xp.var(vartype = xp.integer, name='x2_{0}_{1}'.format(i,j+1))\n",
    "                    for i in years for j in grids]).reshape(number_of_years, number_of_grids)\n",
    "x3 = np.array([xp.var(vartype = xp.integer, name='x3_{0}_{1}'.format(i,j+1))\n",
    "                    for i in years for j in grids]).reshape(number_of_years, number_of_grids)\n",
    "location.addVariable(x1, x2, x3)"
   ]
  },
  {
   "cell_type": "code",
   "execution_count": 58,
   "id": "08eb68b1",
   "metadata": {},
   "outputs": [],
   "source": [
    "# for each grid, demand can be satisfied by this grid and its neighbours\n",
    "y = np.array([xp.var( name='y_{0}_{1}'.format(i,j+1))\n",
    "                    for i in years for j in grids], dtype=xp.npvar).reshape(number_of_years, number_of_grids)"
   ]
  },
  {
   "cell_type": "markdown",
   "id": "2dfe9eda",
   "metadata": {},
   "source": [
    "# constraints"
   ]
  },
  {
   "cell_type": "code",
   "execution_count": null,
   "id": "59223c39",
   "metadata": {},
   "outputs": [],
   "source": []
  },
  {
   "cell_type": "code",
   "execution_count": null,
   "id": "5445965b",
   "metadata": {},
   "outputs": [],
   "source": []
  },
  {
   "cell_type": "code",
   "execution_count": null,
   "id": "3b2f6c7d",
   "metadata": {},
   "outputs": [],
   "source": []
  },
  {
   "cell_type": "code",
   "execution_count": null,
   "id": "26883d23",
   "metadata": {},
   "outputs": [],
   "source": []
  },
  {
   "cell_type": "code",
   "execution_count": 19,
   "id": "85410edb",
   "metadata": {},
   "outputs": [
    {
     "data": {
      "text/html": [
       "<div>\n",
       "<style scoped>\n",
       "    .dataframe tbody tr th:only-of-type {\n",
       "        vertical-align: middle;\n",
       "    }\n",
       "\n",
       "    .dataframe tbody tr th {\n",
       "        vertical-align: top;\n",
       "    }\n",
       "\n",
       "    .dataframe thead th {\n",
       "        text-align: right;\n",
       "    }\n",
       "</style>\n",
       "<table border=\"1\" class=\"dataframe\">\n",
       "  <thead>\n",
       "    <tr style=\"text-align: right;\">\n",
       "      <th></th>\n",
       "      <th>amenity</th>\n",
       "      <th>geometry</th>\n",
       "      <th>Latitude</th>\n",
       "      <th>Longitude</th>\n",
       "    </tr>\n",
       "    <tr>\n",
       "      <th>grid number</th>\n",
       "      <th></th>\n",
       "      <th></th>\n",
       "      <th></th>\n",
       "      <th></th>\n",
       "    </tr>\n",
       "  </thead>\n",
       "  <tbody>\n",
       "    <tr>\n",
       "      <th>61</th>\n",
       "      <td>2</td>\n",
       "      <td>2</td>\n",
       "      <td>2</td>\n",
       "      <td>2</td>\n",
       "    </tr>\n",
       "    <tr>\n",
       "      <th>75</th>\n",
       "      <td>3</td>\n",
       "      <td>3</td>\n",
       "      <td>3</td>\n",
       "      <td>3</td>\n",
       "    </tr>\n",
       "    <tr>\n",
       "      <th>76</th>\n",
       "      <td>4</td>\n",
       "      <td>4</td>\n",
       "      <td>4</td>\n",
       "      <td>4</td>\n",
       "    </tr>\n",
       "    <tr>\n",
       "      <th>77</th>\n",
       "      <td>1</td>\n",
       "      <td>1</td>\n",
       "      <td>1</td>\n",
       "      <td>1</td>\n",
       "    </tr>\n",
       "    <tr>\n",
       "      <th>88</th>\n",
       "      <td>3</td>\n",
       "      <td>3</td>\n",
       "      <td>3</td>\n",
       "      <td>3</td>\n",
       "    </tr>\n",
       "    <tr>\n",
       "      <th>...</th>\n",
       "      <td>...</td>\n",
       "      <td>...</td>\n",
       "      <td>...</td>\n",
       "      <td>...</td>\n",
       "    </tr>\n",
       "    <tr>\n",
       "      <th>385</th>\n",
       "      <td>1</td>\n",
       "      <td>1</td>\n",
       "      <td>1</td>\n",
       "      <td>1</td>\n",
       "    </tr>\n",
       "    <tr>\n",
       "      <th>397</th>\n",
       "      <td>1</td>\n",
       "      <td>1</td>\n",
       "      <td>1</td>\n",
       "      <td>1</td>\n",
       "    </tr>\n",
       "    <tr>\n",
       "      <th>399</th>\n",
       "      <td>2</td>\n",
       "      <td>2</td>\n",
       "      <td>2</td>\n",
       "      <td>2</td>\n",
       "    </tr>\n",
       "    <tr>\n",
       "      <th>400</th>\n",
       "      <td>3</td>\n",
       "      <td>3</td>\n",
       "      <td>3</td>\n",
       "      <td>3</td>\n",
       "    </tr>\n",
       "    <tr>\n",
       "      <th>412</th>\n",
       "      <td>1</td>\n",
       "      <td>1</td>\n",
       "      <td>1</td>\n",
       "      <td>1</td>\n",
       "    </tr>\n",
       "  </tbody>\n",
       "</table>\n",
       "<p>98 rows × 4 columns</p>\n",
       "</div>"
      ],
      "text/plain": [
       "             amenity  geometry  Latitude  Longitude\n",
       "grid number                                        \n",
       "61                 2         2         2          2\n",
       "75                 3         3         3          3\n",
       "76                 4         4         4          4\n",
       "77                 1         1         1          1\n",
       "88                 3         3         3          3\n",
       "...              ...       ...       ...        ...\n",
       "385                1         1         1          1\n",
       "397                1         1         1          1\n",
       "399                2         2         2          2\n",
       "400                3         3         3          3\n",
       "412                1         1         1          1\n",
       "\n",
       "[98 rows x 4 columns]"
      ]
     },
     "execution_count": 19,
     "metadata": {},
     "output_type": "execute_result"
    }
   ],
   "source": [
    "# for each potential charging point, we can install one or more charging stations\n",
    "grid_pt_charg = pt_charg_point.groupby('grid number').count()\n",
    "grid_pt_charg"
   ]
  },
  {
   "cell_type": "code",
   "execution_count": 20,
   "id": "26c035d2",
   "metadata": {},
   "outputs": [
    {
     "data": {
      "text/plain": [
       "3"
      ]
     },
     "execution_count": 20,
     "metadata": {},
     "output_type": "execute_result"
    }
   ],
   "source": [
    "num_grid_pt = number_of_grids*[0]\n",
    "for ind in grid_pt_charg.index:\n",
    "    # print(ind)\n",
    "    # print(grid_pt_charg.iloc[ind]['grid number'])\n",
    "    num_grid_pt[ind-1] = grid_pt_charg.loc[ind]['amenity']\n",
    "num_grid_pt[75-1]"
   ]
  },
  {
   "cell_type": "code",
   "execution_count": 43,
   "id": "0799e50f",
   "metadata": {},
   "outputs": [],
   "source": [
    "location.addConstraint(sum((x1[t,i] + x2[t,i] + x3[t,i]) for t in years)>= num_grid_pt[i] for i in grids)"
   ]
  },
  {
   "cell_type": "code",
   "execution_count": 22,
   "id": "779e2cfd",
   "metadata": {},
   "outputs": [
    {
     "name": "stdout",
     "output_type": "stream",
     "text": [
      "444.6315721382473\n"
     ]
    }
   ],
   "source": [
    "print(demand.loc[demand['Ref'] == 102, 'Demand_1'].iloc[0])"
   ]
  },
  {
   "cell_type": "code",
   "execution_count": 23,
   "id": "1c5b659c",
   "metadata": {},
   "outputs": [
    {
     "name": "stdout",
     "output_type": "stream",
     "text": [
      "Slow\n"
     ]
    }
   ],
   "source": [
    "# demand satisfied by existing charging points?\n",
    "print(charg_point.loc[charg_point['grid number'] == 146, 'Type'].iloc[0])\n",
    "# this does not work if 146 is not an existing grid"
   ]
  },
  {
   "cell_type": "code",
   "execution_count": 24,
   "id": "c186838a",
   "metadata": {},
   "outputs": [],
   "source": [
    "# for i in grids\n",
    "    # if charg_point['grid number'] == 146???/\\\n",
    "        #if charg_point.loc[charg_point['grid number'] == 146, 'Type'].iloc[0] = 'slow'\n",
    "        #a = \n",
    "        #if charg_point.loc[charg_point['grid number'] == 146, 'Type'].iloc[0] = 'fast'\n",
    "        #if charg_point.loc[charg_point['grid number'] == 146, 'Type'].iloc[0] = 'rapid'\n",
    "    # else"
   ]
  },
  {
   "cell_type": "code",
   "execution_count": 25,
   "id": "a17dedbd",
   "metadata": {},
   "outputs": [],
   "source": [
    "#for i in grids:\n",
    "    #if i+1 in charg_point['grid number'].tolist():\n",
    "        #print(i+1, charg_point.loc[charg_point['grid number'] == i+1, 'Type'].iloc[0])\n",
    "        \n",
    "# but in one grid, there might have existed more than 1 connectors\n",
    "sat_demand = number_of_grids*[0]\n",
    "for ind in charg_point.index:\n",
    "    #print(ind, charg_point.iloc[ind]['grid number'], charg_point.iloc[ind]['Type'])\n",
    "    # already satisfied demand\n",
    "    if charg_point.iloc[ind]['Type'] == 'Slow':\n",
    "        sat_demand[charg_point.iloc[ind]['grid number']-1] += slow_c[1]\n",
    "    elif charg_point.iloc[ind]['Type'] == 'Fast':\n",
    "        sat_demand[charg_point.iloc[ind]['grid number']-1] += fast_c[1]\n",
    "    elif charg_point.iloc[ind]['Type'] == 'Rapid':\n",
    "        sat_demand[charg_point.iloc[ind]['grid number']-1] += rapid_c[1]"
   ]
  },
  {
   "cell_type": "code",
   "execution_count": 26,
   "id": "4aae4ef3",
   "metadata": {},
   "outputs": [
    {
     "name": "stdout",
     "output_type": "stream",
     "text": [
      "31400\n"
     ]
    }
   ],
   "source": [
    "print(sat_demand[200-1])"
   ]
  },
  {
   "cell_type": "code",
   "execution_count": 27,
   "id": "edcdc8cf",
   "metadata": {},
   "outputs": [
    {
     "name": "stdout",
     "output_type": "stream",
     "text": [
      "68    Fast\n",
      "69    Fast\n",
      "70    Slow\n",
      "71    Slow\n",
      "72    Slow\n",
      "73    Slow\n",
      "74    Slow\n",
      "75    Slow\n",
      "Name: Type, dtype: object\n"
     ]
    }
   ],
   "source": [
    "print(charg_point.loc[charg_point['grid number'] == 200, 'Type'])"
   ]
  },
  {
   "cell_type": "code",
   "execution_count": 28,
   "id": "c9ca2d58",
   "metadata": {
    "scrolled": true
   },
   "outputs": [
    {
     "name": "stdout",
     "output_type": "stream",
     "text": [
      "[146, 76, 304, 304, 214, 134, 314, 214, 199, 199, 147, 263, 199, 129, 186, 216, 216, 216, 216, 216, 300, 216, 216, 216, 216, 216, 345, 369, 369, 301, 300, 274, 263, 259, 288, 205, 205, 150, 163, 76, 117, 117, 59, 91, 103, 144, 190, 189, 159, 189, 189, 189, 189, 189, 190, 189, 160, 160, 160, 173, 173, 228, 228, 228, 214, 214, 214, 199, 200, 200, 200, 200, 200, 200, 200, 200, 202, 185]\n"
     ]
    }
   ],
   "source": [
    "print(charg_point['grid number'].tolist())"
   ]
  },
  {
   "cell_type": "code",
   "execution_count": 49,
   "id": "acb8f874",
   "metadata": {},
   "outputs": [
    {
     "name": "stdout",
     "output_type": "stream",
     "text": [
      "[2, 15, 16]\n"
     ]
    },
    {
     "data": {
      "text/plain": [
       "100    [86, 87, 88, 100, 102, 114, 115, 116]\n",
       "101    [87, 88, 89, 101, 103, 115, 116, 117]\n",
       "102    [88, 89, 90, 102, 104, 116, 117, 118]\n",
       "103    [89, 90, 91, 103, 105, 117, 118, 119]\n",
       "104    [90, 91, 92, 104, 106, 118, 119, 120]\n",
       "Name: NEIGHBORS, dtype: object"
      ]
     },
     "execution_count": 49,
     "metadata": {},
     "output_type": "execute_result"
    }
   ],
   "source": [
    "# neighbour grids\n",
    "grid_neighbor = demand['NEIGHBORS']\n",
    "print(grid_neighbor[0])\n",
    "grid_neighbor[100:105]"
   ]
  },
  {
   "cell_type": "code",
   "execution_count": null,
   "id": "9efeaec1",
   "metadata": {},
   "outputs": [],
   "source": [
    "# "
   ]
  },
  {
   "cell_type": "code",
   "execution_count": 44,
   "id": "9d286658",
   "metadata": {},
   "outputs": [],
   "source": [
    "# satisfying demand of the 4 years\n",
    "# not necessary, just putting it here for now\n",
    "# demand can also be satisfied by neighbour girds\n",
    "\n",
    "location.addConstraint(sum((slow_c[1]*x1[t1,i] + fast_c[1]*x2[t1,i] + rapid_c[1]*x3[t1,i] + sat_demand[i]) for t1 in range(1))>=\n",
    "                               demand.loc[demand['Ref'] == i+1, 'Demand_0'].iloc[0]-300 for i in grids)\n",
    "location.addConstraint(sum((slow_c[1]*x1[t1,i] + fast_c[1]*x2[t1,i] + rapid_c[1]*x3[t1,i] + sat_demand[i]) for t1 in range(2))>=\n",
    "                               demand.loc[demand['Ref'] == i+1, 'Demand_0'].iloc[0]-300 for i in grids)\n",
    "location.addConstraint(sum((slow_c[1]*x1[t1,i] + fast_c[1]*x2[t1,i] + rapid_c[1]*x3[t1,i] + sat_demand[i]) for t1 in range(3))>=\n",
    "                               demand.loc[demand['Ref'] == i+1, 'Demand_0'].iloc[0]-300 for i in grids)\n",
    "location.addConstraint(sum((slow_c[1]*x1[t1,i] + fast_c[1]*x2[t1,i] + rapid_c[1]*x3[t1,i] + sat_demand[i]) for t1 in range(4))>=\n",
    "                               demand.loc[demand['Ref'] == i+1, 'Demand_0'].iloc[0]-300 for i in grids)"
   ]
  },
  {
   "cell_type": "code",
   "execution_count": 30,
   "id": "752481db",
   "metadata": {},
   "outputs": [
    {
     "data": {
      "text/plain": [
       "[59, 61, 75, 76, 77, 88, 89, 90, 91, 101]"
      ]
     },
     "execution_count": 30,
     "metadata": {},
     "output_type": "execute_result"
    }
   ],
   "source": [
    "# grid number of existing charging points\n",
    "ex_pt = charg_point['grid number'].tolist()\n",
    "# grid number of potential charging points\n",
    "po_pt = pt_charg_point['grid number'].tolist()\n",
    "all_pt = ex_pt + po_pt\n",
    "# combine existing charging points and potential ones\n",
    "# remove duplicates and sort it\n",
    "all_pt = sorted(list(dict.fromkeys(all_pt)))\n",
    "all_pt[:10]"
   ]
  },
  {
   "cell_type": "code",
   "execution_count": 31,
   "id": "9304c26d",
   "metadata": {},
   "outputs": [
    {
     "name": "stdout",
     "output_type": "stream",
     "text": [
      "111\n"
     ]
    }
   ],
   "source": [
    "print(len(all_pt))"
   ]
  },
  {
   "cell_type": "code",
   "execution_count": 32,
   "id": "bf7d8554",
   "metadata": {},
   "outputs": [
    {
     "name": "stdout",
     "output_type": "stream",
     "text": [
      "325\n",
      "98\n"
     ]
    }
   ],
   "source": [
    "# more than one potential charging stations in one grid\n",
    "# for potential charging stations in the same grid, they have different geometry\n",
    "print(len(po_pt))\n",
    "print(len(list(dict.fromkeys(po_pt))))"
   ]
  },
  {
   "cell_type": "code",
   "execution_count": 33,
   "id": "fa69d5bd",
   "metadata": {},
   "outputs": [
    {
     "data": {
      "text/html": [
       "<div>\n",
       "<style scoped>\n",
       "    .dataframe tbody tr th:only-of-type {\n",
       "        vertical-align: middle;\n",
       "    }\n",
       "\n",
       "    .dataframe tbody tr th {\n",
       "        vertical-align: top;\n",
       "    }\n",
       "\n",
       "    .dataframe thead th {\n",
       "        text-align: right;\n",
       "    }\n",
       "</style>\n",
       "<table border=\"1\" class=\"dataframe\">\n",
       "  <thead>\n",
       "    <tr style=\"text-align: right;\">\n",
       "      <th></th>\n",
       "      <th>amenity</th>\n",
       "      <th>geometry</th>\n",
       "      <th>Latitude</th>\n",
       "      <th>Longitude</th>\n",
       "      <th>grid number</th>\n",
       "    </tr>\n",
       "  </thead>\n",
       "  <tbody>\n",
       "    <tr>\n",
       "      <th>0</th>\n",
       "      <td>parking</td>\n",
       "      <td>POINT (-3.046891287099621 56.46621650001012)</td>\n",
       "      <td>56.466217</td>\n",
       "      <td>-3.046891</td>\n",
       "      <td>89</td>\n",
       "    </tr>\n",
       "    <tr>\n",
       "      <th>1</th>\n",
       "      <td>fuel</td>\n",
       "      <td>POINT (-2.848473686941031 56.47224079999363)</td>\n",
       "      <td>56.472241</td>\n",
       "      <td>-2.848474</td>\n",
       "      <td>412</td>\n",
       "    </tr>\n",
       "    <tr>\n",
       "      <th>2</th>\n",
       "      <td>parking</td>\n",
       "      <td>POINT (-2.895034186977277 56.47320819999986)</td>\n",
       "      <td>56.473208</td>\n",
       "      <td>-2.895034</td>\n",
       "      <td>328</td>\n",
       "    </tr>\n",
       "    <tr>\n",
       "      <th>3</th>\n",
       "      <td>fuel</td>\n",
       "      <td>POINT (-2.963304387034162 56.46350399999802)</td>\n",
       "      <td>56.463504</td>\n",
       "      <td>-2.963304</td>\n",
       "      <td>228</td>\n",
       "    </tr>\n",
       "    <tr>\n",
       "      <th>4</th>\n",
       "      <td>fuel</td>\n",
       "      <td>POINT (-2.9776499870463 56.46097389999711)</td>\n",
       "      <td>56.460974</td>\n",
       "      <td>-2.977650</td>\n",
       "      <td>200</td>\n",
       "    </tr>\n",
       "    <tr>\n",
       "      <th>...</th>\n",
       "      <td>...</td>\n",
       "      <td>...</td>\n",
       "      <td>...</td>\n",
       "      <td>...</td>\n",
       "      <td>...</td>\n",
       "    </tr>\n",
       "    <tr>\n",
       "      <th>320</th>\n",
       "      <td>parking</td>\n",
       "      <td>POINT (-3.049633514318001 56.46803411923985)</td>\n",
       "      <td>56.468034</td>\n",
       "      <td>-3.049634</td>\n",
       "      <td>90</td>\n",
       "    </tr>\n",
       "    <tr>\n",
       "      <th>321</th>\n",
       "      <td>parking</td>\n",
       "      <td>POINT (-3.04807983709986 56.46847420001244)</td>\n",
       "      <td>56.468474</td>\n",
       "      <td>-3.048080</td>\n",
       "      <td>90</td>\n",
       "    </tr>\n",
       "    <tr>\n",
       "      <th>322</th>\n",
       "      <td>parking</td>\n",
       "      <td>POINT (-3.049187742371133 56.46811767026757)</td>\n",
       "      <td>56.468118</td>\n",
       "      <td>-3.049188</td>\n",
       "      <td>90</td>\n",
       "    </tr>\n",
       "    <tr>\n",
       "      <th>323</th>\n",
       "      <td>parking</td>\n",
       "      <td>POINT (-2.984290155389708 56.45541694403015)</td>\n",
       "      <td>56.455417</td>\n",
       "      <td>-2.984290</td>\n",
       "      <td>185</td>\n",
       "    </tr>\n",
       "    <tr>\n",
       "      <th>324</th>\n",
       "      <td>parking</td>\n",
       "      <td>POINT (-2.976606342622262 56.46307233160453)</td>\n",
       "      <td>56.463072</td>\n",
       "      <td>-2.976606</td>\n",
       "      <td>200</td>\n",
       "    </tr>\n",
       "  </tbody>\n",
       "</table>\n",
       "<p>325 rows × 5 columns</p>\n",
       "</div>"
      ],
      "text/plain": [
       "     amenity                                      geometry   Latitude  \\\n",
       "0    parking  POINT (-3.046891287099621 56.46621650001012)  56.466217   \n",
       "1       fuel  POINT (-2.848473686941031 56.47224079999363)  56.472241   \n",
       "2    parking  POINT (-2.895034186977277 56.47320819999986)  56.473208   \n",
       "3       fuel  POINT (-2.963304387034162 56.46350399999802)  56.463504   \n",
       "4       fuel    POINT (-2.9776499870463 56.46097389999711)  56.460974   \n",
       "..       ...                                           ...        ...   \n",
       "320  parking  POINT (-3.049633514318001 56.46803411923985)  56.468034   \n",
       "321  parking   POINT (-3.04807983709986 56.46847420001244)  56.468474   \n",
       "322  parking  POINT (-3.049187742371133 56.46811767026757)  56.468118   \n",
       "323  parking  POINT (-2.984290155389708 56.45541694403015)  56.455417   \n",
       "324  parking  POINT (-2.976606342622262 56.46307233160453)  56.463072   \n",
       "\n",
       "     Longitude  grid number  \n",
       "0    -3.046891           89  \n",
       "1    -2.848474          412  \n",
       "2    -2.895034          328  \n",
       "3    -2.963304          228  \n",
       "4    -2.977650          200  \n",
       "..         ...          ...  \n",
       "320  -3.049634           90  \n",
       "321  -3.048080           90  \n",
       "322  -3.049188           90  \n",
       "323  -2.984290          185  \n",
       "324  -2.976606          200  \n",
       "\n",
       "[325 rows x 5 columns]"
      ]
     },
     "execution_count": 33,
     "metadata": {},
     "output_type": "execute_result"
    }
   ],
   "source": [
    "pt_charg_point.sort_values('grid number')\n",
    "pt_charg_point"
   ]
  },
  {
   "cell_type": "code",
   "execution_count": null,
   "id": "811488ef",
   "metadata": {},
   "outputs": [],
   "source": []
  },
  {
   "cell_type": "code",
   "execution_count": null,
   "id": "b1068720",
   "metadata": {},
   "outputs": [],
   "source": [
    "# as to the solution requirements\n",
    "# 1 The council wants to limit the number of charging point locations in each grid square as this may \n",
    "# result in too much traffic in the grid square.\n",
    "# 2 The council also to limit the number of charging stations in the city centre. Generally\n",
    "# the largest demand for recharging facilities in the centre of town, however, if all this\n",
    "# demand is satisfied in the city centre it may result in increase traffic in the city centre."
   ]
  },
  {
   "cell_type": "code",
   "execution_count": 36,
   "id": "122ab68f",
   "metadata": {},
   "outputs": [
    {
     "data": {
      "text/plain": [
       "0      8403.561223\n",
       "1      8296.571785\n",
       "2      8224.414999\n",
       "3      8188.011805\n",
       "4      8187.839098\n",
       "          ...     \n",
       "429    8706.537927\n",
       "430    8908.916529\n",
       "431    9139.388454\n",
       "432    9395.886624\n",
       "433    9676.341567\n",
       "Name: Distance from Centre, Length: 434, dtype: float64"
      ]
     },
     "execution_count": 36,
     "metadata": {},
     "output_type": "execute_result"
    }
   ],
   "source": [
    "# we can minimize the (distance from city center * number of chargers for each grid) \n",
    "# use the dataframe demand\n",
    "grid_dis = demand['Distance from Centre']\n",
    "grid_dis"
   ]
  },
  {
   "cell_type": "code",
   "execution_count": null,
   "id": "6041b325",
   "metadata": {},
   "outputs": [],
   "source": []
  },
  {
   "cell_type": "code",
   "execution_count": 45,
   "id": "feb742e3",
   "metadata": {},
   "outputs": [],
   "source": [
    "location.setObjective(xp.Sum((9676.341567 - grid_dis[i])*xp.Sum((x1[t,i] + x2[t,i] + x3[t,i]) for t in years) \n",
    "                         for i in grids), \n",
    "                  sense = xp.minimize)"
   ]
  },
  {
   "cell_type": "code",
   "execution_count": 46,
   "id": "84f5891f",
   "metadata": {},
   "outputs": [
    {
     "name": "stdout",
     "output_type": "stream",
     "text": [
      "FICO Xpress v8.13.7, Hyper, solve started 22:14:56, Nov 18, 2022\n",
      "Heap usage: 2410KB (peak 2410KB, 820KB system)\n",
      "Minimizing LP location using up to 8 threads, with these control settings:\n",
      "OUTPUTLOG = 1\n",
      "Original problem has:\n",
      "      2170 rows         5208 cols        18228 elements\n",
      "The problem is unbounded due to column x1_0_14\n",
      "Presolve finished in 0 seconds\n",
      "Heap usage: 2060KB (peak 3867KB, 820KB system)\n"
     ]
    }
   ],
   "source": [
    "location.solve()"
   ]
  },
  {
   "cell_type": "code",
   "execution_count": 47,
   "id": "6dea364f",
   "metadata": {},
   "outputs": [
    {
     "name": "stdout",
     "output_type": "stream",
     "text": [
      "The objective function value is 0.0\n"
     ]
    }
   ],
   "source": [
    "print(f'The objective function value is {location.getObjVal()}') "
   ]
  },
  {
   "cell_type": "code",
   "execution_count": null,
   "id": "15d1083b",
   "metadata": {},
   "outputs": [],
   "source": []
  }
 ],
 "metadata": {
  "kernelspec": {
   "display_name": "Python 3 (ipykernel)",
   "language": "python",
   "name": "python3"
  },
  "language_info": {
   "codemirror_mode": {
    "name": "ipython",
    "version": 3
   },
   "file_extension": ".py",
   "mimetype": "text/x-python",
   "name": "python",
   "nbconvert_exporter": "python",
   "pygments_lexer": "ipython3",
   "version": "3.9.13"
  }
 },
 "nbformat": 4,
 "nbformat_minor": 5
}
