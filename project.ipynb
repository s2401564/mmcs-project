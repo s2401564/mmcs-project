{
 "cells": [
  {
   "cell_type": "code",
   "execution_count": 1,
   "id": "0b5e0257",
   "metadata": {},
   "outputs": [],
   "source": [
    "import xpress as xp\n",
    "import pandas as pd\n",
    "import numpy as np\n",
    "import os"
   ]
  },
  {
   "cell_type": "code",
   "execution_count": 31,
   "id": "379385d9",
   "metadata": {},
   "outputs": [],
   "source": [
    "# Create a problem called location\n",
    "\n",
    "location = xp.problem(name='location')"
   ]
  },
  {
   "cell_type": "code",
   "execution_count": 5,
   "id": "13c2c8c2",
   "metadata": {},
   "outputs": [
    {
     "name": "stdout",
     "output_type": "stream",
     "text": [
      "Collecting package metadata (current_repodata.json): done\n",
      "Solving environment: done\n",
      "\n",
      "# All requested packages already installed.\n",
      "\n",
      "Retrieving notices: ...working... done\n",
      "\n",
      "Note: you may need to restart the kernel to use updated packages.\n"
     ]
    }
   ],
   "source": [
    "conda install -c anaconda openpyxl"
   ]
  },
  {
   "cell_type": "code",
   "execution_count": 3,
   "id": "51c94360",
   "metadata": {
    "scrolled": true
   },
   "outputs": [],
   "source": [
    "# already existing charging points\n",
    "\n",
    "charg_point_path = os.path.join('Project_data/Charging_points.xlsx')\n",
    "charg_point = pd.read_excel(charg_point_path)"
   ]
  },
  {
   "cell_type": "code",
   "execution_count": 4,
   "id": "e82182be",
   "metadata": {},
   "outputs": [
    {
     "data": {
      "text/html": [
       "<div>\n",
       "<style scoped>\n",
       "    .dataframe tbody tr th:only-of-type {\n",
       "        vertical-align: middle;\n",
       "    }\n",
       "\n",
       "    .dataframe tbody tr th {\n",
       "        vertical-align: top;\n",
       "    }\n",
       "\n",
       "    .dataframe thead th {\n",
       "        text-align: right;\n",
       "    }\n",
       "</style>\n",
       "<table border=\"1\" class=\"dataframe\">\n",
       "  <thead>\n",
       "    <tr style=\"text-align: right;\">\n",
       "      <th></th>\n",
       "      <th>CP ID</th>\n",
       "      <th>Type</th>\n",
       "      <th>geometry</th>\n",
       "      <th>Latitude</th>\n",
       "      <th>Longitude</th>\n",
       "      <th>grid number</th>\n",
       "    </tr>\n",
       "  </thead>\n",
       "  <tbody>\n",
       "    <tr>\n",
       "      <th>0</th>\n",
       "      <td>51085</td>\n",
       "      <td>Slow</td>\n",
       "      <td>POINT (-3.011192785069142 56.47296514001275)</td>\n",
       "      <td>56.472965</td>\n",
       "      <td>-3.011193</td>\n",
       "      <td>146</td>\n",
       "    </tr>\n",
       "    <tr>\n",
       "      <th>1</th>\n",
       "      <td>SCO50884</td>\n",
       "      <td>Fast</td>\n",
       "      <td>POINT (-3.057191218106697 56.46983341001484)</td>\n",
       "      <td>56.469833</td>\n",
       "      <td>-3.057191</td>\n",
       "      <td>76</td>\n",
       "    </tr>\n",
       "    <tr>\n",
       "      <th>2</th>\n",
       "      <td>50264</td>\n",
       "      <td>Slow</td>\n",
       "      <td>POINT (-2.917475282989725 56.48982926001875)</td>\n",
       "      <td>56.489829</td>\n",
       "      <td>-2.917475</td>\n",
       "      <td>304</td>\n",
       "    </tr>\n",
       "    <tr>\n",
       "      <th>3</th>\n",
       "      <td>50263</td>\n",
       "      <td>Slow</td>\n",
       "      <td>POINT (-2.91751565698979 56.48972199001865)</td>\n",
       "      <td>56.489722</td>\n",
       "      <td>-2.917516</td>\n",
       "      <td>304</td>\n",
       "    </tr>\n",
       "    <tr>\n",
       "      <th>4</th>\n",
       "      <td>50274</td>\n",
       "      <td>Fast</td>\n",
       "      <td>POINT (-2.966478267037299 56.46149715999641)</td>\n",
       "      <td>56.461497</td>\n",
       "      <td>-2.966478</td>\n",
       "      <td>214</td>\n",
       "    </tr>\n",
       "  </tbody>\n",
       "</table>\n",
       "</div>"
      ],
      "text/plain": [
       "      CP ID  Type                                      geometry   Latitude  \\\n",
       "0     51085  Slow  POINT (-3.011192785069142 56.47296514001275)  56.472965   \n",
       "1  SCO50884  Fast  POINT (-3.057191218106697 56.46983341001484)  56.469833   \n",
       "2     50264  Slow  POINT (-2.917475282989725 56.48982926001875)  56.489829   \n",
       "3     50263  Slow   POINT (-2.91751565698979 56.48972199001865)  56.489722   \n",
       "4     50274  Fast  POINT (-2.966478267037299 56.46149715999641)  56.461497   \n",
       "\n",
       "   Longitude  grid number  \n",
       "0  -3.011193          146  \n",
       "1  -3.057191           76  \n",
       "2  -2.917475          304  \n",
       "3  -2.917516          304  \n",
       "4  -2.966478          214  "
      ]
     },
     "execution_count": 4,
     "metadata": {},
     "output_type": "execute_result"
    }
   ],
   "source": [
    "charg_point.head()"
   ]
  },
  {
   "cell_type": "code",
   "execution_count": 5,
   "id": "26b04a2e",
   "metadata": {},
   "outputs": [
    {
     "data": {
      "text/plain": [
       "(78, 6)"
      ]
     },
     "execution_count": 5,
     "metadata": {},
     "output_type": "execute_result"
    }
   ],
   "source": [
    "charg_point.shape"
   ]
  },
  {
   "cell_type": "code",
   "execution_count": 6,
   "id": "c40c927c",
   "metadata": {},
   "outputs": [
    {
     "data": {
      "text/plain": [
       "CP ID                                                 51132\n",
       "Type                                                   Fast\n",
       "geometry       POINT (-2.984288107053444 56.45494890999196)\n",
       "Latitude                                          56.454949\n",
       "Longitude                                         -2.984288\n",
       "grid number                                             185\n",
       "Name: 77, dtype: object"
      ]
     },
     "execution_count": 6,
     "metadata": {},
     "output_type": "execute_result"
    }
   ],
   "source": [
    "charg_point.iloc[-1]"
   ]
  },
  {
   "cell_type": "code",
   "execution_count": 7,
   "id": "437cc532",
   "metadata": {},
   "outputs": [],
   "source": [
    "demand_path = os.path.join('Project_data/Demand_data.xlsx')\n",
    "demand = pd.read_excel(demand_path)"
   ]
  },
  {
   "cell_type": "code",
   "execution_count": 8,
   "id": "a50cf387",
   "metadata": {},
   "outputs": [
    {
     "data": {
      "text/html": [
       "<div>\n",
       "<style scoped>\n",
       "    .dataframe tbody tr th:only-of-type {\n",
       "        vertical-align: middle;\n",
       "    }\n",
       "\n",
       "    .dataframe tbody tr th {\n",
       "        vertical-align: top;\n",
       "    }\n",
       "\n",
       "    .dataframe thead th {\n",
       "        text-align: right;\n",
       "    }\n",
       "</style>\n",
       "<table border=\"1\" class=\"dataframe\">\n",
       "  <thead>\n",
       "    <tr style=\"text-align: right;\">\n",
       "      <th></th>\n",
       "      <th>Ref</th>\n",
       "      <th>geometry</th>\n",
       "      <th>Number of Charging Points</th>\n",
       "      <th>Number of Slow Charging Points</th>\n",
       "      <th>Number of Fast Charging Points</th>\n",
       "      <th>Number of Rapid Charging Points</th>\n",
       "      <th>Number of PoI</th>\n",
       "      <th>Number of Potential Locations</th>\n",
       "      <th>Distance from Centre</th>\n",
       "      <th>NEIGHBORS</th>\n",
       "      <th>Demand_0</th>\n",
       "      <th>Demand_1</th>\n",
       "      <th>Demand_2</th>\n",
       "      <th>Demand_3</th>\n",
       "    </tr>\n",
       "  </thead>\n",
       "  <tbody>\n",
       "    <tr>\n",
       "      <th>100</th>\n",
       "      <td>101</td>\n",
       "      <td>POLYGON ((-3.044190289672857 56.4533005586958,...</td>\n",
       "      <td>0</td>\n",
       "      <td>0</td>\n",
       "      <td>0</td>\n",
       "      <td>0</td>\n",
       "      <td>0</td>\n",
       "      <td>1</td>\n",
       "      <td>4442.921761</td>\n",
       "      <td>[86, 87, 88, 100, 102, 114, 115, 116]</td>\n",
       "      <td>0.0</td>\n",
       "      <td>0.000000</td>\n",
       "      <td>72.230017</td>\n",
       "      <td>241.821149</td>\n",
       "    </tr>\n",
       "    <tr>\n",
       "      <th>101</th>\n",
       "      <td>102</td>\n",
       "      <td>POLYGON ((-3.044324704148503 56.45819844677619...</td>\n",
       "      <td>0</td>\n",
       "      <td>0</td>\n",
       "      <td>0</td>\n",
       "      <td>0</td>\n",
       "      <td>0</td>\n",
       "      <td>3</td>\n",
       "      <td>4375.167312</td>\n",
       "      <td>[87, 88, 89, 101, 103, 115, 116, 117]</td>\n",
       "      <td>0.0</td>\n",
       "      <td>444.631572</td>\n",
       "      <td>968.172278</td>\n",
       "      <td>1627.425046</td>\n",
       "    </tr>\n",
       "    <tr>\n",
       "      <th>102</th>\n",
       "      <td>103</td>\n",
       "      <td>POLYGON ((-3.044459160842206 56.46309633075683...</td>\n",
       "      <td>0</td>\n",
       "      <td>0</td>\n",
       "      <td>0</td>\n",
       "      <td>0</td>\n",
       "      <td>1</td>\n",
       "      <td>11</td>\n",
       "      <td>4374.844088</td>\n",
       "      <td>[88, 89, 90, 102, 104, 116, 117, 118]</td>\n",
       "      <td>0.0</td>\n",
       "      <td>443.063371</td>\n",
       "      <td>1007.432635</td>\n",
       "      <td>1783.221659</td>\n",
       "    </tr>\n",
       "    <tr>\n",
       "      <th>103</th>\n",
       "      <td>104</td>\n",
       "      <td>POLYGON ((-3.044593659772223 56.46799421063793...</td>\n",
       "      <td>0</td>\n",
       "      <td>0</td>\n",
       "      <td>0</td>\n",
       "      <td>0</td>\n",
       "      <td>1</td>\n",
       "      <td>3</td>\n",
       "      <td>4441.966808</td>\n",
       "      <td>[89, 90, 91, 103, 105, 117, 118, 119]</td>\n",
       "      <td>0.0</td>\n",
       "      <td>444.257814</td>\n",
       "      <td>1387.704616</td>\n",
       "      <td>2920.679769</td>\n",
       "    </tr>\n",
       "    <tr>\n",
       "      <th>104</th>\n",
       "      <td>105</td>\n",
       "      <td>POLYGON ((-3.044728200956817 56.47289208641969...</td>\n",
       "      <td>0</td>\n",
       "      <td>0</td>\n",
       "      <td>0</td>\n",
       "      <td>0</td>\n",
       "      <td>0</td>\n",
       "      <td>2</td>\n",
       "      <td>4573.566879</td>\n",
       "      <td>[90, 91, 92, 104, 106, 118, 119, 120]</td>\n",
       "      <td>0.0</td>\n",
       "      <td>0.000000</td>\n",
       "      <td>488.563483</td>\n",
       "      <td>1595.447338</td>\n",
       "    </tr>\n",
       "    <tr>\n",
       "      <th>105</th>\n",
       "      <td>106</td>\n",
       "      <td>POLYGON ((-3.044862784414267 56.4777899581023,...</td>\n",
       "      <td>0</td>\n",
       "      <td>0</td>\n",
       "      <td>0</td>\n",
       "      <td>0</td>\n",
       "      <td>0</td>\n",
       "      <td>1</td>\n",
       "      <td>4764.304294</td>\n",
       "      <td>[91, 92, 93, 105, 107, 119, 120, 121]</td>\n",
       "      <td>0.0</td>\n",
       "      <td>0.000000</td>\n",
       "      <td>873.458540</td>\n",
       "      <td>2708.092266</td>\n",
       "    </tr>\n",
       "  </tbody>\n",
       "</table>\n",
       "</div>"
      ],
      "text/plain": [
       "     Ref                                           geometry  \\\n",
       "100  101  POLYGON ((-3.044190289672857 56.4533005586958,...   \n",
       "101  102  POLYGON ((-3.044324704148503 56.45819844677619...   \n",
       "102  103  POLYGON ((-3.044459160842206 56.46309633075683...   \n",
       "103  104  POLYGON ((-3.044593659772223 56.46799421063793...   \n",
       "104  105  POLYGON ((-3.044728200956817 56.47289208641969...   \n",
       "105  106  POLYGON ((-3.044862784414267 56.4777899581023,...   \n",
       "\n",
       "     Number of Charging Points  Number of Slow Charging Points  \\\n",
       "100                          0                               0   \n",
       "101                          0                               0   \n",
       "102                          0                               0   \n",
       "103                          0                               0   \n",
       "104                          0                               0   \n",
       "105                          0                               0   \n",
       "\n",
       "     Number of Fast Charging Points  Number of Rapid Charging Points  \\\n",
       "100                               0                                0   \n",
       "101                               0                                0   \n",
       "102                               0                                0   \n",
       "103                               0                                0   \n",
       "104                               0                                0   \n",
       "105                               0                                0   \n",
       "\n",
       "     Number of PoI  Number of Potential Locations  Distance from Centre  \\\n",
       "100              0                              1           4442.921761   \n",
       "101              0                              3           4375.167312   \n",
       "102              1                             11           4374.844088   \n",
       "103              1                              3           4441.966808   \n",
       "104              0                              2           4573.566879   \n",
       "105              0                              1           4764.304294   \n",
       "\n",
       "                                 NEIGHBORS  Demand_0    Demand_1     Demand_2  \\\n",
       "100  [86, 87, 88, 100, 102, 114, 115, 116]       0.0    0.000000    72.230017   \n",
       "101  [87, 88, 89, 101, 103, 115, 116, 117]       0.0  444.631572   968.172278   \n",
       "102  [88, 89, 90, 102, 104, 116, 117, 118]       0.0  443.063371  1007.432635   \n",
       "103  [89, 90, 91, 103, 105, 117, 118, 119]       0.0  444.257814  1387.704616   \n",
       "104  [90, 91, 92, 104, 106, 118, 119, 120]       0.0    0.000000   488.563483   \n",
       "105  [91, 92, 93, 105, 107, 119, 120, 121]       0.0    0.000000   873.458540   \n",
       "\n",
       "        Demand_3  \n",
       "100   241.821149  \n",
       "101  1627.425046  \n",
       "102  1783.221659  \n",
       "103  2920.679769  \n",
       "104  1595.447338  \n",
       "105  2708.092266  "
      ]
     },
     "execution_count": 8,
     "metadata": {},
     "output_type": "execute_result"
    }
   ],
   "source": [
    "demand.loc[100:105]"
   ]
  },
  {
   "cell_type": "code",
   "execution_count": 9,
   "id": "4d57ef3d",
   "metadata": {},
   "outputs": [],
   "source": [
    "# points of interest in each grid\n",
    "\n",
    "interest_point_path = os.path.join('Project_data/Interest _points.xlsx')\n",
    "interest_point = pd.read_excel(interest_point_path)"
   ]
  },
  {
   "cell_type": "code",
   "execution_count": 10,
   "id": "bbe51796",
   "metadata": {
    "scrolled": true
   },
   "outputs": [
    {
     "data": {
      "text/html": [
       "<div>\n",
       "<style scoped>\n",
       "    .dataframe tbody tr th:only-of-type {\n",
       "        vertical-align: middle;\n",
       "    }\n",
       "\n",
       "    .dataframe tbody tr th {\n",
       "        vertical-align: top;\n",
       "    }\n",
       "\n",
       "    .dataframe thead th {\n",
       "        text-align: right;\n",
       "    }\n",
       "</style>\n",
       "<table border=\"1\" class=\"dataframe\">\n",
       "  <thead>\n",
       "    <tr style=\"text-align: right;\">\n",
       "      <th></th>\n",
       "      <th>amenity</th>\n",
       "      <th>geometry</th>\n",
       "      <th>Latitude</th>\n",
       "      <th>Longitude</th>\n",
       "      <th>grid number</th>\n",
       "    </tr>\n",
       "  </thead>\n",
       "  <tbody>\n",
       "    <tr>\n",
       "      <th>0</th>\n",
       "      <td>restaurant</td>\n",
       "      <td>POINT (-2.852617986940523 56.48412800000578)</td>\n",
       "      <td>56.484128</td>\n",
       "      <td>-2.852618</td>\n",
       "      <td>400</td>\n",
       "    </tr>\n",
       "    <tr>\n",
       "      <th>1</th>\n",
       "      <td>restaurant</td>\n",
       "      <td>POINT (-2.849993386942502 56.47134889999293)</td>\n",
       "      <td>56.471349</td>\n",
       "      <td>-2.849993</td>\n",
       "      <td>398</td>\n",
       "    </tr>\n",
       "    <tr>\n",
       "      <th>2</th>\n",
       "      <td>restaurant</td>\n",
       "      <td>POINT (-2.872495786961546 56.46693379999114)</td>\n",
       "      <td>56.466934</td>\n",
       "      <td>-2.872496</td>\n",
       "      <td>369</td>\n",
       "    </tr>\n",
       "    <tr>\n",
       "      <th>3</th>\n",
       "      <td>restaurant</td>\n",
       "      <td>POINT (-2.873346686962511 56.46599179999032)</td>\n",
       "      <td>56.465992</td>\n",
       "      <td>-2.873347</td>\n",
       "      <td>369</td>\n",
       "    </tr>\n",
       "    <tr>\n",
       "      <th>4</th>\n",
       "      <td>restaurant</td>\n",
       "      <td>POINT (-2.873426086962618 56.46584759999016)</td>\n",
       "      <td>56.465848</td>\n",
       "      <td>-2.873426</td>\n",
       "      <td>369</td>\n",
       "    </tr>\n",
       "  </tbody>\n",
       "</table>\n",
       "</div>"
      ],
      "text/plain": [
       "      amenity                                      geometry   Latitude  \\\n",
       "0  restaurant  POINT (-2.852617986940523 56.48412800000578)  56.484128   \n",
       "1  restaurant  POINT (-2.849993386942502 56.47134889999293)  56.471349   \n",
       "2  restaurant  POINT (-2.872495786961546 56.46693379999114)  56.466934   \n",
       "3  restaurant  POINT (-2.873346686962511 56.46599179999032)  56.465992   \n",
       "4  restaurant  POINT (-2.873426086962618 56.46584759999016)  56.465848   \n",
       "\n",
       "   Longitude  grid number  \n",
       "0  -2.852618          400  \n",
       "1  -2.849993          398  \n",
       "2  -2.872496          369  \n",
       "3  -2.873347          369  \n",
       "4  -2.873426          369  "
      ]
     },
     "execution_count": 10,
     "metadata": {},
     "output_type": "execute_result"
    }
   ],
   "source": [
    "interest_point.head()"
   ]
  },
  {
   "cell_type": "code",
   "execution_count": 11,
   "id": "0873c5c5",
   "metadata": {},
   "outputs": [
    {
     "data": {
      "text/plain": [
       "{'restaurant', 'school', 'supermarket'}"
      ]
     },
     "execution_count": 11,
     "metadata": {},
     "output_type": "execute_result"
    }
   ],
   "source": [
    "amenity1 = set(interest_point['amenity'])\n",
    "amenity1"
   ]
  },
  {
   "cell_type": "code",
   "execution_count": 12,
   "id": "789929bc",
   "metadata": {},
   "outputs": [],
   "source": [
    "# potential charging points\n",
    "pt_charg_point_path = os.path.join('Project_data/Potential_charging_points.xlsx')\n",
    "pt_charg_point = pd.read_excel(pt_charg_point_path)"
   ]
  },
  {
   "cell_type": "code",
   "execution_count": 13,
   "id": "60d16ba6",
   "metadata": {},
   "outputs": [
    {
     "data": {
      "text/html": [
       "<div>\n",
       "<style scoped>\n",
       "    .dataframe tbody tr th:only-of-type {\n",
       "        vertical-align: middle;\n",
       "    }\n",
       "\n",
       "    .dataframe tbody tr th {\n",
       "        vertical-align: top;\n",
       "    }\n",
       "\n",
       "    .dataframe thead th {\n",
       "        text-align: right;\n",
       "    }\n",
       "</style>\n",
       "<table border=\"1\" class=\"dataframe\">\n",
       "  <thead>\n",
       "    <tr style=\"text-align: right;\">\n",
       "      <th></th>\n",
       "      <th>amenity</th>\n",
       "      <th>geometry</th>\n",
       "      <th>Latitude</th>\n",
       "      <th>Longitude</th>\n",
       "      <th>grid number</th>\n",
       "    </tr>\n",
       "  </thead>\n",
       "  <tbody>\n",
       "    <tr>\n",
       "      <th>0</th>\n",
       "      <td>parking</td>\n",
       "      <td>POINT (-3.046891287099621 56.46621650001012)</td>\n",
       "      <td>56.466217</td>\n",
       "      <td>-3.046891</td>\n",
       "      <td>89</td>\n",
       "    </tr>\n",
       "    <tr>\n",
       "      <th>1</th>\n",
       "      <td>fuel</td>\n",
       "      <td>POINT (-2.848473686941031 56.47224079999363)</td>\n",
       "      <td>56.472241</td>\n",
       "      <td>-2.848474</td>\n",
       "      <td>412</td>\n",
       "    </tr>\n",
       "    <tr>\n",
       "      <th>2</th>\n",
       "      <td>parking</td>\n",
       "      <td>POINT (-2.895034186977277 56.47320819999986)</td>\n",
       "      <td>56.473208</td>\n",
       "      <td>-2.895034</td>\n",
       "      <td>328</td>\n",
       "    </tr>\n",
       "    <tr>\n",
       "      <th>3</th>\n",
       "      <td>fuel</td>\n",
       "      <td>POINT (-2.963304387034162 56.46350399999802)</td>\n",
       "      <td>56.463504</td>\n",
       "      <td>-2.963304</td>\n",
       "      <td>228</td>\n",
       "    </tr>\n",
       "    <tr>\n",
       "      <th>4</th>\n",
       "      <td>fuel</td>\n",
       "      <td>POINT (-2.9776499870463 56.46097389999711)</td>\n",
       "      <td>56.460974</td>\n",
       "      <td>-2.977650</td>\n",
       "      <td>200</td>\n",
       "    </tr>\n",
       "  </tbody>\n",
       "</table>\n",
       "</div>"
      ],
      "text/plain": [
       "   amenity                                      geometry   Latitude  \\\n",
       "0  parking  POINT (-3.046891287099621 56.46621650001012)  56.466217   \n",
       "1     fuel  POINT (-2.848473686941031 56.47224079999363)  56.472241   \n",
       "2  parking  POINT (-2.895034186977277 56.47320819999986)  56.473208   \n",
       "3     fuel  POINT (-2.963304387034162 56.46350399999802)  56.463504   \n",
       "4     fuel    POINT (-2.9776499870463 56.46097389999711)  56.460974   \n",
       "\n",
       "   Longitude  grid number  \n",
       "0  -3.046891           89  \n",
       "1  -2.848474          412  \n",
       "2  -2.895034          328  \n",
       "3  -2.963304          228  \n",
       "4  -2.977650          200  "
      ]
     },
     "execution_count": 13,
     "metadata": {},
     "output_type": "execute_result"
    }
   ],
   "source": [
    "pt_charg_point.head()"
   ]
  },
  {
   "cell_type": "code",
   "execution_count": 14,
   "id": "d546a84b",
   "metadata": {},
   "outputs": [
    {
     "name": "stdout",
     "output_type": "stream",
     "text": [
      "0       89\n",
      "1      412\n",
      "2      328\n",
      "3      228\n",
      "4      200\n",
      "      ... \n",
      "320     90\n",
      "321     90\n",
      "322     90\n",
      "323    185\n",
      "324    200\n",
      "Name: grid number, Length: 325, dtype: int64\n"
     ]
    }
   ],
   "source": [
    "print(pt_charg_point['grid number'])"
   ]
  },
  {
   "cell_type": "code",
   "execution_count": 15,
   "id": "4517f7cf",
   "metadata": {},
   "outputs": [
    {
     "data": {
      "text/plain": [
       "{'fuel', 'parking'}"
      ]
     },
     "execution_count": 15,
     "metadata": {},
     "output_type": "execute_result"
    }
   ],
   "source": [
    "amenity2 = set(pt_charg_point['amenity'])\n",
    "amenity2"
   ]
  },
  {
   "cell_type": "code",
   "execution_count": 32,
   "id": "feb8a0e9",
   "metadata": {},
   "outputs": [],
   "source": [
    "# Defining the index set\n",
    "\n",
    "number_of_grids = 434\n",
    "number_of_years = 4\n",
    "grids = range(number_of_grids)\n",
    "years = range(number_of_years)"
   ]
  },
  {
   "cell_type": "code",
   "execution_count": 17,
   "id": "003f54d6",
   "metadata": {},
   "outputs": [],
   "source": [
    "# the demand every slow/ fast/ rapid chargers can satisfy\n",
    "slow_c = [2000, 3500]\n",
    "fast_c = [4000, 5200]\n",
    "rapid_c = [30000, 50500]"
   ]
  },
  {
   "cell_type": "code",
   "execution_count": null,
   "id": "19cf2699",
   "metadata": {},
   "outputs": [],
   "source": []
  },
  {
   "cell_type": "code",
   "execution_count": null,
   "id": "19d8786a",
   "metadata": {},
   "outputs": [],
   "source": []
  },
  {
   "cell_type": "code",
   "execution_count": 33,
   "id": "91a2c337",
   "metadata": {},
   "outputs": [],
   "source": [
    "# how many slow/ fast/ rapid connectors to have in each potential grid in year t\n",
    "x1 = np.array([xp.var( name='x1_{0}_{1}'.format(i,j+1))\n",
    "                    for i in years for j in grids], dtype=xp.npvar).reshape(number_of_years, number_of_grids)\n",
    "x2 = np.array([xp.var( name='x2_{0}_{1}'.format(i,j+1))\n",
    "                    for i in years for j in grids], dtype=xp.npvar).reshape(number_of_years, number_of_grids)\n",
    "x3 = np.array([xp.var( name='x3_{0}_{1}'.format(i,j+1))\n",
    "                    for i in years for j in grids], dtype=xp.npvar).reshape(number_of_years, number_of_grids)\n",
    "location.addVariable(x1, x2, x3)"
   ]
  },
  {
   "cell_type": "code",
   "execution_count": 34,
   "id": "0799e50f",
   "metadata": {},
   "outputs": [],
   "source": [
    "# for each potential charging point, we can install one or more charging stations\n",
    "location.addConstraint(sum((x1[t,i] + x2[t,i] + x3[t,i]) for t in years)>= 1 for i in grids)"
   ]
  },
  {
   "cell_type": "code",
   "execution_count": 35,
   "id": "9d286658",
   "metadata": {},
   "outputs": [],
   "source": [
    "# satisfying demand of the 4 years\n",
    "\n",
    "location.addConstraint(sum((slow_c[1]*x1[t1,i] + fast_c[1]*x2[t1,i] + rapid_c[1]*x3[t1,i]) for t1 in range(1))>=\n",
    "                               demand.loc[demand['Ref'] == i+1, 'Demand_0'].iloc[0] for i in grids)\n",
    "location.addConstraint(sum((slow_c[1]*x1[t1,i] + fast_c[1]*x2[t1,i] + rapid_c[1]*x3[t1,i]) for t1 in range(2))>=\n",
    "                               demand.loc[demand['Ref'] == i+1, 'Demand_0'].iloc[0] for i in grids)\n",
    "location.addConstraint(sum((slow_c[1]*x1[t1,i] + fast_c[1]*x2[t1,i] + rapid_c[1]*x3[t1,i]) for t1 in range(3))>=\n",
    "                               demand.loc[demand['Ref'] == i+1, 'Demand_0'].iloc[0] for i in grids)\n",
    "location.addConstraint(sum((slow_c[1]*x1[t1,i] + fast_c[1]*x2[t1,i] + rapid_c[1]*x3[t1,i]) for t1 in range(4))>=\n",
    "                               demand.loc[demand['Ref'] == i+1, 'Demand_0'].iloc[0] for i in grids)"
   ]
  },
  {
   "cell_type": "code",
   "execution_count": 21,
   "id": "04aa8b1a",
   "metadata": {},
   "outputs": [
    {
     "name": "stdout",
     "output_type": "stream",
     "text": [
      "444.6315721382473\n"
     ]
    }
   ],
   "source": [
    "print(demand.loc[demand['Ref'] == 102, 'Demand_1'].iloc[0])"
   ]
  },
  {
   "cell_type": "code",
   "execution_count": 22,
   "id": "b12fdc66",
   "metadata": {},
   "outputs": [
    {
     "name": "stdout",
     "output_type": "stream",
     "text": [
      "Slow\n"
     ]
    }
   ],
   "source": [
    "# demand satisfied by existing charging points?\n",
    "print(charg_point.loc[charg_point['grid number'] == 146, 'Type'].iloc[0])\n",
    "# this does not work if 146 is not an existing grid"
   ]
  },
  {
   "cell_type": "code",
   "execution_count": 23,
   "id": "75a03c0c",
   "metadata": {},
   "outputs": [],
   "source": [
    "# for i in grids\n",
    "    # if charg_point['grid number'] == 146???/\\\n",
    "        #if charg_point.loc[charg_point['grid number'] == 146, 'Type'].iloc[0] = 'slow'\n",
    "        #a = \n",
    "        #if charg_point.loc[charg_point['grid number'] == 146, 'Type'].iloc[0] = 'fast'\n",
    "        #if charg_point.loc[charg_point['grid number'] == 146, 'Type'].iloc[0] = 'rapid'\n",
    "    # else"
   ]
  },
  {
   "cell_type": "code",
   "execution_count": 51,
   "id": "179e136c",
   "metadata": {
    "scrolled": true
   },
   "outputs": [],
   "source": [
    "#for i in grids:\n",
    "    #if i+1 in charg_point['grid number'].tolist():\n",
    "        #print(i+1, charg_point.loc[charg_point['grid number'] == i+1, 'Type'].iloc[0])\n",
    "        \n",
    "# but in one grid, there might have existed more than 1 connectors\n",
    "sat_demand = number_of_grids*[0]\n",
    "for ind in charg_point.index:\n",
    "    #print(ind, charg_point.iloc[ind]['grid number'], charg_point.iloc[ind]['Type'])\n",
    "    # already satisfied demand\n",
    "    if charg_point.iloc[ind]['Type'] == 'Slow':\n",
    "        sat_demand[charg_point.iloc[ind]['grid number']-1] += slow_c[1]\n",
    "    elif charg_point.iloc[ind]['Type'] == 'Fast':\n",
    "        sat_demand[charg_point.iloc[ind]['grid number']-1] += fast_c[1]\n",
    "    elif charg_point.iloc[ind]['Type'] == 'Rapid':\n",
    "        sat_demand[charg_point.iloc[ind]['grid number']-1] += rapid_c[1]"
   ]
  },
  {
   "cell_type": "code",
   "execution_count": 53,
   "id": "7f130caf",
   "metadata": {},
   "outputs": [
    {
     "name": "stdout",
     "output_type": "stream",
     "text": [
      "31400\n"
     ]
    }
   ],
   "source": [
    "print(sat_demand[200-1])"
   ]
  },
  {
   "cell_type": "code",
   "execution_count": 55,
   "id": "dc65c16f",
   "metadata": {},
   "outputs": [
    {
     "name": "stdout",
     "output_type": "stream",
     "text": [
      "68    Fast\n",
      "69    Fast\n",
      "70    Slow\n",
      "71    Slow\n",
      "72    Slow\n",
      "73    Slow\n",
      "74    Slow\n",
      "75    Slow\n",
      "Name: Type, dtype: object\n"
     ]
    }
   ],
   "source": [
    "print(charg_point.loc[charg_point['grid number'] == 200, 'Type'])"
   ]
  },
  {
   "cell_type": "code",
   "execution_count": 41,
   "id": "a927c3a5",
   "metadata": {},
   "outputs": [
    {
     "name": "stdout",
     "output_type": "stream",
     "text": [
      "[146, 76, 304, 304, 214, 134, 314, 214, 199, 199, 147, 263, 199, 129, 186, 216, 216, 216, 216, 216, 300, 216, 216, 216, 216, 216, 345, 369, 369, 301, 300, 274, 263, 259, 288, 205, 205, 150, 163, 76, 117, 117, 59, 91, 103, 144, 190, 189, 159, 189, 189, 189, 189, 189, 190, 189, 160, 160, 160, 173, 173, 228, 228, 228, 214, 214, 214, 199, 200, 200, 200, 200, 200, 200, 200, 200, 202, 185]\n"
     ]
    }
   ],
   "source": [
    "print(charg_point['grid number'].tolist())"
   ]
  },
  {
   "cell_type": "code",
   "execution_count": 49,
   "id": "66bcf7f1",
   "metadata": {},
   "outputs": [
    {
     "name": "stdout",
     "output_type": "stream",
     "text": [
      "434\n"
     ]
    }
   ],
   "source": [
    "print(len(sat_demand))"
   ]
  },
  {
   "cell_type": "code",
   "execution_count": null,
   "id": "b1068720",
   "metadata": {},
   "outputs": [],
   "source": []
  },
  {
   "cell_type": "code",
   "execution_count": null,
   "id": "f235fab5",
   "metadata": {},
   "outputs": [],
   "source": [
    "# maybe to minimize the cost\n",
    "location.setObjective(, sense = xp.minimize)"
   ]
  },
  {
   "cell_type": "code",
   "execution_count": null,
   "id": "84f5891f",
   "metadata": {},
   "outputs": [],
   "source": [
    "location.solve()"
   ]
  },
  {
   "cell_type": "code",
   "execution_count": null,
   "id": "6023927a",
   "metadata": {},
   "outputs": [],
   "source": []
  },
  {
   "cell_type": "code",
   "execution_count": null,
   "id": "6dea364f",
   "metadata": {},
   "outputs": [],
   "source": []
  }
 ],
 "metadata": {
  "kernelspec": {
   "display_name": "Python 3 (ipykernel)",
   "language": "python",
   "name": "python3"
  },
  "language_info": {
   "codemirror_mode": {
    "name": "ipython",
    "version": 3
   },
   "file_extension": ".py",
   "mimetype": "text/x-python",
   "name": "python",
   "nbconvert_exporter": "python",
   "pygments_lexer": "ipython3",
   "version": "3.9.13"
  }
 },
 "nbformat": 4,
 "nbformat_minor": 5
}
